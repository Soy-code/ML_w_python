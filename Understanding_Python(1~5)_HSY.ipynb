{
  "nbformat": 4,
  "nbformat_minor": 0,
  "metadata": {
    "colab": {
      "name": "Understanding_Python(1~5)_HSY.ipynb",
      "provenance": [],
      "collapsed_sections": [],
      "authorship_tag": "ABX9TyOcS1uRRZOAei+brhGK51WU",
      "include_colab_link": true
    },
    "kernelspec": {
      "name": "python3",
      "display_name": "Python 3"
    }
  },
  "cells": [
    {
      "cell_type": "markdown",
      "metadata": {
        "id": "view-in-github",
        "colab_type": "text"
      },
      "source": [
        "<a href=\"https://colab.research.google.com/github/Soy-code/ML_w_python/blob/master/Understanding_Python(1~5)_HSY.ipynb\" target=\"_parent\"><img src=\"https://colab.research.google.com/assets/colab-badge.svg\" alt=\"Open In Colab\"/></a>"
      ]
    },
    {
      "cell_type": "markdown",
      "metadata": {
        "id": "i7Eq2ecHCCWW",
        "colab_type": "text"
      },
      "source": [
        "# 파이썬의 이해"
      ]
    },
    {
      "cell_type": "markdown",
      "metadata": {
        "id": "4JjtANHxCRnq",
        "colab_type": "text"
      },
      "source": [
        "### 1. python의 구문"
      ]
    },
    {
      "cell_type": "code",
      "metadata": {
        "id": "givIgURFFTxL",
        "colab_type": "code",
        "colab": {
          "base_uri": "https://localhost:8080/",
          "height": 90
        },
        "outputId": "25854334-721d-4495-acb2-4140f872abc7"
      },
      "source": [
        "print(\"welcome to python.\")\n",
        "print(\"It is fun learning Python.\")\n",
        "print(\"welcome to Python\") ; print(\"It is func learning Python.\")"
      ],
      "execution_count": 1,
      "outputs": [
        {
          "output_type": "stream",
          "text": [
            "welcome to python.\n",
            "It is fun learning Python.\n",
            "welcome to Python\n",
            "It is func learning Python.\n"
          ],
          "name": "stdout"
        }
      ]
    },
    {
      "cell_type": "code",
      "metadata": {
        "id": "RtgllyYzFhag",
        "colab_type": "code",
        "colab": {
          "base_uri": "https://localhost:8080/",
          "height": 35
        },
        "outputId": "47a9f744-d256-47c1-f263-1f4f8706f39e"
      },
      "source": [
        "# 줄 바꾸기\n",
        "sum = 10 + 20 + \\\n",
        "      30 + 40 + \\\n",
        "      30\n",
        "\n",
        "sum"
      ],
      "execution_count": 2,
      "outputs": [
        {
          "output_type": "execute_result",
          "data": {
            "text/plain": [
              "130"
            ]
          },
          "metadata": {
            "tags": []
          },
          "execution_count": 2
        }
      ]
    },
    {
      "cell_type": "code",
      "metadata": {
        "id": "wTncwo3AFoZx",
        "colab_type": "code",
        "colab": {
          "base_uri": "https://localhost:8080/",
          "height": 54
        },
        "outputId": "9c562fb9-e01e-4f49-b132-10f0b5432f0d"
      },
      "source": [
        "# 블록(Block), 들여쓰기(Indentation)\n",
        "if 10 > 3: \n",
        "  print(\"This is inside block\")\n",
        "  \n",
        "print(\"This is outside of block\")"
      ],
      "execution_count": 3,
      "outputs": [
        {
          "output_type": "stream",
          "text": [
            "This is inside block\n",
            "This is outside of block\n"
          ],
          "name": "stdout"
        }
      ]
    },
    {
      "cell_type": "markdown",
      "metadata": {
        "id": "WQ54qBuUGULs",
        "colab_type": "text"
      },
      "source": [
        "### 2. 변수와 자료형태"
      ]
    },
    {
      "cell_type": "code",
      "metadata": {
        "id": "iQCXpAvfF3nQ",
        "colab_type": "code",
        "colab": {
          "base_uri": "https://localhost:8080/",
          "height": 90
        },
        "outputId": "19122abb-8940-4560-8e64-1666103bd86d"
      },
      "source": [
        "# 변수의 입력\n",
        "name = \"Mike\"\n",
        "age = 15\n",
        "score = 102.5\n",
        "passed = True\n",
        "\n",
        "print(type(age))\n",
        "print(type(name))\n",
        "print(type(score))\n",
        "print(type(passed))\n"
      ],
      "execution_count": 4,
      "outputs": [
        {
          "output_type": "stream",
          "text": [
            "<class 'int'>\n",
            "<class 'str'>\n",
            "<class 'float'>\n",
            "<class 'bool'>\n"
          ],
          "name": "stdout"
        }
      ]
    },
    {
      "cell_type": "code",
      "metadata": {
        "id": "csE3MNzaGlfx",
        "colab_type": "code",
        "colab": {
          "base_uri": "https://localhost:8080/",
          "height": 35
        },
        "outputId": "5d38810b-5f02-4385-d1f2-e236334b518e"
      },
      "source": [
        "# List \n",
        "cars = [\"Honda\", \"Toyota\", 2002, 2015]\n",
        "print(len(cars))"
      ],
      "execution_count": 5,
      "outputs": [
        {
          "output_type": "stream",
          "text": [
            "4\n"
          ],
          "name": "stdout"
        }
      ]
    },
    {
      "cell_type": "code",
      "metadata": {
        "id": "PIHTlKTsHHVq",
        "colab_type": "code",
        "colab": {
          "base_uri": "https://localhost:8080/",
          "height": 92
        },
        "outputId": "ac569fc1-9cc1-4a66-89cf-3034c076a70a"
      },
      "source": [
        "colors = ['red', 'green', 'white', 'yellow']\n",
        "nums = list(range(10))\n",
        "print(nums)\n",
        "nums_1 = list(range(50, 101))\n",
        "print(nums_1)\n",
        "len(nums_1)"
      ],
      "execution_count": 6,
      "outputs": [
        {
          "output_type": "stream",
          "text": [
            "[0, 1, 2, 3, 4, 5, 6, 7, 8, 9]\n",
            "[50, 51, 52, 53, 54, 55, 56, 57, 58, 59, 60, 61, 62, 63, 64, 65, 66, 67, 68, 69, 70, 71, 72, 73, 74, 75, 76, 77, 78, 79, 80, 81, 82, 83, 84, 85, 86, 87, 88, 89, 90, 91, 92, 93, 94, 95, 96, 97, 98, 99, 100]\n"
          ],
          "name": "stdout"
        },
        {
          "output_type": "execute_result",
          "data": {
            "text/plain": [
              "51"
            ]
          },
          "metadata": {
            "tags": []
          },
          "execution_count": 6
        }
      ]
    },
    {
      "cell_type": "code",
      "metadata": {
        "id": "STePhsA1IREa",
        "colab_type": "code",
        "colab": {
          "base_uri": "https://localhost:8080/",
          "height": 54
        },
        "outputId": "3eea66a0-d7d4-4eb8-a9b0-afdc7643f493"
      },
      "source": [
        "print(colors[-4])\n",
        "print(colors[-1]) # 오른쪽 맨 끝부터는 -1부터 시작함"
      ],
      "execution_count": 7,
      "outputs": [
        {
          "output_type": "stream",
          "text": [
            "red\n",
            "yellow\n"
          ],
          "name": "stdout"
        }
      ]
    },
    {
      "cell_type": "code",
      "metadata": {
        "id": "5ivQ0TypHW4j",
        "colab_type": "code",
        "colab": {
          "base_uri": "https://localhost:8080/",
          "height": 90
        },
        "outputId": "413ca31f-4400-4b9e-9de7-c443420bd26a"
      },
      "source": [
        "# 편집(일부 원소 접근)\n",
        "print(colors)\n",
        "colors_1 = colors[:2] # colors[0] - colors[2-1]\n",
        "print(colors_1)\n",
        "colors_2 = colors[-2:] # colors[4-2+1] - colors[4]\n",
        "print(colors_2)\n",
        "colors_3 = colors[1:3] # colors[1] - colors[3-1]\n",
        "print(colors_3)"
      ],
      "execution_count": 8,
      "outputs": [
        {
          "output_type": "stream",
          "text": [
            "['red', 'green', 'white', 'yellow']\n",
            "['red', 'green']\n",
            "['white', 'yellow']\n",
            "['green', 'white']\n"
          ],
          "name": "stdout"
        }
      ]
    },
    {
      "cell_type": "code",
      "metadata": {
        "id": "Xh1vyjwAIOsz",
        "colab_type": "code",
        "colab": {
          "base_uri": "https://localhost:8080/",
          "height": 72
        },
        "outputId": "cf129715-5dd6-455f-92c6-02c9f2eb6a3b"
      },
      "source": [
        "# 행렬\n",
        "data = [[1, 15, 20, 36], [41, 20, 54, 47], [75, 46, 68, 2]] \n",
        "print(data)\n",
        "data_1 = data[1] \n",
        "print(data_1)\n",
        "data_2 = data[1][2]\n",
        "print(data_2)"
      ],
      "execution_count": 9,
      "outputs": [
        {
          "output_type": "stream",
          "text": [
            "[[1, 15, 20, 36], [41, 20, 54, 47], [75, 46, 68, 2]]\n",
            "[41, 20, 54, 47]\n",
            "54\n"
          ],
          "name": "stdout"
        }
      ]
    },
    {
      "cell_type": "code",
      "metadata": {
        "id": "Oe5ebDlDHzMX",
        "colab_type": "code",
        "colab": {
          "base_uri": "https://localhost:8080/",
          "height": 72
        },
        "outputId": "edeb9714-dd08-4a7d-cdf9-20620a0ac07a"
      },
      "source": [
        "colors = ['blue', 'white', 'yellow', 'red', 'black']\n",
        "colors.append('orange')  # 추가하기\n",
        "print(colors)\n",
        "colors.remove('white') # 제거하기\n",
        "print(colors)\n",
        "colors.sort()\n",
        "print(colors)  # alphabet order"
      ],
      "execution_count": 10,
      "outputs": [
        {
          "output_type": "stream",
          "text": [
            "['blue', 'white', 'yellow', 'red', 'black', 'orange']\n",
            "['blue', 'yellow', 'red', 'black', 'orange']\n",
            "['black', 'blue', 'orange', 'red', 'yellow']\n"
          ],
          "name": "stdout"
        }
      ]
    },
    {
      "cell_type": "code",
      "metadata": {
        "id": "Ye27K5X-Mk1s",
        "colab_type": "code",
        "colab": {
          "base_uri": "https://localhost:8080/",
          "height": 35
        },
        "outputId": "c2627df7-19ba-4d16-a8d2-61f63cb4d6b0"
      },
      "source": [
        "# Tuple \n",
        "abc_1 = ['a', 'b', 'c', 'd']\n",
        "abc_1[2] = 'p'\n",
        "print(abc_1)"
      ],
      "execution_count": 11,
      "outputs": [
        {
          "output_type": "stream",
          "text": [
            "['a', 'b', 'p', 'd']\n"
          ],
          "name": "stdout"
        }
      ]
    },
    {
      "cell_type": "code",
      "metadata": {
        "id": "an8qhupmNEGy",
        "colab_type": "code",
        "colab": {
          "base_uri": "https://localhost:8080/",
          "height": 191
        },
        "outputId": "f0345172-f90a-40c8-94a2-34bfd5e39a2b"
      },
      "source": [
        "abc_2 = ('a', 'b', 'c', 'd')\n",
        "abc_2[2] = 'p'   # 튜플은 못 고침"
      ],
      "execution_count": 12,
      "outputs": [
        {
          "output_type": "error",
          "ename": "TypeError",
          "evalue": "ignored",
          "traceback": [
            "\u001b[0;31m---------------------------------------------------------------------------\u001b[0m",
            "\u001b[0;31mTypeError\u001b[0m                                 Traceback (most recent call last)",
            "\u001b[0;32m<ipython-input-12-d931095c2939>\u001b[0m in \u001b[0;36m<module>\u001b[0;34m()\u001b[0m\n\u001b[1;32m      1\u001b[0m \u001b[0mabc_2\u001b[0m \u001b[0;34m=\u001b[0m \u001b[0;34m(\u001b[0m\u001b[0;34m'a'\u001b[0m\u001b[0;34m,\u001b[0m \u001b[0;34m'b'\u001b[0m\u001b[0;34m,\u001b[0m \u001b[0;34m'c'\u001b[0m\u001b[0;34m,\u001b[0m \u001b[0;34m'd'\u001b[0m\u001b[0;34m)\u001b[0m\u001b[0;34m\u001b[0m\u001b[0;34m\u001b[0m\u001b[0m\n\u001b[0;32m----> 2\u001b[0;31m \u001b[0mabc_2\u001b[0m\u001b[0;34m[\u001b[0m\u001b[0;36m2\u001b[0m\u001b[0;34m]\u001b[0m \u001b[0;34m=\u001b[0m \u001b[0;34m'p'\u001b[0m   \u001b[0;31m# 튜플은 못 고침\u001b[0m\u001b[0;34m\u001b[0m\u001b[0;34m\u001b[0m\u001b[0m\n\u001b[0m",
            "\u001b[0;31mTypeError\u001b[0m: 'tuple' object does not support item assignment"
          ]
        }
      ]
    },
    {
      "cell_type": "code",
      "metadata": {
        "id": "p5QDMYDENPnQ",
        "colab_type": "code",
        "colab": {
          "base_uri": "https://localhost:8080/",
          "height": 35
        },
        "outputId": "e2f5d45a-73b9-4d92-90e1-6ab287acd863"
      },
      "source": [
        "print(abc_2)"
      ],
      "execution_count": 13,
      "outputs": [
        {
          "output_type": "stream",
          "text": [
            "('a', 'b', 'c', 'd')\n"
          ],
          "name": "stdout"
        }
      ]
    },
    {
      "cell_type": "code",
      "metadata": {
        "id": "rcZ2YJj0NZQg",
        "colab_type": "code",
        "colab": {
          "base_uri": "https://localhost:8080/",
          "height": 72
        },
        "outputId": "0d1da872-b5af-476d-f1bc-ebbd48a9ac2f"
      },
      "source": [
        "# 짝짓기\n",
        "name = 'A', 'B', 'C'   # 이것도 튜플의 형태\n",
        "type(name)\n",
        "K_1, K_2, K_3 = name  # 각 변수에 name의 각 원소를 할당\n",
        "print(K_1) ; print(K_2) ; print(K_3)"
      ],
      "execution_count": 14,
      "outputs": [
        {
          "output_type": "stream",
          "text": [
            "A\n",
            "B\n",
            "C\n"
          ],
          "name": "stdout"
        }
      ]
    },
    {
      "cell_type": "code",
      "metadata": {
        "id": "IDbHzRx_Nn_H",
        "colab_type": "code",
        "colab": {
          "base_uri": "https://localhost:8080/",
          "height": 54
        },
        "outputId": "5baa7aaa-7f8e-45df-e2cb-2bde960fc3bc"
      },
      "source": [
        "# 스왑\n",
        "a, b = 11, 22 \n",
        "print(a, b)\n",
        "a, b = b, a\n",
        "print(a, b)  "
      ],
      "execution_count": 15,
      "outputs": [
        {
          "output_type": "stream",
          "text": [
            "11 22\n",
            "22 11\n"
          ],
          "name": "stdout"
        }
      ]
    },
    {
      "cell_type": "code",
      "metadata": {
        "id": "DpiTP6eqOBpw",
        "colab_type": "code",
        "colab": {
          "base_uri": "https://localhost:8080/",
          "height": 90
        },
        "outputId": "b9e0a679-85c2-4e33-cfa3-ea0f73430031"
      },
      "source": [
        "# dictionary (24:00)\n",
        "cars = {'name' : 'kia', 'model' : 2009, 'color' : 'white'}\n",
        "print(cars['name'])\n",
        "print(cars.keys())\n",
        "print(cars.values())\n",
        "print(cars.items())"
      ],
      "execution_count": 16,
      "outputs": [
        {
          "output_type": "stream",
          "text": [
            "kia\n",
            "dict_keys(['name', 'model', 'color'])\n",
            "dict_values(['kia', 2009, 'white'])\n",
            "dict_items([('name', 'kia'), ('model', 2009), ('color', 'white')])\n"
          ],
          "name": "stdout"
        }
      ]
    },
    {
      "cell_type": "code",
      "metadata": {
        "id": "TEr4rRG9kMI4",
        "colab_type": "code",
        "colab": {
          "base_uri": "https://localhost:8080/",
          "height": 72
        },
        "outputId": "943cc92f-398d-49a1-af84-5e8948de5d4c"
      },
      "source": [
        "cars['capacity'] = 1500 # 추가하는 것\n",
        "print(cars)\n",
        "cars['model'] = 2020  # 변경\n",
        "print(cars)\n",
        "del cars['model'] # 제거\n",
        "print(cars)"
      ],
      "execution_count": 17,
      "outputs": [
        {
          "output_type": "stream",
          "text": [
            "{'name': 'kia', 'model': 2009, 'color': 'white', 'capacity': 1500}\n",
            "{'name': 'kia', 'model': 2020, 'color': 'white', 'capacity': 1500}\n",
            "{'name': 'kia', 'color': 'white', 'capacity': 1500}\n"
          ],
          "name": "stdout"
        }
      ]
    },
    {
      "cell_type": "markdown",
      "metadata": {
        "id": "e5WvQKx4oRJs",
        "colab_type": "text"
      },
      "source": [
        "### 3. Python의 연산"
      ]
    },
    {
      "cell_type": "code",
      "metadata": {
        "id": "7cILlF_Po2rB",
        "colab_type": "code",
        "colab": {
          "base_uri": "https://localhost:8080/",
          "height": 145
        },
        "outputId": "7167f605-e4bf-4dbe-fb94-45269abb7384"
      },
      "source": [
        "# 산술연산\n",
        "n1 = 10\n",
        "n2 = 5\n",
        "print(n1 + n2)\n",
        "print(n1 - n2)\n",
        "print(n1 * n2)\n",
        "print(n1 / n2)\n",
        "print(n1 // n2)  # 나누고 몫\n",
        "print(n1 % n2)   # 나누고 나머지 \n",
        "print(n1 **  n2)  # n1^{n2}"
      ],
      "execution_count": 18,
      "outputs": [
        {
          "output_type": "stream",
          "text": [
            "15\n",
            "5\n",
            "50\n",
            "2.0\n",
            "2\n",
            "0\n",
            "100000\n"
          ],
          "name": "stdout"
        }
      ]
    },
    {
      "cell_type": "code",
      "metadata": {
        "id": "fNXNEwokpofI",
        "colab_type": "code",
        "colab": {
          "base_uri": "https://localhost:8080/",
          "height": 72
        },
        "outputId": "961a944f-09cc-4138-cc47-03fca7f820a8"
      },
      "source": [
        "# 논리연산\n",
        "n1 = True \n",
        "n2 = False\n",
        "print(n1 and n2)  # 교집합 \n",
        "print(n1 or n2)  # 합집합\n",
        "print(not(n1 and n2)) # 차집합  "
      ],
      "execution_count": 19,
      "outputs": [
        {
          "output_type": "stream",
          "text": [
            "False\n",
            "True\n",
            "True\n"
          ],
          "name": "stdout"
        }
      ]
    },
    {
      "cell_type": "code",
      "metadata": {
        "id": "9htEy9p_qAV4",
        "colab_type": "code",
        "colab": {
          "base_uri": "https://localhost:8080/",
          "height": 126
        },
        "outputId": "e15b7102-093c-48de-f60a-680ee3fc0597"
      },
      "source": [
        "  # 비교연산\n",
        "  n1 = 10\n",
        "  n2 = 5\n",
        "  print(n1 == n2)\n",
        "  print(n1 != n2)  # not equal\n",
        "  print(n1 > n2)\n",
        "  print(n1 >= n2)\n",
        "  print(n1 < n2)\n",
        "  print(n1 <= n2)"
      ],
      "execution_count": 20,
      "outputs": [
        {
          "output_type": "stream",
          "text": [
            "False\n",
            "True\n",
            "True\n",
            "True\n",
            "False\n",
            "False\n"
          ],
          "name": "stdout"
        }
      ]
    },
    {
      "cell_type": "code",
      "metadata": {
        "id": "ZTuhijUpqgEy",
        "colab_type": "code",
        "colab": {
          "base_uri": "https://localhost:8080/",
          "height": 126
        },
        "outputId": "3a94a0a4-834f-4ea3-db5a-f8249ddb3c74"
      },
      "source": [
        "# 할당연산\n",
        "n1 = 10 ; n2 = 5\n",
        "R = n1 + n2 ; print(R)\n",
        "n1 = 10 ; n2 = 5\n",
        "n1 += n2 ; print(n1)  # n1에다가 할당하는 것임. 그럼 이제 n1이 그 값을 가짐\n",
        "n1 = 10 ; n2 = 5\n",
        "n1 -= n2 ; print(n1)  \n",
        "n1 = 10 ; n2 = 5\n",
        "n1 /= n2 ; print(n1)  # n1에다가 나누기 n2 그럼 이제 n1이 그 값을 가짐\n",
        "n1 = 10 ; n2 = 5\n",
        "n1 *= n2 ; print(n1)\n",
        "n1 = 10 ; n2 = 5\n",
        "n1 **= n2 ; print(n1)"
      ],
      "execution_count": 21,
      "outputs": [
        {
          "output_type": "stream",
          "text": [
            "15\n",
            "15\n",
            "5\n",
            "2.0\n",
            "50\n",
            "100000\n"
          ],
          "name": "stdout"
        }
      ]
    },
    {
      "cell_type": "code",
      "metadata": {
        "id": "wDRT3NUg194x",
        "colab_type": "code",
        "colab": {
          "base_uri": "https://localhost:8080/",
          "height": 72
        },
        "outputId": "c8c635f2-6688-4836-cdaf-49085b86d795"
      },
      "source": [
        "# 존재 연산\n",
        "cars = ['Hyundai', 'Kia', 'Audi', 'Benz', 'Honda']  # 리스트 생성\n",
        "print('Hyundai' in cars)\n",
        "print('BMW' in cars)\n",
        "print('BMW' not in cars)"
      ],
      "execution_count": 22,
      "outputs": [
        {
          "output_type": "stream",
          "text": [
            "True\n",
            "False\n",
            "True\n"
          ],
          "name": "stdout"
        }
      ]
    },
    {
      "cell_type": "markdown",
      "metadata": {
        "id": "8z0AR9VYCt4p",
        "colab_type": "text"
      },
      "source": [
        "### 4. 조건문과 반복문"
      ]
    },
    {
      "cell_type": "code",
      "metadata": {
        "id": "nx0jhSorFw60",
        "colab_type": "code",
        "colab": {
          "base_uri": "https://localhost:8080/",
          "height": 35
        },
        "outputId": "b1f0f283-77f5-4605-db7e-87b12505c2ba"
      },
      "source": [
        "# 조건문과 반복문\n",
        "n1 = 10\n",
        "n2 = 5\n",
        "if n1 > n2 :\n",
        "  print(\"n1 is greater than n2\")\n",
        "else :\n",
        "    print(\"n1 is less than n2\")"
      ],
      "execution_count": 23,
      "outputs": [
        {
          "output_type": "stream",
          "text": [
            "n1 is greater than n2\n"
          ],
          "name": "stdout"
        }
      ]
    },
    {
      "cell_type": "code",
      "metadata": {
        "id": "PLSXC3asF5Aq",
        "colab_type": "code",
        "colab": {
          "base_uri": "https://localhost:8080/",
          "height": 35
        },
        "outputId": "16502fc8-b504-4a60-f8d9-9d85508a2cfd"
      },
      "source": [
        "# 조건에 논리연산자 사용\n",
        "n1 = 10 ; n2 = 20 ; n3 = 30 \n",
        "if n2 < n1 or n2 < n3 :\n",
        "  print('n2 < n2 or n2 < n3')"
      ],
      "execution_count": 24,
      "outputs": [
        {
          "output_type": "stream",
          "text": [
            "n2 < n2 or n2 < n3\n"
          ],
          "name": "stdout"
        }
      ]
    },
    {
      "cell_type": "code",
      "metadata": {
        "id": "lN_BARtkImJa",
        "colab_type": "code",
        "colab": {
          "base_uri": "https://localhost:8080/",
          "height": 35
        },
        "outputId": "7b7612fe-1814-484e-aef8-bf2a31f28256"
      },
      "source": [
        "# 중첩된 if 문\n",
        "if n2 > n1 :\n",
        "  if n2 > n3 : \n",
        "    print('n2 > n1 and n3 > n2')\n",
        "  else : \n",
        "    print('testing')"
      ],
      "execution_count": 25,
      "outputs": [
        {
          "output_type": "stream",
          "text": [
            "testing\n"
          ],
          "name": "stdout"
        }
      ]
    },
    {
      "cell_type": "code",
      "metadata": {
        "id": "odalYKs6JCsW",
        "colab_type": "code",
        "colab": {
          "base_uri": "https://localhost:8080/",
          "height": 35
        },
        "outputId": "142ea63e-0adf-4e04-fbfa-eca90448e815"
      },
      "source": [
        "# if/else 문\n",
        "if n1 > n2 : \n",
        "  print('n1 > n2')\n",
        "else :\n",
        "  print('n2 > n1')"
      ],
      "execution_count": 26,
      "outputs": [
        {
          "output_type": "stream",
          "text": [
            "n2 > n1\n"
          ],
          "name": "stdout"
        }
      ]
    },
    {
      "cell_type": "code",
      "metadata": {
        "id": "Ezv4aaaIJQl9",
        "colab_type": "code",
        "colab": {
          "base_uri": "https://localhost:8080/",
          "height": 35
        },
        "outputId": "e4e2e7bc-5868-476c-829c-7ccc81b9c340"
      },
      "source": [
        "# if/elif/else\n",
        "n1 = 10\n",
        "n2 = 20\n",
        "n3 = 30\n",
        "\n",
        "if n1 > n2 :\n",
        "  print('n1 > n2')\n",
        "elif n2 > n3 : \n",
        "  print('n2 > n3')\n",
        "elif n3 > n2 :\n",
        "  print('n3 > n2')\n",
        "else : \n",
        "  print(\"none of the conditions is satisfied.\")"
      ],
      "execution_count": 27,
      "outputs": [
        {
          "output_type": "stream",
          "text": [
            "n3 > n2\n"
          ],
          "name": "stdout"
        }
      ]
    },
    {
      "cell_type": "code",
      "metadata": {
        "id": "_ecA273BJ4y_",
        "colab_type": "code",
        "colab": {
          "base_uri": "https://localhost:8080/",
          "height": 90
        },
        "outputId": "42cbd056-9863-4536-efaa-723c5ae15b3d"
      },
      "source": [
        "# 반복문\n",
        "cars = ['AB', 'CD', 'EF', 'GH']\n",
        "for car in cars :\n",
        "  print(car)"
      ],
      "execution_count": 28,
      "outputs": [
        {
          "output_type": "stream",
          "text": [
            "AB\n",
            "CD\n",
            "EF\n",
            "GH\n"
          ],
          "name": "stdout"
        }
      ]
    },
    {
      "cell_type": "code",
      "metadata": {
        "id": "eHqXY4gENXXn",
        "colab_type": "code",
        "colab": {
          "base_uri": "https://localhost:8080/",
          "height": 199
        },
        "outputId": "a9fb53d9-b98c-4416-f93b-57053066f268"
      },
      "source": [
        "for i in range(10) :\n",
        "  print(i)"
      ],
      "execution_count": 29,
      "outputs": [
        {
          "output_type": "stream",
          "text": [
            "0\n",
            "1\n",
            "2\n",
            "3\n",
            "4\n",
            "5\n",
            "6\n",
            "7\n",
            "8\n",
            "9\n"
          ],
          "name": "stdout"
        }
      ]
    },
    {
      "cell_type": "code",
      "metadata": {
        "id": "8j8zfEXVNbV_",
        "colab_type": "code",
        "colab": {
          "base_uri": "https://localhost:8080/",
          "height": 108
        },
        "outputId": "7ec93ec3-f115-40e8-b075-65defa77a1e9"
      },
      "source": [
        "for i in range(50, 55) :\n",
        "  print(i)"
      ],
      "execution_count": 30,
      "outputs": [
        {
          "output_type": "stream",
          "text": [
            "50\n",
            "51\n",
            "52\n",
            "53\n",
            "54\n"
          ],
          "name": "stdout"
        }
      ]
    },
    {
      "cell_type": "code",
      "metadata": {
        "id": "eO5tKUN2NfZA",
        "colab_type": "code",
        "colab": {
          "base_uri": "https://localhost:8080/",
          "height": 217
        },
        "outputId": "902d8f3a-a880-4950-eb27-5a742615cddb"
      },
      "source": [
        "for c in \"Hello world\" :\n",
        "  print(c)"
      ],
      "execution_count": 31,
      "outputs": [
        {
          "output_type": "stream",
          "text": [
            "H\n",
            "e\n",
            "l\n",
            "l\n",
            "o\n",
            " \n",
            "w\n",
            "o\n",
            "r\n",
            "l\n",
            "d\n"
          ],
          "name": "stdout"
        }
      ]
    },
    {
      "cell_type": "code",
      "metadata": {
        "id": "5wjOiWbsNiAn",
        "colab_type": "code",
        "colab": {
          "base_uri": "https://localhost:8080/",
          "height": 90
        },
        "outputId": "95e1926b-2727-4d50-f02e-55c8b01def74"
      },
      "source": [
        "# while문\n",
        "i = 1\n",
        "while i < 5 :\n",
        "  print(i)\n",
        "  i += 1  # i에 1 더하는 걸 할당"
      ],
      "execution_count": 32,
      "outputs": [
        {
          "output_type": "stream",
          "text": [
            "1\n",
            "2\n",
            "3\n",
            "4\n"
          ],
          "name": "stdout"
        }
      ]
    },
    {
      "cell_type": "code",
      "metadata": {
        "id": "4xn5FAlUukBK",
        "colab_type": "code",
        "colab": {
          "base_uri": "https://localhost:8080/",
          "height": 181
        },
        "outputId": "6a9b4168-29f5-45d9-d81f-d2602ad12218"
      },
      "source": [
        "i = 1\n",
        "while i < 10 :\n",
        "  print('9x' + str(i) + '=' + str(i*9))  # print로도 이렇게 문자 쓸 수 있음. \n",
        "  i += 1"
      ],
      "execution_count": 33,
      "outputs": [
        {
          "output_type": "stream",
          "text": [
            "9x1=9\n",
            "9x2=18\n",
            "9x3=27\n",
            "9x4=36\n",
            "9x5=45\n",
            "9x6=54\n",
            "9x7=63\n",
            "9x8=72\n",
            "9x9=81\n"
          ],
          "name": "stdout"
        }
      ]
    },
    {
      "cell_type": "code",
      "metadata": {
        "id": "EUiQ550DgRal",
        "colab_type": "code",
        "colab": {
          "base_uri": "https://localhost:8080/",
          "height": 181
        },
        "outputId": "f9d8be53-9289-4059-efed-e1e060f29847"
      },
      "source": [
        "i = 1\n",
        "while i < 10 :\n",
        "  print('3 x ' + str(i) + \" = \" + str(i*3))\n",
        "  i += 1"
      ],
      "execution_count": 34,
      "outputs": [
        {
          "output_type": "stream",
          "text": [
            "3 x 1 = 3\n",
            "3 x 2 = 6\n",
            "3 x 3 = 9\n",
            "3 x 4 = 12\n",
            "3 x 5 = 15\n",
            "3 x 6 = 18\n",
            "3 x 7 = 21\n",
            "3 x 8 = 24\n",
            "3 x 9 = 27\n"
          ],
          "name": "stdout"
        }
      ]
    },
    {
      "cell_type": "code",
      "metadata": {
        "id": "DgSnQjhHgipg",
        "colab_type": "code",
        "colab": {
          "base_uri": "https://localhost:8080/",
          "height": 126
        },
        "outputId": "135055ee-5dcd-49d0-d65d-48bdb45c68c1"
      },
      "source": [
        "stop = 0\n",
        "while 1 : # is equivalent to while true\n",
        "  print(\"infinite loop\")\n",
        "  stop += 1\n",
        "  if stop > 5 :\n",
        "    break "
      ],
      "execution_count": 35,
      "outputs": [
        {
          "output_type": "stream",
          "text": [
            "infinite loop\n",
            "infinite loop\n",
            "infinite loop\n",
            "infinite loop\n",
            "infinite loop\n",
            "infinite loop\n"
          ],
          "name": "stdout"
        }
      ]
    },
    {
      "cell_type": "code",
      "metadata": {
        "id": "Rf083mNBg0PH",
        "colab_type": "code",
        "colab": {
          "base_uri": "https://localhost:8080/",
          "height": 108
        },
        "outputId": "b51547eb-fad8-45bf-fa56-267a1df52c09"
      },
      "source": [
        "# break : 반복문을 벗어날 때\n",
        "for i in range(1, 11) :\n",
        "  if i > 5 :\n",
        "    break\n",
        "  print(i)"
      ],
      "execution_count": 36,
      "outputs": [
        {
          "output_type": "stream",
          "text": [
            "1\n",
            "2\n",
            "3\n",
            "4\n",
            "5\n"
          ],
          "name": "stdout"
        }
      ]
    },
    {
      "cell_type": "code",
      "metadata": {
        "id": "wY5YmCGBhDuO",
        "colab_type": "code",
        "colab": {
          "base_uri": "https://localhost:8080/",
          "height": 108
        },
        "outputId": "67743acf-9d71-4b52-cb27-e1cf3ac56f1e"
      },
      "source": [
        "# continue : 반복문 내에서 다음 iteration 으로 바로 건너 뛸 때\n",
        "for i in range(1, 11) :\n",
        "  if (i % 2 != 0) :  # i가 2의 배수가 아닐 때\n",
        "    continue   # 그냥 넘김  skip한다고 생각하면 좋음. \n",
        "  print(i)  # 2의 배수만 남기는 건가 "
      ],
      "execution_count": 37,
      "outputs": [
        {
          "output_type": "stream",
          "text": [
            "2\n",
            "4\n",
            "6\n",
            "8\n",
            "10\n"
          ],
          "name": "stdout"
        }
      ]
    },
    {
      "cell_type": "code",
      "metadata": {
        "id": "0eRtj_7YjfNa",
        "colab_type": "code",
        "colab": {
          "base_uri": "https://localhost:8080/",
          "height": 35
        },
        "outputId": "a455b585-bdf6-47d0-845f-acc3d6cdc897"
      },
      "source": [
        "# enumerate : list 내 자료값의 순서값이 필요할 때\n",
        "player = ['John', 'Taylor', 'Ronado', 'Messi']\n",
        "player_1 = list(enumerate(player, 1))  # 여기서 순서값은 1부터 시작\n",
        "                                       # 여기서 1 안 쓰고 default로 가면 0부터 시작하게 됨. \n",
        "print(player_1)  # element는 tuple이고 전체 데이터 형태는 list"
      ],
      "execution_count": 38,
      "outputs": [
        {
          "output_type": "stream",
          "text": [
            "[(1, 'John'), (2, 'Taylor'), (3, 'Ronado'), (4, 'Messi')]\n"
          ],
          "name": "stdout"
        }
      ]
    },
    {
      "cell_type": "code",
      "metadata": {
        "id": "7ZmiQzrVk06z",
        "colab_type": "code",
        "colab": {
          "base_uri": "https://localhost:8080/",
          "height": 90
        },
        "outputId": "9b9bd60c-a56c-4616-97c6-ac7786ddf586"
      },
      "source": [
        "for num, p in enumerate(player, 1) :\n",
        "  print('player number' + str(num) + ' name:', p)"
      ],
      "execution_count": 39,
      "outputs": [
        {
          "output_type": "stream",
          "text": [
            "player number1 name: John\n",
            "player number2 name: Taylor\n",
            "player number3 name: Ronado\n",
            "player number4 name: Messi\n"
          ],
          "name": "stdout"
        }
      ]
    },
    {
      "cell_type": "code",
      "metadata": {
        "id": "jL7BzNIAlKW5",
        "colab_type": "code",
        "colab": {
          "base_uri": "https://localhost:8080/",
          "height": 90
        },
        "outputId": "51734bb2-78dc-4f28-9321-ec2d82dc0144"
      },
      "source": [
        "# zip : list, tuple., dictionary간 짝짓기\n",
        "cars = ['Sonata', 'Toyota', 'Ford', 'Benz', 'Kia']\n",
        "nations = ['Korea', 'Japan', 'America', 'Germany']\n",
        "for c, n in zip(cars, nations) :\n",
        "  print( \"%s is made in %s\" % (c, n))"
      ],
      "execution_count": 40,
      "outputs": [
        {
          "output_type": "stream",
          "text": [
            "Sonata is made in Korea\n",
            "Toyota is made in Japan\n",
            "Ford is made in America\n",
            "Benz is made in Germany\n"
          ],
          "name": "stdout"
        }
      ]
    },
    {
      "cell_type": "code",
      "metadata": {
        "id": "D-hePdcml4rE",
        "colab_type": "code",
        "colab": {
          "base_uri": "https://localhost:8080/",
          "height": 90
        },
        "outputId": "d08167c4-25cd-4888-8575-b0bf7aa7a4f6"
      },
      "source": [
        "# format 형태가 더 쉬움 %s, %d 이것보다.. ? \n",
        "cars = ['Sonata', 'Toyota', 'Ford', 'Benz', 'Kia']\n",
        "nations = ['Korea', 'Japan', 'America', 'Germany']\n",
        "for c, n in zip(cars, nations) :\n",
        "  print( \"{0} is made in {1}\".format(c, n))"
      ],
      "execution_count": 41,
      "outputs": [
        {
          "output_type": "stream",
          "text": [
            "Sonata is made in Korea\n",
            "Toyota is made in Japan\n",
            "Ford is made in America\n",
            "Benz is made in Germany\n"
          ],
          "name": "stdout"
        }
      ]
    },
    {
      "cell_type": "code",
      "metadata": {
        "id": "oODK4apxmXg1",
        "colab_type": "code",
        "colab": {
          "base_uri": "https://localhost:8080/",
          "height": 35
        },
        "outputId": "66c1aeaf-bb49-45fb-c4da-e18a094ee46e"
      },
      "source": [
        "N = 10\n",
        "a = 2.543\n",
        "b = 'car'\n",
        "print('A typical example of data types is %d, %.2f, and %s.' % (N, a, b))"
      ],
      "execution_count": 42,
      "outputs": [
        {
          "output_type": "stream",
          "text": [
            "A typical example of data types is 10, 2.54, and car.\n"
          ],
          "name": "stdout"
        }
      ]
    },
    {
      "cell_type": "markdown",
      "metadata": {
        "id": "UvgQHYOGm6hR",
        "colab_type": "text"
      },
      "source": [
        "### 5. 객채지향성 프로그램"
      ]
    },
    {
      "cell_type": "code",
      "metadata": {
        "id": "vHwVXU7ynSUf",
        "colab_type": "code",
        "colab": {
          "base_uri": "https://localhost:8080/",
          "height": 35
        },
        "outputId": "4cc9a9ec-e5a0-40f2-9a43-684be53cbe33"
      },
      "source": [
        "# 간단한 함수\n",
        "def welcome():\n",
        "  print(\"Welcome to Python\")\n",
        "welcome()"
      ],
      "execution_count": 43,
      "outputs": [
        {
          "output_type": "stream",
          "text": [
            "Welcome to Python\n"
          ],
          "name": "stdout"
        }
      ]
    },
    {
      "cell_type": "code",
      "metadata": {
        "id": "8N-GeWBFnAxo",
        "colab_type": "code",
        "colab": {
          "base_uri": "https://localhost:8080/",
          "height": 199
        },
        "outputId": "da605340-fdaf-4dfe-e9ac-a03649624065"
      },
      "source": [
        "# 좀 더 복잡한 함수\n",
        "def p_inf(name, age, gender) :\n",
        "  print(\"Person name: \" + name)\n",
        "  print(\"Person name: \", name)\n",
        "  print(\"Person age: \", age)\n",
        "  print(\"Person gender: \"+gender)\n",
        "  print(\"-------------------------\")\n",
        "\n",
        "p_inf(\"James\", 20, \"Male\")\n",
        "p_inf(\"Suzan\", 19, \"Female\")"
      ],
      "execution_count": 44,
      "outputs": [
        {
          "output_type": "stream",
          "text": [
            "Person name: James\n",
            "Person name:  James\n",
            "Person age:  20\n",
            "Person gender: Male\n",
            "-------------------------\n",
            "Person name: Suzan\n",
            "Person name:  Suzan\n",
            "Person age:  19\n",
            "Person gender: Female\n",
            "-------------------------\n"
          ],
          "name": "stdout"
        }
      ]
    },
    {
      "cell_type": "code",
      "metadata": {
        "id": "Yp5xHdnonzpk",
        "colab_type": "code",
        "colab": {
          "base_uri": "https://localhost:8080/",
          "height": 35
        },
        "outputId": "20f37c51-f785-4f4c-cb16-8509b5d4d04c"
      },
      "source": [
        "# 모수를 받아서 새로운 값을 계산하여 반환하는 함수\n",
        "def summ(num1, num2) : \n",
        "  result = num1 + num2 \n",
        "  return result\n",
        "\n",
        "test = summ(20, 30) \n",
        "test"
      ],
      "execution_count": 45,
      "outputs": [
        {
          "output_type": "execute_result",
          "data": {
            "text/plain": [
              "50"
            ]
          },
          "metadata": {
            "tags": []
          },
          "execution_count": 45
        }
      ]
    },
    {
      "cell_type": "code",
      "metadata": {
        "id": "4ZY4MPwXoB7V",
        "colab_type": "code",
        "colab": {
          "base_uri": "https://localhost:8080/",
          "height": 35
        },
        "outputId": "ba5d09e5-6c84-46ed-c091-cba56118b0d9"
      },
      "source": [
        "def update_1(newlist) :\n",
        "  newlist.append([20, 25, 30]) \n",
        "  return\n",
        "\n",
        "uplist = [5, 10, 15]\n",
        "update_1(uplist)\n",
        "print(uplist)"
      ],
      "execution_count": 46,
      "outputs": [
        {
          "output_type": "stream",
          "text": [
            "[5, 10, 15, [20, 25, 30]]\n"
          ],
          "name": "stdout"
        }
      ]
    },
    {
      "cell_type": "code",
      "metadata": {
        "id": "6RzaH6IWo0hj",
        "colab_type": "code",
        "colab": {
          "base_uri": "https://localhost:8080/",
          "height": 35
        },
        "outputId": "4798cbd0-25d4-4792-aa9f-d9ffb37eccf4"
      },
      "source": [
        "x = []\n",
        "for i in range(1, 10) :\n",
        "  x.append(i)\n",
        "print(x)"
      ],
      "execution_count": 47,
      "outputs": [
        {
          "output_type": "stream",
          "text": [
            "[1, 2, 3, 4, 5, 6, 7, 8, 9]\n"
          ],
          "name": "stdout"
        }
      ]
    },
    {
      "cell_type": "code",
      "metadata": {
        "id": "U0Dn_HMYo8Lw",
        "colab_type": "code",
        "colab": {
          "base_uri": "https://localhost:8080/",
          "height": 35
        },
        "outputId": "a1574323-513c-4082-9c8f-63125a384083"
      },
      "source": [
        "samples = ['The cat sat on the mat.', 'The dog sat on the desk']\n",
        "token = {}   # create dictionary\n",
        "for sample in samples :\n",
        "  for word in sample.split() :\n",
        "    if word not in token :\n",
        "      token[word] = len(token) + 1 \n",
        "\n",
        "print(token)"
      ],
      "execution_count": 48,
      "outputs": [
        {
          "output_type": "stream",
          "text": [
            "{'The': 1, 'cat': 2, 'sat': 3, 'on': 4, 'the': 5, 'mat.': 6, 'dog': 7, 'desk': 8}\n"
          ],
          "name": "stdout"
        }
      ]
    },
    {
      "cell_type": "code",
      "metadata": {
        "id": "YDFXNZ-upfEj",
        "colab_type": "code",
        "colab": {
          "base_uri": "https://localhost:8080/",
          "height": 35
        },
        "outputId": "ff73fe2e-7e7a-4915-c394-2dda8ce3a46c"
      },
      "source": [
        "# lambda ??? 사용법 익히기\n",
        "result = lambda n1, n2, n3 : n1+n2+n3\n",
        "result(1, 2, 3)"
      ],
      "execution_count": 49,
      "outputs": [
        {
          "output_type": "execute_result",
          "data": {
            "text/plain": [
              "6"
            ]
          },
          "metadata": {
            "tags": []
          },
          "execution_count": 49
        }
      ]
    },
    {
      "cell_type": "code",
      "metadata": {
        "id": "aAQIWIO4ppUW",
        "colab_type": "code",
        "colab": {
          "base_uri": "https://localhost:8080/",
          "height": 72
        },
        "outputId": "1f1db37b-31ba-4356-c151-42ec950858fd"
      },
      "source": [
        "# 클래스(class)\n",
        "class Player : # 첫 단어는 항상 대문자로 해야함. \n",
        "  name = \"John\"\n",
        "  age = 22\n",
        "  gender = 'male'     # attributes : class의 속성\n",
        "\n",
        "  def stand(self) :\n",
        "    print('he stands')\n",
        "\n",
        "  def run(self) : \n",
        "    print('he runs')\n",
        "\n",
        "# print(Player())\n",
        "# print(Player().name)\n",
        "male_1 = Player()\n",
        "player_name = male_1.name\n",
        "print(player_name)\n",
        "male_1.run()\n",
        "male_1.stand()"
      ],
      "execution_count": 50,
      "outputs": [
        {
          "output_type": "stream",
          "text": [
            "John\n",
            "he runs\n",
            "he stands\n"
          ],
          "name": "stdout"
        }
      ]
    },
    {
      "cell_type": "code",
      "metadata": {
        "id": "WYqNyJbWqy8u",
        "colab_type": "code",
        "colab": {
          "base_uri": "https://localhost:8080/",
          "height": 54
        },
        "outputId": "6300d445-a77e-497d-b4e3-de02eec55644"
      },
      "source": [
        "# 클래스 속성(attribute)와 사례(instance) 속성\n",
        "class Player : \n",
        "  person_count = 0  # 클래스 속성\n",
        "  \n",
        "  def infor(self, name, age, gender) :   # self는 디폴트로 넣어야 한다고 함. \n",
        "                                         # self가 의미하는 바는 class Player에 소속된 함수라는 것. \n",
        "    self.name = name    # 사례 속성\n",
        "    self.age = age\n",
        "    self.gender = gender\n",
        "\n",
        "    Player.person_count += 1\n",
        "\n",
        "    print('Information for player ' + self.name + ' has been stored.')  \n",
        "\n",
        "player1 = Player()   # 아직 속성에 값을 할당하지 않음\n",
        "player1.infor(\"John\", 22, 'male')\n",
        "print('Player count: ' + str(player1.person_count))"
      ],
      "execution_count": 51,
      "outputs": [
        {
          "output_type": "stream",
          "text": [
            "Information for player John has been stored.\n",
            "Player count: 1\n"
          ],
          "name": "stdout"
        }
      ]
    },
    {
      "cell_type": "code",
      "metadata": {
        "id": "6DlcF5PuurEK",
        "colab_type": "code",
        "colab": {
          "base_uri": "https://localhost:8080/",
          "height": 72
        },
        "outputId": "2813dc25-fdc4-4b3e-d4b5-18067579468f"
      },
      "source": [
        "player2 = Player()\n",
        "player2.infor('Messi', 30, 'Male')\n",
        "print(\"Player count: \" + str(player2.person_count))\n",
        "print('Player count: ', player2.person_count)    # count가 어떻게 되는 거지  \n",
        "# class의 속성이므로 두 번 불렀다고 해도 기억을 하기 때문에 count가 1이었고 그후로 1을 다시 더한것임. "
      ],
      "execution_count": 52,
      "outputs": [
        {
          "output_type": "stream",
          "text": [
            "Information for player Messi has been stored.\n",
            "Player count: 2\n",
            "Player count:  2\n"
          ],
          "name": "stdout"
        }
      ]
    },
    {
      "cell_type": "code",
      "metadata": {
        "id": "GaM7u5Ygws_n",
        "colab_type": "code",
        "colab": {
          "base_uri": "https://localhost:8080/",
          "height": 54
        },
        "outputId": "41f3c9bc-8e6b-4fb7-9834-03d75f3e3a40"
      },
      "source": [
        "# 클래스를 호출하면 자동으로 사례속성을 만들어내는 방법\n",
        "class Food :\n",
        "\n",
        "  def __init__(self, name, expiry_year, expiry_month) :\n",
        "    self.name = name\n",
        "    self.expiry_year = expiry_year\n",
        "    self.expiry_month = expiry_month\n",
        "\n",
        "    print(\"Initialized instance variables.\")\n",
        "\n",
        "  def expiry_date(self) :\n",
        "    print(\"The expiration date is \" + str(self.expiry_month) + \\\n",
        "          '/' + str(self.expiry_year))\n",
        "    \n",
        "\n",
        "food_1 = Food(\"Pizza\", 2018, 12)  # class에다가 바로 넣어줄 수 있음. 함수를 불러들일 필요 없고\n",
        "food_1.expiry_date()"
      ],
      "execution_count": 53,
      "outputs": [
        {
          "output_type": "stream",
          "text": [
            "Initialized instance variables.\n",
            "The expiration date is 12/2018\n"
          ],
          "name": "stdout"
        }
      ]
    },
    {
      "cell_type": "code",
      "metadata": {
        "id": "Gh_Q8YuDw8mF",
        "colab_type": "code",
        "colab": {
          "base_uri": "https://localhost:8080/",
          "height": 54
        },
        "outputId": "8254f7a5-38e0-4743-8277-6a08a08d7cd7"
      },
      "source": [
        "food_2 = Food(\"Bread\", 2019, 20)\n",
        "food_2.expiry_date()  # 20개월은 없으므로 이를 위한 error방지해야함. "
      ],
      "execution_count": 54,
      "outputs": [
        {
          "output_type": "stream",
          "text": [
            "Initialized instance variables.\n",
            "The expiration date is 20/2019\n"
          ],
          "name": "stdout"
        }
      ]
    },
    {
      "cell_type": "code",
      "metadata": {
        "id": "LJxrOiyFxFAZ",
        "colab_type": "code",
        "colab": {
          "base_uri": "https://localhost:8080/",
          "height": 54
        },
        "outputId": "5f6fbc44-29cc-4a5a-9a6c-fa0b583996d3"
      },
      "source": [
        "# 클래스 내에서 속성 제어 (property, setter)\n",
        "\n",
        "class Food : \n",
        "\n",
        "  def __init__(self, name, expiry_year, expiry_month):\n",
        "    self.name = name\n",
        "    self.expiry_year = expiry_year\n",
        "    self.expiry_month = expiry_month\n",
        "\n",
        "    print(\"Initialized instance variables.\")\n",
        "\n",
        "  @property # 이건 머지\n",
        "  def expiry_month(self) :\n",
        "        return self.__expiry_month\n",
        "\n",
        "  @expiry_month.setter\n",
        "  def expiry_month(self, expiry_month) : \n",
        "        if expiry_month < 1 : \n",
        "           self.__expiry_month = 1\n",
        "        elif expiry_month > 12 :\n",
        "           self.__expiry_month = 12\n",
        "        else : \n",
        "           self.__expiry_month = expiry_month \n",
        "\n",
        "  def expiry_date(self) :\n",
        "        print(\"The expiration date is \" + str(self.expiry_month) + \\\n",
        "              '/' + str(self.expiry_year))\n",
        "        \n",
        "food_2 = Food(\"Bread\", 2019, 20)\n",
        "food_2.expiry_date()"
      ],
      "execution_count": 55,
      "outputs": [
        {
          "output_type": "stream",
          "text": [
            "Initialized instance variables.\n",
            "The expiration date is 12/2019\n"
          ],
          "name": "stdout"
        }
      ]
    },
    {
      "cell_type": "code",
      "metadata": {
        "id": "K_a0Wmrj6lN8",
        "colab_type": "code",
        "colab": {
          "base_uri": "https://localhost:8080/",
          "height": 54
        },
        "outputId": "e5bebb32-7a3d-4128-ba39-8dd50a48e00a"
      },
      "source": [
        "print(food_2.name) \n",
        "print(food_2.expiry_month)"
      ],
      "execution_count": 56,
      "outputs": [
        {
          "output_type": "stream",
          "text": [
            "Bread\n",
            "12\n"
          ],
          "name": "stdout"
        }
      ]
    },
    {
      "cell_type": "code",
      "metadata": {
        "id": "04JHAVGX73YH",
        "colab_type": "code",
        "colab": {
          "base_uri": "https://localhost:8080/",
          "height": 54
        },
        "outputId": "c085814c-85cb-45db-9dee-3378d9c92d29"
      },
      "source": [
        "def summ(start, last, step = 1) :\n",
        "  sum = 0\n",
        "  for i in range(start, last, step) :\n",
        "    sum += i\n",
        "  return sum \n",
        "\n",
        "\n",
        "print(summ(1, 11, 2))\n",
        "print(summ(1, 101))"
      ],
      "execution_count": 57,
      "outputs": [
        {
          "output_type": "stream",
          "text": [
            "25\n",
            "5050\n"
          ],
          "name": "stdout"
        }
      ]
    },
    {
      "cell_type": "code",
      "metadata": {
        "id": "auewdmqSC8HC",
        "colab_type": "code",
        "colab": {}
      },
      "source": [
        "# 부모클래스와 자식클래스가 빠졌대\n",
        "# 바로 inherit할 수가 있음. "
      ],
      "execution_count": 58,
      "outputs": []
    },
    {
      "cell_type": "markdown",
      "metadata": {
        "id": "m2NsrV_yNtON",
        "colab_type": "text"
      },
      "source": [
        "### * 파일 만들기, 수정하기, 읽기"
      ]
    },
    {
      "cell_type": "code",
      "metadata": {
        "id": "ZjVSI7ovEn2i",
        "colab_type": "code",
        "colab": {}
      },
      "source": [
        "text = open(\"G:\\내 드라이브\\graduate\\2020_2\\ML(STAT617)\\aa.txt\", 'w')\n",
        "text.close()"
      ],
      "execution_count": 59,
      "outputs": []
    },
    {
      "cell_type": "code",
      "metadata": {
        "id": "YD0yt6N5Di-a",
        "colab_type": "code",
        "colab": {}
      },
      "source": [
        "# file 형성하기\n",
        "text = open(\"G:\\내 드라이브\\graduate\\2020_2\\ML(STAT617)\\aa.txt\", 'w')\n",
        "for i in range(10) :\n",
        "  data = ('Player%d.\\n' % i)\n",
        "  text.write(data)\n",
        "text.close()"
      ],
      "execution_count": 60,
      "outputs": []
    },
    {
      "cell_type": "code",
      "metadata": {
        "id": "XXxEtBtNEMYe",
        "colab_type": "code",
        "colab": {}
      },
      "source": [
        "text = open(\"C:\\soycoding\\aa.txt\", 'w')\n",
        "for i in range(10) :\n",
        "  data = ('Player%d.\\n' % i)\n",
        "  text.write(data)\n",
        "text.close()"
      ],
      "execution_count": 61,
      "outputs": []
    },
    {
      "cell_type": "code",
      "metadata": {
        "id": "iTxq7882EiD3",
        "colab_type": "code",
        "colab": {
          "base_uri": "https://localhost:8080/",
          "height": 54
        },
        "outputId": "c3f123ac-810b-462e-e9a5-bce00ae799bb"
      },
      "source": [
        "text = open(\"G:\\내 드라이브\\graduate\\2020_2\\ML(STAT617)\\aa.txt\", \"r\")\n",
        "line = text.readline()  # 한줄만 읽음\n",
        "print(line)\n",
        "text.close()"
      ],
      "execution_count": 62,
      "outputs": [
        {
          "output_type": "stream",
          "text": [
            "Player0.\n",
            "\n"
          ],
          "name": "stdout"
        }
      ]
    },
    {
      "cell_type": "code",
      "metadata": {
        "id": "jHSP2uswEmc0",
        "colab_type": "code",
        "colab": {
          "base_uri": "https://localhost:8080/",
          "height": 217
        },
        "outputId": "3e97c4f1-1bf0-4cd8-fbbf-292bf7f66a10"
      },
      "source": [
        "text = open(\"G:\\내 드라이브\\graduate\\2020_2\\ML(STAT617)\\aa.txt\", \"r\")\n",
        "data = text.read() # 전체를 읽음 \n",
        "print(data)\n",
        "text.close()"
      ],
      "execution_count": 63,
      "outputs": [
        {
          "output_type": "stream",
          "text": [
            "Player0.\n",
            "Player1.\n",
            "Player2.\n",
            "Player3.\n",
            "Player4.\n",
            "Player5.\n",
            "Player6.\n",
            "Player7.\n",
            "Player8.\n",
            "Player9.\n",
            "\n"
          ],
          "name": "stdout"
        }
      ]
    },
    {
      "cell_type": "code",
      "metadata": {
        "id": "WAfbqIfFRBn6",
        "colab_type": "code",
        "colab": {}
      },
      "source": [
        "# 기존 파일에 추가\n",
        "text = open(\"G:\\내 드라이브\\graduate\\2020_2\\ML(STAT617)\\aa.txt\", \"a\")  # a: adding\n",
        "for i in range(10, 12): \n",
        "  data = (\"Player%d.\\n\" %i)\n",
        "  text.write(data)\n",
        "text.close()"
      ],
      "execution_count": 64,
      "outputs": []
    },
    {
      "cell_type": "code",
      "metadata": {
        "id": "of8iI3scTEJE",
        "colab_type": "code",
        "colab": {}
      },
      "source": [
        "# with를 쓰면 close 안 써도 됨\n",
        "with open(\"G:\\내 드라이브\\graduate\\2020_2\\ML(STAT617)\\aa.txt\", \"a\") as text :\n",
        "  for i in range(12, 16) :\n",
        "    data = (\"Writer%d.\\n\" %i)\n",
        "    text.write(data)"
      ],
      "execution_count": 65,
      "outputs": []
    }
  ]
}