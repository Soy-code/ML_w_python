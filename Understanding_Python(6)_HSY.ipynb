{
  "nbformat": 4,
  "nbformat_minor": 0,
  "metadata": {
    "colab": {
      "name": "Understanding_Python(6)_HSY.ipynb",
      "provenance": [],
      "collapsed_sections": [],
      "authorship_tag": "ABX9TyOPnb2zvN33hxJZYm10LSNk",
      "include_colab_link": true
    },
    "kernelspec": {
      "name": "python3",
      "display_name": "Python 3"
    }
  },
  "cells": [
    {
      "cell_type": "markdown",
      "metadata": {
        "id": "view-in-github",
        "colab_type": "text"
      },
      "source": [
        "<a href=\"https://colab.research.google.com/github/Soy-code/ML_w_python/blob/master/Understanding_Python(6)_HSY.ipynb\" target=\"_parent\"><img src=\"https://colab.research.google.com/assets/colab-badge.svg\" alt=\"Open In Colab\"/></a>"
      ]
    },
    {
      "cell_type": "markdown",
      "metadata": {
        "id": "RsIvleUcTwNG",
        "colab_type": "text"
      },
      "source": [
        "### 6. 넘파이(numpy)"
      ]
    },
    {
      "cell_type": "code",
      "metadata": {
        "id": "RcV5D70sT0PH",
        "colab_type": "code",
        "colab": {
          "base_uri": "https://localhost:8080/",
          "height": 35
        },
        "outputId": "96d862e9-30c3-486e-83f0-a7c74d37bd93"
      },
      "source": [
        "import numpy as np\n",
        "np.array([1, 5, 7, 6])   # list data 는 data analysis에 쓰지 않음. \n",
        "                         # 1-d tensor \n",
        "                         # array data 로 만들어줌"
      ],
      "execution_count": 1,
      "outputs": [
        {
          "output_type": "execute_result",
          "data": {
            "text/plain": [
              "array([1, 5, 7, 6])"
            ]
          },
          "metadata": {
            "tags": []
          },
          "execution_count": 1
        }
      ]
    },
    {
      "cell_type": "code",
      "metadata": {
        "id": "EhqQU6GvT7i4",
        "colab_type": "code",
        "colab": {
          "base_uri": "https://localhost:8080/",
          "height": 35
        },
        "outputId": "b0b5460f-330c-4196-dbb8-a86a735a4fec"
      },
      "source": [
        "np.array([1.25, 1, 5, 7])   # array는 data의 타입이 같아야 함. "
      ],
      "execution_count": 2,
      "outputs": [
        {
          "output_type": "execute_result",
          "data": {
            "text/plain": [
              "array([1.25, 1.  , 5.  , 7.  ])"
            ]
          },
          "metadata": {
            "tags": []
          },
          "execution_count": 2
        }
      ]
    },
    {
      "cell_type": "code",
      "metadata": {
        "id": "E4dqmgBAUH8a",
        "colab_type": "code",
        "colab": {
          "base_uri": "https://localhost:8080/",
          "height": 35
        },
        "outputId": "1aa3ea67-b550-4b63-fc3f-7424c3a8af5b"
      },
      "source": [
        "np.zeros(5, dtype = int)"
      ],
      "execution_count": 3,
      "outputs": [
        {
          "output_type": "execute_result",
          "data": {
            "text/plain": [
              "array([0, 0, 0, 0, 0])"
            ]
          },
          "metadata": {
            "tags": []
          },
          "execution_count": 3
        }
      ]
    },
    {
      "cell_type": "code",
      "metadata": {
        "id": "1i1Var1oUiRT",
        "colab_type": "code",
        "colab": {
          "base_uri": "https://localhost:8080/",
          "height": 54
        },
        "outputId": "d0e12f49-cb64-43e2-d503-6c123565dab5"
      },
      "source": [
        "np.ones([2, 3], dtype= float)"
      ],
      "execution_count": 4,
      "outputs": [
        {
          "output_type": "execute_result",
          "data": {
            "text/plain": [
              "array([[1., 1., 1.],\n",
              "       [1., 1., 1.]])"
            ]
          },
          "metadata": {
            "tags": []
          },
          "execution_count": 4
        }
      ]
    },
    {
      "cell_type": "code",
      "metadata": {
        "id": "8X3OR3QcUmCj",
        "colab_type": "code",
        "colab": {
          "base_uri": "https://localhost:8080/",
          "height": 35
        },
        "outputId": "0fd98490-7c0b-42c5-fe41-6fa4fdb4cfde"
      },
      "source": [
        "np.arange(0, 10, 2)  # 10은 포함 안 함"
      ],
      "execution_count": 5,
      "outputs": [
        {
          "output_type": "execute_result",
          "data": {
            "text/plain": [
              "array([0, 2, 4, 6, 8])"
            ]
          },
          "metadata": {
            "tags": []
          },
          "execution_count": 5
        }
      ]
    },
    {
      "cell_type": "code",
      "metadata": {
        "id": "1eled1SMUpCj",
        "colab_type": "code",
        "colab": {
          "base_uri": "https://localhost:8080/",
          "height": 35
        },
        "outputId": "9ce8e2d3-7154-44db-f720-18d4217610ff"
      },
      "source": [
        "np.linspace(0, 1, 5)   # 0하고 1 포함"
      ],
      "execution_count": 6,
      "outputs": [
        {
          "output_type": "execute_result",
          "data": {
            "text/plain": [
              "array([0.  , 0.25, 0.5 , 0.75, 1.  ])"
            ]
          },
          "metadata": {
            "tags": []
          },
          "execution_count": 6
        }
      ]
    },
    {
      "cell_type": "code",
      "metadata": {
        "id": "X5N4fyZnX6of",
        "colab_type": "code",
        "colab": {}
      },
      "source": [
        "np.random.seed(12) # seed number 설정"
      ],
      "execution_count": 7,
      "outputs": []
    },
    {
      "cell_type": "code",
      "metadata": {
        "id": "kXx86tjuX_P7",
        "colab_type": "code",
        "colab": {
          "base_uri": "https://localhost:8080/",
          "height": 72
        },
        "outputId": "8f9dea31-6e2a-42c8-888c-24690188bff4"
      },
      "source": [
        "np.random.random((3, 3))  # ~ U(0, 1) "
      ],
      "execution_count": 8,
      "outputs": [
        {
          "output_type": "execute_result",
          "data": {
            "text/plain": [
              "array([[0.15416284, 0.7400497 , 0.26331502],\n",
              "       [0.53373939, 0.01457496, 0.91874701],\n",
              "       [0.90071485, 0.03342143, 0.95694934]])"
            ]
          },
          "metadata": {
            "tags": []
          },
          "execution_count": 8
        }
      ]
    },
    {
      "cell_type": "code",
      "metadata": {
        "id": "R1syD1ozYL4B",
        "colab_type": "code",
        "colab": {
          "base_uri": "https://localhost:8080/",
          "height": 72
        },
        "outputId": "2ecebdd0-f605-4aeb-853a-db3ffd58af4f"
      },
      "source": [
        "np.random.normal(0, 1, (3, 3)) # ~ N(0, 1)"
      ],
      "execution_count": 9,
      "outputs": [
        {
          "output_type": "execute_result",
          "data": {
            "text/plain": [
              "array([[-0.42069204, -0.7060276 ,  0.58535808],\n",
              "       [ 0.13978644,  2.73781428,  1.11674795],\n",
              "       [ 1.57453814, -0.08586679,  0.47673663]])"
            ]
          },
          "metadata": {
            "tags": []
          },
          "execution_count": 9
        }
      ]
    },
    {
      "cell_type": "code",
      "metadata": {
        "id": "ECFf1F6LYUtt",
        "colab_type": "code",
        "colab": {
          "base_uri": "https://localhost:8080/",
          "height": 72
        },
        "outputId": "8fcf4c32-2c0a-47fb-bacb-353e74425ea6"
      },
      "source": [
        "np.random.randint(0, 10, (3, 3))  # 0과 9 사이에서 정수 생성"
      ],
      "execution_count": 10,
      "outputs": [
        {
          "output_type": "execute_result",
          "data": {
            "text/plain": [
              "array([[9, 0, 0],\n",
              "       [9, 8, 9],\n",
              "       [6, 1, 8]])"
            ]
          },
          "metadata": {
            "tags": []
          },
          "execution_count": 10
        }
      ]
    },
    {
      "cell_type": "code",
      "metadata": {
        "id": "zx0kYji3STK6",
        "colab_type": "code",
        "colab": {}
      },
      "source": [
        "?np.random  # np.random에 대해 알려줌"
      ],
      "execution_count": 11,
      "outputs": []
    },
    {
      "cell_type": "code",
      "metadata": {
        "id": "MR_w0lw8YhQI",
        "colab_type": "code",
        "colab": {
          "base_uri": "https://localhost:8080/",
          "height": 72
        },
        "outputId": "0623e2dc-3f04-4b4f-8c1e-536773f96d34"
      },
      "source": [
        "rg = np.random.RandomState(40)  # 클래스를 rg로 객채화\n",
        "rg.normal(0, 1, (3, 3))   ###  class에 대해 잘 모르겠음 ###"
      ],
      "execution_count": 12,
      "outputs": [
        {
          "output_type": "execute_result",
          "data": {
            "text/plain": [
              "array([[-0.6075477 , -0.12613641, -0.68460636],\n",
              "       [ 0.92871475, -1.84440103, -0.46700242],\n",
              "       [ 2.29249034,  0.48881005,  0.71026699]])"
            ]
          },
          "metadata": {
            "tags": []
          },
          "execution_count": 12
        }
      ]
    },
    {
      "cell_type": "code",
      "metadata": {
        "id": "lJaoQ3ZvSsJO",
        "colab_type": "code",
        "colab": {
          "base_uri": "https://localhost:8080/",
          "height": 217
        },
        "outputId": "fe7d875e-5d3a-418e-d159-76085e994295"
      },
      "source": [
        "# array의 객체화\n",
        "import numpy as np\n",
        "np.random.seed(1)\n",
        "x = np.random.randint(10, size = (2, 3, 4))  # 3행 4열 행렬을 두 개 # 이건 그러면 3-d tensor? \n",
        "print(x) \n",
        "print(x.ndim)\n",
        "print(x.shape)\n",
        "print(x.size)\n",
        "xx = x.flatten()\n",
        "print(xx)"
      ],
      "execution_count": 13,
      "outputs": [
        {
          "output_type": "stream",
          "text": [
            "[[[5 8 9 5]\n",
            "  [0 0 1 7]\n",
            "  [6 9 2 4]]\n",
            "\n",
            " [[5 2 4 2]\n",
            "  [4 7 7 9]\n",
            "  [1 7 0 6]]]\n",
            "3\n",
            "(2, 3, 4)\n",
            "24\n",
            "[5 8 9 5 0 0 1 7 6 9 2 4 5 2 4 2 4 7 7 9 1 7 0 6]\n"
          ],
          "name": "stdout"
        }
      ]
    },
    {
      "cell_type": "code",
      "metadata": {
        "id": "MYEqXT3IS-65",
        "colab_type": "code",
        "colab": {
          "base_uri": "https://localhost:8080/",
          "height": 35
        },
        "outputId": "f03e6188-891a-4e98-de64-abd04e4a9dc8"
      },
      "source": [
        "# array 접근과 편집(slicing)\n",
        "x = np.array([0, 3, 5, 2, 4, 6])  # 1-d tensor\n",
        "print(x[1], x[2])"
      ],
      "execution_count": 14,
      "outputs": [
        {
          "output_type": "stream",
          "text": [
            "3 5\n"
          ],
          "name": "stdout"
        }
      ]
    },
    {
      "cell_type": "code",
      "metadata": {
        "id": "nKwGf2eQTZZP",
        "colab_type": "code",
        "colab": {
          "base_uri": "https://localhost:8080/",
          "height": 145
        },
        "outputId": "18915594-e714-469b-dbc2-83fee42000f8"
      },
      "source": [
        "x1 = x[:, np.newaxis]   # 열벡터를 만듦\n",
        "x1.ndim  # 2-d tensor\n",
        "x2 = x[np.newaxis, :]  # 행벡터를 만듦\n",
        "x2.ndim # 2-d tensor\n",
        "print(x1)\n",
        "print(x2)"
      ],
      "execution_count": 15,
      "outputs": [
        {
          "output_type": "stream",
          "text": [
            "[[0]\n",
            " [3]\n",
            " [5]\n",
            " [2]\n",
            " [4]\n",
            " [6]]\n",
            "[[0 3 5 2 4 6]]\n"
          ],
          "name": "stdout"
        }
      ]
    },
    {
      "cell_type": "code",
      "metadata": {
        "id": "FWg73RNcTrbe",
        "colab_type": "code",
        "colab": {
          "base_uri": "https://localhost:8080/",
          "height": 145
        },
        "outputId": "a77c6784-7bb1-47c8-9f4c-96f67fe1d9c3"
      },
      "source": [
        "x3 = np.reshape(x, (6, 1))\n",
        "x4 = np.reshape(x, (1, 6))\n",
        "print(x3)\n",
        "print(x4)"
      ],
      "execution_count": 16,
      "outputs": [
        {
          "output_type": "stream",
          "text": [
            "[[0]\n",
            " [3]\n",
            " [5]\n",
            " [2]\n",
            " [4]\n",
            " [6]]\n",
            "[[0 3 5 2 4 6]]\n"
          ],
          "name": "stdout"
        }
      ]
    },
    {
      "cell_type": "code",
      "metadata": {
        "id": "XSGi5obKVmEt",
        "colab_type": "code",
        "colab": {
          "base_uri": "https://localhost:8080/",
          "height": 35
        },
        "outputId": "4b51dd5a-2b10-4dbd-e3f3-28abdb20904f"
      },
      "source": [
        "x5 = x4.flatten()  # 2-d를 1-d로 핌\n",
        "x5  # 다시 펴짐 "
      ],
      "execution_count": 17,
      "outputs": [
        {
          "output_type": "execute_result",
          "data": {
            "text/plain": [
              "array([0, 3, 5, 2, 4, 6])"
            ]
          },
          "metadata": {
            "tags": []
          },
          "execution_count": 17
        }
      ]
    },
    {
      "cell_type": "code",
      "metadata": {
        "id": "Osbb5aIQVxzV",
        "colab_type": "code",
        "colab": {
          "base_uri": "https://localhost:8080/",
          "height": 35
        },
        "outputId": "624a11d3-857b-4b77-97eb-47d6c0e0c582"
      },
      "source": [
        "x[1:3]  #x[1], x[2]만 출력 "
      ],
      "execution_count": 18,
      "outputs": [
        {
          "output_type": "execute_result",
          "data": {
            "text/plain": [
              "array([3, 5])"
            ]
          },
          "metadata": {
            "tags": []
          },
          "execution_count": 18
        }
      ]
    },
    {
      "cell_type": "code",
      "metadata": {
        "id": "xMpVlKMQWcQ0",
        "colab_type": "code",
        "colab": {
          "base_uri": "https://localhost:8080/",
          "height": 35
        },
        "outputId": "4ab66f16-98d1-4ef7-a00f-15282041fc31"
      },
      "source": [
        "x[1:-2]  # 두 번째부터 끝에서 두 번째까지 "
      ],
      "execution_count": 19,
      "outputs": [
        {
          "output_type": "execute_result",
          "data": {
            "text/plain": [
              "array([3, 5, 2])"
            ]
          },
          "metadata": {
            "tags": []
          },
          "execution_count": 19
        }
      ]
    },
    {
      "cell_type": "code",
      "metadata": {
        "id": "tnNUgQoPWoWG",
        "colab_type": "code",
        "colab": {
          "base_uri": "https://localhost:8080/",
          "height": 35
        },
        "outputId": "362dc2f3-aaff-454a-f60e-529997b67d99"
      },
      "source": [
        "# x[start : stop : step, \n",
        "#   start : stop : step, \n",
        "#   start : stop : step]\n",
        "x[::2]  # 두 개씩 띄어서 "
      ],
      "execution_count": 20,
      "outputs": [
        {
          "output_type": "execute_result",
          "data": {
            "text/plain": [
              "array([0, 5, 4])"
            ]
          },
          "metadata": {
            "tags": []
          },
          "execution_count": 20
        }
      ]
    },
    {
      "cell_type": "code",
      "metadata": {
        "id": "3gvXTj-bX6PA",
        "colab_type": "code",
        "colab": {
          "base_uri": "https://localhost:8080/",
          "height": 35
        },
        "outputId": "bcde363f-900b-4106-dfce-57eee65cf91b"
      },
      "source": [
        "x[::-1]  # 역순으로 "
      ],
      "execution_count": 21,
      "outputs": [
        {
          "output_type": "execute_result",
          "data": {
            "text/plain": [
              "array([6, 4, 2, 5, 3, 0])"
            ]
          },
          "metadata": {
            "tags": []
          },
          "execution_count": 21
        }
      ]
    },
    {
      "cell_type": "code",
      "metadata": {
        "id": "TyORBS0qX9iq",
        "colab_type": "code",
        "colab": {
          "base_uri": "https://localhost:8080/",
          "height": 35
        },
        "outputId": "0a1ad14d-8864-46d1-bf58-14ea56b9dbbb"
      },
      "source": [
        "x[5::-2]  #  5(6번째) 시작해서 역순으로 두 개씩 띄어서? "
      ],
      "execution_count": 22,
      "outputs": [
        {
          "output_type": "execute_result",
          "data": {
            "text/plain": [
              "array([6, 2, 3])"
            ]
          },
          "metadata": {
            "tags": []
          },
          "execution_count": 22
        }
      ]
    },
    {
      "cell_type": "code",
      "metadata": {
        "id": "xMs0XskRYP-O",
        "colab_type": "code",
        "colab": {
          "base_uri": "https://localhost:8080/",
          "height": 54
        },
        "outputId": "f04b3e69-e06f-4d38-c801-c7ca60bfb954"
      },
      "source": [
        "x = np.array([[1,2,3], [4,5,6], [7,8,9]])  # 2-d tensor\n",
        "x[:2, :2] # 행도 열도 두 개 까지"
      ],
      "execution_count": 23,
      "outputs": [
        {
          "output_type": "execute_result",
          "data": {
            "text/plain": [
              "array([[1, 2],\n",
              "       [4, 5]])"
            ]
          },
          "metadata": {
            "tags": []
          },
          "execution_count": 23
        }
      ]
    },
    {
      "cell_type": "code",
      "metadata": {
        "id": "LzC-56lAYb43",
        "colab_type": "code",
        "colab": {
          "base_uri": "https://localhost:8080/",
          "height": 35
        },
        "outputId": "d9ac3e34-9d83-4014-f877-a5f401403d4d"
      },
      "source": [
        "x[:, 0]  # 행은 다, 열은 하나만"
      ],
      "execution_count": 24,
      "outputs": [
        {
          "output_type": "execute_result",
          "data": {
            "text/plain": [
              "array([1, 4, 7])"
            ]
          },
          "metadata": {
            "tags": []
          },
          "execution_count": 24
        }
      ]
    },
    {
      "cell_type": "code",
      "metadata": {
        "id": "GgjkSaC_Y3X_",
        "colab_type": "code",
        "colab": {
          "base_uri": "https://localhost:8080/",
          "height": 35
        },
        "outputId": "39a652a5-9ce8-4862-9f27-1dc03c23d75f"
      },
      "source": [
        "x[0, :]"
      ],
      "execution_count": 25,
      "outputs": [
        {
          "output_type": "execute_result",
          "data": {
            "text/plain": [
              "array([1, 2, 3])"
            ]
          },
          "metadata": {
            "tags": []
          },
          "execution_count": 25
        }
      ]
    },
    {
      "cell_type": "code",
      "metadata": {
        "id": "3Ao6JyLBY6Mq",
        "colab_type": "code",
        "colab": {
          "base_uri": "https://localhost:8080/",
          "height": 35
        },
        "outputId": "18ef2ac1-36ca-4844-b804-50701c8da261"
      },
      "source": [
        "x[1, 2]  # 2행 3열 "
      ],
      "execution_count": 26,
      "outputs": [
        {
          "output_type": "execute_result",
          "data": {
            "text/plain": [
              "6"
            ]
          },
          "metadata": {
            "tags": []
          },
          "execution_count": 26
        }
      ]
    },
    {
      "cell_type": "code",
      "metadata": {
        "id": "mgkg1XKPY737",
        "colab_type": "code",
        "colab": {
          "base_uri": "https://localhost:8080/",
          "height": 72
        },
        "outputId": "0b19ad23-adad-45fe-e39f-eb3d801193bc"
      },
      "source": [
        "x[0, 0] = 99   # list랑 차이 나는 거 확인, list는 x[0][0] 이렇게 해야함 \n",
        "x"
      ],
      "execution_count": 27,
      "outputs": [
        {
          "output_type": "execute_result",
          "data": {
            "text/plain": [
              "array([[99,  2,  3],\n",
              "       [ 4,  5,  6],\n",
              "       [ 7,  8,  9]])"
            ]
          },
          "metadata": {
            "tags": []
          },
          "execution_count": 27
        }
      ]
    },
    {
      "cell_type": "code",
      "metadata": {
        "id": "h4H77fqJZBnf",
        "colab_type": "code",
        "colab": {
          "base_uri": "https://localhost:8080/",
          "height": 54
        },
        "outputId": "04f3cb2d-7a90-4780-9642-e670f309b114"
      },
      "source": [
        "x1 = x[:2, :2]\n",
        "x1"
      ],
      "execution_count": 28,
      "outputs": [
        {
          "output_type": "execute_result",
          "data": {
            "text/plain": [
              "array([[99,  2],\n",
              "       [ 4,  5]])"
            ]
          },
          "metadata": {
            "tags": []
          },
          "execution_count": 28
        }
      ]
    },
    {
      "cell_type": "code",
      "metadata": {
        "id": "R3h9ZszbZRiR",
        "colab_type": "code",
        "colab": {
          "base_uri": "https://localhost:8080/",
          "height": 54
        },
        "outputId": "ab855392-b73d-455d-a137-1e4c2452d3dc"
      },
      "source": [
        "x1[0, 1] = 99\n",
        "x1"
      ],
      "execution_count": 29,
      "outputs": [
        {
          "output_type": "execute_result",
          "data": {
            "text/plain": [
              "array([[99, 99],\n",
              "       [ 4,  5]])"
            ]
          },
          "metadata": {
            "tags": []
          },
          "execution_count": 29
        }
      ]
    },
    {
      "cell_type": "code",
      "metadata": {
        "id": "LZOUIKMYZVRW",
        "colab_type": "code",
        "colab": {
          "base_uri": "https://localhost:8080/",
          "height": 72
        },
        "outputId": "c707e8d1-d135-49e2-f7b9-e88b0a20253c"
      },
      "source": [
        "print(x)   # x1을 수정하면 x에도 반영이 됨. (여기서부터 강의 들어야 함. 아마 1시간 20분? 정도)"
      ],
      "execution_count": 30,
      "outputs": [
        {
          "output_type": "stream",
          "text": [
            "[[99 99  3]\n",
            " [ 4  5  6]\n",
            " [ 7  8  9]]\n"
          ],
          "name": "stdout"
        }
      ]
    },
    {
      "cell_type": "code",
      "metadata": {
        "id": "aEBql1itZaRy",
        "colab_type": "code",
        "colab": {
          "base_uri": "https://localhost:8080/",
          "height": 35
        },
        "outputId": "068830f7-6f15-4cbe-889e-3560eb86e250"
      },
      "source": [
        "id(x)"
      ],
      "execution_count": 31,
      "outputs": [
        {
          "output_type": "execute_result",
          "data": {
            "text/plain": [
              "140389145486160"
            ]
          },
          "metadata": {
            "tags": []
          },
          "execution_count": 31
        }
      ]
    },
    {
      "cell_type": "code",
      "metadata": {
        "id": "RXUYqbPk-ype",
        "colab_type": "code",
        "colab": {
          "base_uri": "https://localhost:8080/",
          "height": 35
        },
        "outputId": "e32371b0-b910-41df-ef39-b6e6d32fdc56"
      },
      "source": [
        "id(x1)   # 내가 x1에 수정을 했는데 x가 자동으로 그 수정된 걸 반영함. \n",
        "         # 근데 x1과 x의 주소는 다름"
      ],
      "execution_count": 32,
      "outputs": [
        {
          "output_type": "execute_result",
          "data": {
            "text/plain": [
              "140389145487840"
            ]
          },
          "metadata": {
            "tags": []
          },
          "execution_count": 32
        }
      ]
    },
    {
      "cell_type": "code",
      "metadata": {
        "id": "GaADiNcH_C36",
        "colab_type": "code",
        "colab": {
          "base_uri": "https://localhost:8080/",
          "height": 108
        },
        "outputId": "ce0440a9-e706-4193-8e54-0341e6bff21b"
      },
      "source": [
        "# 객체화 해서 객체를 수정하면 원래의 데이터가 바뀜\n",
        "x1_copy = x[:2, :2].copy()   # copy라는 함수를 쓰면 수정을 해도 영향을 미치지 않음. \n",
        "x1_copy[0, 0] = 1000 \n",
        "print(x1_copy) ; print(x)  # 바뀌지 않음. "
      ],
      "execution_count": 33,
      "outputs": [
        {
          "output_type": "stream",
          "text": [
            "[[1000   99]\n",
            " [   4    5]]\n",
            "[[99 99  3]\n",
            " [ 4  5  6]\n",
            " [ 7  8  9]]\n"
          ],
          "name": "stdout"
        }
      ]
    },
    {
      "cell_type": "markdown",
      "metadata": {
        "id": "c5lgKLjh-0nA",
        "colab_type": "text"
      },
      "source": [
        "### 6.1 numpy의 차원 변경, 분할, 덧붙이기"
      ]
    },
    {
      "cell_type": "code",
      "metadata": {
        "id": "GF_b7kOA-4Uc",
        "colab_type": "code",
        "colab": {}
      },
      "source": [
        "### 모든 객체 지우는 방법? \n",
        "### R에서 rm(list = ls())  같은 거 "
      ],
      "execution_count": 34,
      "outputs": []
    },
    {
      "cell_type": "code",
      "metadata": {
        "id": "P1IXTeKlA850",
        "colab_type": "code",
        "colab": {
          "base_uri": "https://localhost:8080/",
          "height": 54
        },
        "outputId": "71351013-2a1b-4c1a-f88b-8f099ed97def"
      },
      "source": [
        "# 차원변경\n",
        "import numpy as np\n",
        "x = np.array([1, 2, 3])\n",
        "print(x) ; print(x.ndim)  # 1-d tensor"
      ],
      "execution_count": 35,
      "outputs": [
        {
          "output_type": "stream",
          "text": [
            "[1 2 3]\n",
            "1\n"
          ],
          "name": "stdout"
        }
      ]
    },
    {
      "cell_type": "code",
      "metadata": {
        "id": "2mMoavaEBJzF",
        "colab_type": "code",
        "colab": {
          "base_uri": "https://localhost:8080/",
          "height": 54
        },
        "outputId": "6d6a5915-c6ce-453f-b5d8-ff89693695e1"
      },
      "source": [
        "x.reshape((1, 3))  # 이거 1 X 3 matrix로 된 거 아닌가? 근데 print(x)하면 왜 안 되지? \n",
        "print(x) ; print(x.ndim)"
      ],
      "execution_count": 36,
      "outputs": [
        {
          "output_type": "stream",
          "text": [
            "[1 2 3]\n",
            "1\n"
          ],
          "name": "stdout"
        }
      ]
    },
    {
      "cell_type": "code",
      "metadata": {
        "id": "o0ShcRWKBgee",
        "colab_type": "code",
        "colab": {
          "base_uri": "https://localhost:8080/",
          "height": 163
        },
        "outputId": "2ce046ef-a89a-4ee9-cf0a-0b5a865246f3"
      },
      "source": [
        "# x.reshape() 한다고 x 자체가 바뀌는 건 아닌가 봄\n",
        "\n",
        "print(x.reshape((1, 3)))  # 새로운 행이 생기는 거 : 2-d tensor\n",
        "print(x[np.newaxis, :])\n",
        "print(x.reshape((3, 1)))   # 새로운 열이 생기는 거  : 2-d tensor\n",
        "print(x[:, np.newaxis]) "
      ],
      "execution_count": 37,
      "outputs": [
        {
          "output_type": "stream",
          "text": [
            "[[1 2 3]]\n",
            "[[1 2 3]]\n",
            "[[1]\n",
            " [2]\n",
            " [3]]\n",
            "[[1]\n",
            " [2]\n",
            " [3]]\n"
          ],
          "name": "stdout"
        }
      ]
    },
    {
      "cell_type": "code",
      "metadata": {
        "id": "Cv3w1KFyCIDa",
        "colab_type": "code",
        "colab": {
          "base_uri": "https://localhost:8080/",
          "height": 381
        },
        "outputId": "d8fc43db-14a9-4c9b-b41c-7c774de1467f"
      },
      "source": [
        "x = np.random.randint(10, size = (3, 3, 4))  # 3개의 3 X 4 행렬 : 3-d tensor\n",
        "print(x)\n",
        "print(\"===========================\")\n",
        "x1 = x.reshape((3, 12)) # 3 X 12 행렬로. 각 행을 옆으로 붙임. 12가 맞춰지게. 2-d tensor로\n",
        "print(x1)\n",
        "print(\"===========================\")\n",
        "x2 = x.reshape((-1, 12))  ### -1은 3을 대신함. 내가 꼭 obs 개수를 몰라도 되니까. \n",
        "print(x2)\n",
        "print(np.shape(x2))"
      ],
      "execution_count": 38,
      "outputs": [
        {
          "output_type": "stream",
          "text": [
            "[[[9 9 7 6]\n",
            "  [9 1 0 1]\n",
            "  [8 8 3 9]]\n",
            "\n",
            " [[8 7 3 6]\n",
            "  [5 1 9 3]\n",
            "  [4 8 1 4]]\n",
            "\n",
            " [[0 3 9 2]\n",
            "  [0 4 9 2]\n",
            "  [7 7 9 8]]]\n",
            "===========================\n",
            "[[9 9 7 6 9 1 0 1 8 8 3 9]\n",
            " [8 7 3 6 5 1 9 3 4 8 1 4]\n",
            " [0 3 9 2 0 4 9 2 7 7 9 8]]\n",
            "===========================\n",
            "[[9 9 7 6 9 1 0 1 8 8 3 9]\n",
            " [8 7 3 6 5 1 9 3 4 8 1 4]\n",
            " [0 3 9 2 0 4 9 2 7 7 9 8]]\n",
            "(3, 12)\n"
          ],
          "name": "stdout"
        }
      ]
    },
    {
      "cell_type": "code",
      "metadata": {
        "id": "DSLzdrCDKULH",
        "colab_type": "code",
        "colab": {
          "base_uri": "https://localhost:8080/",
          "height": 35
        },
        "outputId": "cc2cadaf-50e9-472c-f1e4-c412de7f6839"
      },
      "source": [
        "# 분할 \n",
        "x = [1, 2, 3, 4, 5, 6, 7, 8]\n",
        "x1, x2, x3 = np.split(x, [2, 6])  # 3번 째, 7번 째에서 끊어라 \n",
        "print(x1, x2, x3)"
      ],
      "execution_count": 39,
      "outputs": [
        {
          "output_type": "stream",
          "text": [
            "[1 2] [3 4 5 6] [7 8]\n"
          ],
          "name": "stdout"
        }
      ]
    },
    {
      "cell_type": "code",
      "metadata": {
        "id": "DSnKVXTAYoGe",
        "colab_type": "code",
        "colab": {
          "base_uri": "https://localhost:8080/",
          "height": 54
        },
        "outputId": "1c5f969a-559d-48ae-cbe7-d68b4dca9f60"
      },
      "source": [
        "x1[0] = 100\n",
        "print(x1)\n",
        "print(x)   # split으로 분할 된 자료에서의 수정은 원래 데이터에 영향을 미치지 않음. "
      ],
      "execution_count": 40,
      "outputs": [
        {
          "output_type": "stream",
          "text": [
            "[100   2]\n",
            "[1, 2, 3, 4, 5, 6, 7, 8]\n"
          ],
          "name": "stdout"
        }
      ]
    },
    {
      "cell_type": "code",
      "metadata": {
        "id": "gXZM6mo_Y8ub",
        "colab_type": "code",
        "colab": {
          "base_uri": "https://localhost:8080/",
          "height": 199
        },
        "outputId": "121d6d96-c711-45c3-dec1-4a0cfbd472f8"
      },
      "source": [
        "x = np.random.random((4, 4)) ; print(x)\n",
        "print(\"---------------------------------------\")\n",
        "x1, x2 = np.vsplit(x, [2])  # 3번 째 vertical에서 끊음 \n",
        "print(x1)\n",
        "print(\"---------------------------------------\")\n",
        "print(x2)"
      ],
      "execution_count": 41,
      "outputs": [
        {
          "output_type": "stream",
          "text": [
            "[[0.46923853 0.09617226 0.90337017 0.11949047]\n",
            " [0.52479938 0.083623   0.91686133 0.91044838]\n",
            " [0.29893011 0.58438912 0.56591203 0.61393832]\n",
            " [0.95653566 0.26097898 0.23101542 0.53344849]]\n",
            "---------------------------------------\n",
            "[[0.46923853 0.09617226 0.90337017 0.11949047]\n",
            " [0.52479938 0.083623   0.91686133 0.91044838]]\n",
            "---------------------------------------\n",
            "[[0.29893011 0.58438912 0.56591203 0.61393832]\n",
            " [0.95653566 0.26097898 0.23101542 0.53344849]]\n"
          ],
          "name": "stdout"
        }
      ]
    },
    {
      "cell_type": "code",
      "metadata": {
        "id": "3bTabxEraLBl",
        "colab_type": "code",
        "colab": {
          "base_uri": "https://localhost:8080/",
          "height": 199
        },
        "outputId": "62a735e7-d35e-49fc-f5ee-08dc6f1090e5"
      },
      "source": [
        "y1, y2 = np.hsplit(x, [2])  # 3번 째 horizontal에서 끊음\n",
        "print(y1)\n",
        "print(\"------------------------------------\")\n",
        "print(y2)\n",
        "print(\"------------------------------------\")"
      ],
      "execution_count": 42,
      "outputs": [
        {
          "output_type": "stream",
          "text": [
            "[[0.46923853 0.09617226]\n",
            " [0.52479938 0.083623  ]\n",
            " [0.29893011 0.58438912]\n",
            " [0.95653566 0.26097898]]\n",
            "------------------------------------\n",
            "[[0.90337017 0.11949047]\n",
            " [0.91686133 0.91044838]\n",
            " [0.56591203 0.61393832]\n",
            " [0.23101542 0.53344849]]\n",
            "------------------------------------\n"
          ],
          "name": "stdout"
        }
      ]
    },
    {
      "cell_type": "code",
      "metadata": {
        "id": "GvfAR4zfaYoy",
        "colab_type": "code",
        "colab": {
          "base_uri": "https://localhost:8080/",
          "height": 35
        },
        "outputId": "079edbe6-1841-4ea9-8874-8fe095a9d1ba"
      },
      "source": [
        "# 덧붙이기 \n",
        "x = np.array([1, 2]) # 1d\n",
        "y = np.array([2, 3]) # 1d\n",
        "z = np.array([4, 5]) # 1d\n",
        "conc = np.concatenate([x, y, z]) \n",
        "conc  # 1d"
      ],
      "execution_count": 43,
      "outputs": [
        {
          "output_type": "execute_result",
          "data": {
            "text/plain": [
              "array([1, 2, 2, 3, 4, 5])"
            ]
          },
          "metadata": {
            "tags": []
          },
          "execution_count": 43
        }
      ]
    },
    {
      "cell_type": "code",
      "metadata": {
        "id": "g-A76g5zagcV",
        "colab_type": "code",
        "colab": {}
      },
      "source": [
        "### np.array로 3-d tensor 만드는 법??"
      ],
      "execution_count": 44,
      "outputs": []
    },
    {
      "cell_type": "code",
      "metadata": {
        "id": "fYDPxhf9aoOL",
        "colab_type": "code",
        "colab": {
          "base_uri": "https://localhost:8080/",
          "height": 254
        },
        "outputId": "f8020f12-b929-4d4e-e201-e2b38ae08ab5"
      },
      "source": [
        "xx = np.array([[1, 2, 3], [4, 5, 6]])\n",
        "yy = np.array([[2, 4, 6], [8, 7, 6]])\n",
        "print(xx)\n",
        "print('----------')\n",
        "print(yy)\n",
        "print('----------')\n",
        "conc1 = np.concatenate([xx, yy]) # 아래로 붙임 2d  # obsevation을 늘림\n",
        "# np.concatenate([xx, yy], axis = 0) 과 같음 \n",
        "print(conc1)\n",
        "print('----------')\n",
        "conc2 = np.concatenate([xx, yy], axis = 1)  # cbind\n",
        "print(conc2)"
      ],
      "execution_count": 45,
      "outputs": [
        {
          "output_type": "stream",
          "text": [
            "[[1 2 3]\n",
            " [4 5 6]]\n",
            "----------\n",
            "[[2 4 6]\n",
            " [8 7 6]]\n",
            "----------\n",
            "[[1 2 3]\n",
            " [4 5 6]\n",
            " [2 4 6]\n",
            " [8 7 6]]\n",
            "----------\n",
            "[[1 2 3 2 4 6]\n",
            " [4 5 6 8 7 6]]\n"
          ],
          "name": "stdout"
        }
      ]
    },
    {
      "cell_type": "code",
      "metadata": {
        "id": "DCeOOcopcut-",
        "colab_type": "code",
        "colab": {
          "base_uri": "https://localhost:8080/",
          "height": 145
        },
        "outputId": "6a7b5f28-8c22-40c7-ba45-dc42af675773"
      },
      "source": [
        "zz = np.array([55, 66, 77])\n",
        "v1 = np.vstack([zz, xx])   # vertically stacking, 세로로 쌓기\n",
        "print(v1)\n",
        "print(\"----------------------\")\n",
        "v2 = np.concatenate([zz.reshape(1, 3), xx])  # 이거랑 같음 \n",
        "print(v2)\n",
        "# concatenate는 같은 차원끼리만 가능한 듯"
      ],
      "execution_count": 46,
      "outputs": [
        {
          "output_type": "stream",
          "text": [
            "[[55 66 77]\n",
            " [ 1  2  3]\n",
            " [ 4  5  6]]\n",
            "----------------------\n",
            "[[55 66 77]\n",
            " [ 1  2  3]\n",
            " [ 4  5  6]]\n"
          ],
          "name": "stdout"
        }
      ]
    },
    {
      "cell_type": "code",
      "metadata": {
        "id": "2zW4w0L6c4gR",
        "colab_type": "code",
        "colab": {
          "base_uri": "https://localhost:8080/",
          "height": 145
        },
        "outputId": "7200cf89-7bfc-4cb4-fdf2-9c9e6cb50719"
      },
      "source": [
        "ww = np.array([[100], [200]])  \n",
        "h1 = np.hstack([ww, xx])  # vertically stacking, 가로로 쌓기 \n",
        "h1_1 = np.hstack([xx, ww])\n",
        "print(h1, h1_1, sep=\"\\n\")  # 먼저 오는 게 먼저 출력 되는구먼 \n",
        "print(\"-----------------------\")\n",
        "h2 = np.concatenate([ww.reshape(2, 1), xx], axis = 1)\n",
        "print(h2)"
      ],
      "execution_count": 47,
      "outputs": [
        {
          "output_type": "stream",
          "text": [
            "[[100   1   2   3]\n",
            " [200   4   5   6]]\n",
            "[[  1   2   3 100]\n",
            " [  4   5   6 200]]\n",
            "-----------------------\n",
            "[[100   1   2   3]\n",
            " [200   4   5   6]]\n"
          ],
          "name": "stdout"
        }
      ]
    },
    {
      "cell_type": "markdown",
      "metadata": {
        "id": "4_ylQP7zfoCO",
        "colab_type": "text"
      },
      "source": [
        "### 6.2 numpy 연산 "
      ]
    },
    {
      "cell_type": "code",
      "metadata": {
        "id": "RUZ28VWJlApw",
        "colab_type": "code",
        "colab": {
          "base_uri": "https://localhost:8080/",
          "height": 126
        },
        "outputId": "cda51530-4acd-43c2-cf66-6166f2830218"
      },
      "source": [
        "x = np.array([1, 2, 3, 4])\n",
        "print(x + 3, \n",
        "      x - 3, \n",
        "      x * 3, \n",
        "      x / 3, \n",
        "      x ** 3, \n",
        "      -(0.5 * x + 1)**2, sep =\"\\n\")"
      ],
      "execution_count": 48,
      "outputs": [
        {
          "output_type": "stream",
          "text": [
            "[4 5 6 7]\n",
            "[-2 -1  0  1]\n",
            "[ 3  6  9 12]\n",
            "[0.33333333 0.66666667 1.         1.33333333]\n",
            "[ 1  8 27 64]\n",
            "[-2.25 -4.   -6.25 -9.  ]\n"
          ],
          "name": "stdout"
        }
      ]
    },
    {
      "cell_type": "code",
      "metadata": {
        "id": "QrLwDY2So5hk",
        "colab_type": "code",
        "colab": {
          "base_uri": "https://localhost:8080/",
          "height": 108
        },
        "outputId": "7a1ee798-3759-4208-a112-9c57315e6c8e"
      },
      "source": [
        "print(np.exp(x))  # exponential e^1, e^2\n",
        "print(np.power(3, x)) # 3^(x) \n",
        "print(np.log(x))  # log(x)  = loge(x)\n",
        "print(np.log2(x))  # log2(x)\n",
        "print(np.log10(x)) "
      ],
      "execution_count": 49,
      "outputs": [
        {
          "output_type": "stream",
          "text": [
            "[ 2.71828183  7.3890561  20.08553692 54.59815003]\n",
            "[ 3  9 27 81]\n",
            "[0.         0.69314718 1.09861229 1.38629436]\n",
            "[0.        1.        1.5849625 2.       ]\n",
            "[0.         0.30103    0.47712125 0.60205999]\n"
          ],
          "name": "stdout"
        }
      ]
    },
    {
      "cell_type": "code",
      "metadata": {
        "id": "uxNGNXyoo7VB",
        "colab_type": "code",
        "colab": {
          "base_uri": "https://localhost:8080/",
          "height": 72
        },
        "outputId": "d44e8840-c765-495b-f7e8-9949d3ca9801"
      },
      "source": [
        "M = np.ones((3, 3))\n",
        "print(M)"
      ],
      "execution_count": 50,
      "outputs": [
        {
          "output_type": "stream",
          "text": [
            "[[1. 1. 1.]\n",
            " [1. 1. 1.]\n",
            " [1. 1. 1.]]\n"
          ],
          "name": "stdout"
        }
      ]
    },
    {
      "cell_type": "code",
      "metadata": {
        "id": "3LJ32zcqaSuj",
        "colab_type": "code",
        "colab": {
          "base_uri": "https://localhost:8080/",
          "height": 72
        },
        "outputId": "f7a3de7c-7974-4c04-92d3-5e0ec560a200"
      },
      "source": [
        "M1 = M + 1\n",
        "print(M1)"
      ],
      "execution_count": 51,
      "outputs": [
        {
          "output_type": "stream",
          "text": [
            "[[2. 2. 2.]\n",
            " [2. 2. 2.]\n",
            " [2. 2. 2.]]\n"
          ],
          "name": "stdout"
        }
      ]
    },
    {
      "cell_type": "code",
      "metadata": {
        "id": "rM_JC1D8aYRh",
        "colab_type": "code",
        "colab": {
          "base_uri": "https://localhost:8080/",
          "height": 54
        },
        "outputId": "25d1f797-9e06-4068-986b-8fffb3a0c1b4"
      },
      "source": [
        "M1_1 = M[:2, :2]\n",
        "M1_1[1, 1] = 4\n",
        "M1_1   # 반영됨 "
      ],
      "execution_count": 52,
      "outputs": [
        {
          "output_type": "execute_result",
          "data": {
            "text/plain": [
              "array([[1., 1.],\n",
              "       [1., 4.]])"
            ]
          },
          "metadata": {
            "tags": []
          },
          "execution_count": 52
        }
      ]
    },
    {
      "cell_type": "code",
      "metadata": {
        "id": "Sx1ABjuUac4C",
        "colab_type": "code",
        "colab": {
          "base_uri": "https://localhost:8080/",
          "height": 72
        },
        "outputId": "e9eacf7c-fe1e-4689-b206-6fa8960a2d1f"
      },
      "source": [
        "M = np.ones((3, 3)) \n",
        "a = np.array([1, 2, 3])\n",
        "M2 = M + a\n",
        "print(M2)"
      ],
      "execution_count": 53,
      "outputs": [
        {
          "output_type": "stream",
          "text": [
            "[[2. 3. 4.]\n",
            " [2. 3. 4.]\n",
            " [2. 3. 4.]]\n"
          ],
          "name": "stdout"
        }
      ]
    },
    {
      "cell_type": "code",
      "metadata": {
        "id": "4UWNF0zxatiW",
        "colab_type": "code",
        "colab": {
          "base_uri": "https://localhost:8080/",
          "height": 126
        },
        "outputId": "f9838a08-4543-47fd-ca6f-847fb3c6d41e"
      },
      "source": [
        "a = np.arange(3)\n",
        "print(a, a.ndim, sep = \"\\n\")\n",
        "b = np.arange(3)[:, np.newaxis]  # 열을 만듦 \n",
        "print(b, b.ndim, sep = \"\\n\")"
      ],
      "execution_count": 54,
      "outputs": [
        {
          "output_type": "stream",
          "text": [
            "[0 1 2]\n",
            "1\n",
            "[[0]\n",
            " [1]\n",
            " [2]]\n",
            "2\n"
          ],
          "name": "stdout"
        }
      ]
    },
    {
      "cell_type": "code",
      "metadata": {
        "id": "TooikRJZc0tP",
        "colab_type": "code",
        "colab": {
          "base_uri": "https://localhost:8080/",
          "height": 72
        },
        "outputId": "f459c403-a5f1-40b4-f016-63495fba3db1"
      },
      "source": [
        "print(a + b)  # shape이 다른데 덧셈을 할 수 있구나.... "
      ],
      "execution_count": 55,
      "outputs": [
        {
          "output_type": "stream",
          "text": [
            "[[0 1 2]\n",
            " [1 2 3]\n",
            " [2 3 4]]\n"
          ],
          "name": "stdout"
        }
      ]
    },
    {
      "cell_type": "code",
      "metadata": {
        "id": "OrE1HQXEc3jY",
        "colab_type": "code",
        "colab": {
          "base_uri": "https://localhost:8080/",
          "height": 72
        },
        "outputId": "fc4b3997-f9df-479c-ebed-90125af2f8b1"
      },
      "source": [
        "# 기초통계량 계산\n",
        "np.random.seed(13)\n",
        "x = np.random.randint(10, size = (3, 4))  # 3 X 4 행렬 원소를 0~9까지의 정수로 \n",
        "print(x)"
      ],
      "execution_count": 56,
      "outputs": [
        {
          "output_type": "stream",
          "text": [
            "[[2 0 0 6]\n",
            " [2 4 9 3]\n",
            " [4 2 6 5]]\n"
          ],
          "name": "stdout"
        }
      ]
    },
    {
      "cell_type": "code",
      "metadata": {
        "id": "ptQ-C4wXr5MU",
        "colab_type": "code",
        "colab": {
          "base_uri": "https://localhost:8080/",
          "height": 108
        },
        "outputId": "7fee538d-a340-4ec5-a3b0-0063a1e754f1"
      },
      "source": [
        "print(np.sum(x))        # x 원소의 총 합계\n",
        "print(np.min(x, axis = 1))   # 각 행의 최솟값\n",
        "print(np.min(x, axis = 0))   # 각 열의 최솟값\n",
        "print(np.mean(x, axis = 0))  # 각 열의 평균\n",
        "print(np.std(x, axis = 0))  # 각 열의 표준편차"
      ],
      "execution_count": 57,
      "outputs": [
        {
          "output_type": "stream",
          "text": [
            "43\n",
            "[0 2 2]\n",
            "[2 0 0 3]\n",
            "[2.66666667 2.         5.         4.66666667]\n",
            "[0.94280904 1.63299316 3.74165739 1.24721913]\n"
          ],
          "name": "stdout"
        }
      ]
    },
    {
      "cell_type": "code",
      "metadata": {
        "id": "QcTaaNdPuO_F",
        "colab_type": "code",
        "colab": {
          "base_uri": "https://localhost:8080/",
          "height": 145
        },
        "outputId": "ad2068e3-ff5a-4060-ca32-8890b3af69fb"
      },
      "source": [
        "# standardize x \n",
        "# axis0 이므로 열마다 \n",
        "x_std = (x - np.mean(x, axis = 0)) / np.std(x, axis = 0)\n",
        "print(x_std)\n",
        "print(np.mean(x))\n",
        "print(np.mean(x_std))\n",
        "print(np.var(x))\n",
        "print(np.var(x_std))   # mean = 0, var = 1로 standardize 됨을 확인할 수 있음. "
      ],
      "execution_count": 58,
      "outputs": [
        {
          "output_type": "stream",
          "text": [
            "[[-0.70710678 -1.22474487 -1.33630621  1.06904497]\n",
            " [-0.70710678  1.22474487  1.06904497 -1.33630621]\n",
            " [ 1.41421356  0.          0.26726124  0.26726124]]\n",
            "3.5833333333333335\n",
            "-5.551115123125783e-17\n",
            "6.409722222222221\n",
            "0.9999999999999999\n"
          ],
          "name": "stdout"
        }
      ]
    },
    {
      "cell_type": "markdown",
      "metadata": {
        "id": "Djcu9DUivmLq",
        "colab_type": "text"
      },
      "source": [
        "### 6.2 논리 인덱싱(Boolean indexing)과 순서 정렬(sorting)"
      ]
    },
    {
      "cell_type": "code",
      "metadata": {
        "id": "JNYpdzGDwZN_",
        "colab_type": "code",
        "colab": {
          "base_uri": "https://localhost:8080/",
          "height": 54
        },
        "outputId": "28a87b15-875f-42a5-bc3a-389b8d2def39"
      },
      "source": [
        "import numpy as np\n",
        "x = np.array([[1, 2, 3, 4], [5, 6, 7, 8]]) ; print(x)"
      ],
      "execution_count": 59,
      "outputs": [
        {
          "output_type": "stream",
          "text": [
            "[[1 2 3 4]\n",
            " [5 6 7 8]]\n"
          ],
          "name": "stdout"
        }
      ]
    },
    {
      "cell_type": "code",
      "metadata": {
        "id": "ulSF_8ebwfkm",
        "colab_type": "code",
        "colab": {
          "base_uri": "https://localhost:8080/",
          "height": 108
        },
        "outputId": "57cede69-bdf1-4444-dfd7-4a4ded3865d1"
      },
      "source": [
        "print(x >= 5)\n",
        "print(np.sum(x >= 5))   # 5이상인 경우의 수 (행, 열 상관 없이 그냥 개수)\n",
        "print(np.sum(x >= 5, axis = 1))  # 행 별로 몇 갠지 \n",
        "print(np.sum(x >= 5, axis = 0))  # 열별로 몇 갠지 "
      ],
      "execution_count": 60,
      "outputs": [
        {
          "output_type": "stream",
          "text": [
            "[[False False False False]\n",
            " [ True  True  True  True]]\n",
            "4\n",
            "[0 4]\n",
            "[1 1 1 1]\n"
          ],
          "name": "stdout"
        }
      ]
    },
    {
      "cell_type": "code",
      "metadata": {
        "id": "xr2XmzczxK1z",
        "colab_type": "code",
        "colab": {
          "base_uri": "https://localhost:8080/",
          "height": 72
        },
        "outputId": "9d27ca63-dd1c-4607-e1be-539be0b37aa4"
      },
      "source": [
        "print(np.any(x > 100)) # 하나라도 100보다 큰 게 있는지\n",
        "print(np.all(x < 7, axis = 0))  # 각 열에 해당되는 모든 원소가 7보다 작은지, 열별로 출력됨\n",
        "print(np.all(x==100))  # 이건 모든 entry에 대해서"
      ],
      "execution_count": 61,
      "outputs": [
        {
          "output_type": "stream",
          "text": [
            "False\n",
            "[ True  True False False]\n",
            "False\n"
          ],
          "name": "stdout"
        }
      ]
    },
    {
      "cell_type": "code",
      "metadata": {
        "id": "1mlV9cFmxNIW",
        "colab_type": "code",
        "colab": {
          "base_uri": "https://localhost:8080/",
          "height": 272
        },
        "outputId": "bb69495e-bba7-4eb4-afe8-beedb7afb5ea"
      },
      "source": [
        "# 논리 인덱싱\n",
        "x = np.array([[1, 2, 3, 4],\n",
        "              [5, 6, 7, 8],\n",
        "              [9, 10, 11, 12], \n",
        "              [13, 14, 15, 16]]) \n",
        "print(x)\n",
        "print(\"----------------------------------\")\n",
        "y = np.array([1, 0, 1, 0]) \n",
        "print(y)\n",
        "print(\"-----------------------------------\")\n",
        "print(x[y==0, :])  # y=0인 두 번째와 네 번째 행 & 모든 열\n",
        "print(\"-----------------------------------\")\n",
        "print(x[:, y==0])  # y=0인 두 번째와 네 번째 열 & 모든 행 "
      ],
      "execution_count": 62,
      "outputs": [
        {
          "output_type": "stream",
          "text": [
            "[[ 1  2  3  4]\n",
            " [ 5  6  7  8]\n",
            " [ 9 10 11 12]\n",
            " [13 14 15 16]]\n",
            "----------------------------------\n",
            "[1 0 1 0]\n",
            "-----------------------------------\n",
            "[[ 5  6  7  8]\n",
            " [13 14 15 16]]\n",
            "-----------------------------------\n",
            "[[ 2  4]\n",
            " [ 6  8]\n",
            " [10 12]\n",
            " [14 16]]\n"
          ],
          "name": "stdout"
        }
      ]
    },
    {
      "cell_type": "code",
      "metadata": {
        "id": "hgHcvFHsxWZ3",
        "colab_type": "code",
        "colab": {
          "base_uri": "https://localhost:8080/",
          "height": 126
        },
        "outputId": "9e0e8132-408c-47b1-c5f7-2ccc7062ef93"
      },
      "source": [
        "# array를 활용한 인덱싱\n",
        "x = np.array([11, 22, 33, 44, 55, 66, 77, 88, 99])\n",
        "print(x)\n",
        "print(\"----------------------------------\")\n",
        "idx1 = np.array([2, 3, 8])   \n",
        "idx2 = np.array([[2, 1, 3], [5, 2, 7]])\n",
        "x1 = x[idx1]  # 3, 4, 9번 째  \n",
        "x2 = x[idx2]  # 3, 2, 4번 째 / 6, 3, 8번 째 출력 \n",
        "print(x1)\n",
        "print('----------------------------------')\n",
        "print(x2)"
      ],
      "execution_count": 63,
      "outputs": [
        {
          "output_type": "stream",
          "text": [
            "[11 22 33 44 55 66 77 88 99]\n",
            "----------------------------------\n",
            "[33 44 99]\n",
            "----------------------------------\n",
            "[[33 22 44]\n",
            " [66 33 88]]\n"
          ],
          "name": "stdout"
        }
      ]
    },
    {
      "cell_type": "code",
      "metadata": {
        "id": "O_PIjWZG8bra",
        "colab_type": "code",
        "colab": {
          "base_uri": "https://localhost:8080/",
          "height": 345
        },
        "outputId": "f436b5cb-9877-4bea-b0f3-5384494ec481"
      },
      "source": [
        "x = np.arange(12).reshape(-1, 4)\n",
        "print(x)\n",
        "print(\"===============================\")\n",
        "ind = np.array([1, 3])\n",
        "print(ind)\n",
        "print(\"==============================\")\n",
        "print(~ind) \n",
        "print(-ind)\n",
        "print(\"==============================\")\n",
        "xx1 = x[:, ind]\n",
        "xx2 = x[:, ~ind]\n",
        "xx3 = x[:, -ind]\n",
        "print(xx1, xx2, xx3, sep = \"\\n\")"
      ],
      "execution_count": 64,
      "outputs": [
        {
          "output_type": "stream",
          "text": [
            "[[ 0  1  2  3]\n",
            " [ 4  5  6  7]\n",
            " [ 8  9 10 11]]\n",
            "===============================\n",
            "[1 3]\n",
            "==============================\n",
            "[-2 -4]\n",
            "[-1 -3]\n",
            "==============================\n",
            "[[ 1  3]\n",
            " [ 5  7]\n",
            " [ 9 11]]\n",
            "[[ 2  0]\n",
            " [ 6  4]\n",
            " [10  8]]\n",
            "[[ 3  1]\n",
            " [ 7  5]\n",
            " [11  9]]\n"
          ],
          "name": "stdout"
        }
      ]
    },
    {
      "cell_type": "code",
      "metadata": {
        "id": "9ywudpHHKclr",
        "colab_type": "code",
        "colab": {
          "base_uri": "https://localhost:8080/",
          "height": 126
        },
        "outputId": "61e336db-a2e0-42dd-df33-15cf06956e02"
      },
      "source": [
        "# 인덱싱에서의 브로드캐스팅\n",
        "x = np.arange(12).reshape((3, 4))\n",
        "print(x)\n",
        "x1 = np.arange(12).reshape((-1, 4))\n",
        "print(x1)"
      ],
      "execution_count": 65,
      "outputs": [
        {
          "output_type": "stream",
          "text": [
            "[[ 0  1  2  3]\n",
            " [ 4  5  6  7]\n",
            " [ 8  9 10 11]]\n",
            "[[ 0  1  2  3]\n",
            " [ 4  5  6  7]\n",
            " [ 8  9 10 11]]\n"
          ],
          "name": "stdout"
        }
      ]
    },
    {
      "cell_type": "code",
      "metadata": {
        "id": "TrlLmMCoLXnA",
        "colab_type": "code",
        "colab": {
          "base_uri": "https://localhost:8080/",
          "height": 235
        },
        "outputId": "60f3a915-2c61-4e0f-9405-f147fa4d8a75"
      },
      "source": [
        "y1 = np.array([1, 2, 2])\n",
        "y2 = np.array([2, 0, 1])\n",
        "print(y1[:, np.newaxis])  # 3 X 1 행렬 \n",
        "print('---------------------------')\n",
        "print(y2)    #  1-d tensor\n",
        "print('---------------------------')\n",
        "print(x[y1, y2])  # y1에 위치되어있는 행, y2에 위치되어있는 행. \n",
        "                  # (2, 3), (3, 1), (3, 2) : 6, 8, 9 \n",
        "print('---------------------------')\n",
        "print(x[y1[:, np.newaxis], y2])   # (1, 2, 2) X (2, 0, 1) \n",
        "                                  # (1, 2), (1, 0), (1, 1)\n",
        "                                  # (2, 2), (2, 0), (2, 1)\n",
        "                                  # (2, 2), (2, 0), (2, 1)\n",
        "print('---------------------------')"
      ],
      "execution_count": 66,
      "outputs": [
        {
          "output_type": "stream",
          "text": [
            "[[1]\n",
            " [2]\n",
            " [2]]\n",
            "---------------------------\n",
            "[2 0 1]\n",
            "---------------------------\n",
            "[6 8 9]\n",
            "---------------------------\n",
            "[[ 6  4  5]\n",
            " [10  8  9]\n",
            " [10  8  9]]\n",
            "---------------------------\n"
          ],
          "name": "stdout"
        }
      ]
    },
    {
      "cell_type": "code",
      "metadata": {
        "id": "DNYN_JoJMFRj",
        "colab_type": "code",
        "colab": {
          "base_uri": "https://localhost:8080/",
          "height": 35
        },
        "outputId": "8bf51de5-e892-4709-860c-2832d73889ae"
      },
      "source": [
        "# 순서 정렬 \n",
        "x = np.array([2, 4, 3, 1, 5])\n",
        "print(np.sort(x))"
      ],
      "execution_count": 67,
      "outputs": [
        {
          "output_type": "stream",
          "text": [
            "[1 2 3 4 5]\n"
          ],
          "name": "stdout"
        }
      ]
    },
    {
      "cell_type": "code",
      "metadata": {
        "id": "G1BXfRNONTq7",
        "colab_type": "code",
        "colab": {
          "base_uri": "https://localhost:8080/",
          "height": 35
        },
        "outputId": "69678b00-50af-4d35-9fdf-56bc8a2c179c"
      },
      "source": [
        "ind = np.argsort(x)  # sorting된 것들이 원래에 어떤 index를 가지고 있는지 \n",
        "print(ind)"
      ],
      "execution_count": 68,
      "outputs": [
        {
          "output_type": "stream",
          "text": [
            "[3 0 2 1 4]\n"
          ],
          "name": "stdout"
        }
      ]
    },
    {
      "cell_type": "code",
      "metadata": {
        "id": "ZQ0aYtpg6pip",
        "colab_type": "code",
        "colab": {
          "base_uri": "https://localhost:8080/",
          "height": 145
        },
        "outputId": "be34179e-8319-46e9-8d4b-5c424d1440d9"
      },
      "source": [
        "x = np.random.randint(1, 10, size = (2, 3, 4))  # 3 X 4행렬을 두 개 \n",
        "x.ndim\n",
        "print(x)"
      ],
      "execution_count": 69,
      "outputs": [
        {
          "output_type": "stream",
          "text": [
            "[[[5 3 1 4]\n",
            "  [6 4 7 6]\n",
            "  [2 3 9 9]]\n",
            "\n",
            " [[7 3 5 6]\n",
            "  [8 4 6 9]\n",
            "  [4 9 6 2]]]\n"
          ],
          "name": "stdout"
        }
      ]
    },
    {
      "cell_type": "code",
      "metadata": {
        "id": "YSgO0pY47Rdv",
        "colab_type": "code",
        "colab": {
          "base_uri": "https://localhost:8080/",
          "height": 54
        },
        "outputId": "3808704a-ad37-4aa5-959e-8a15e69e9087"
      },
      "source": [
        "x1 = x[:, -1, :]   # 모든 개수, 제일 끝 행, 모든 열 \n",
        "x1"
      ],
      "execution_count": 70,
      "outputs": [
        {
          "output_type": "execute_result",
          "data": {
            "text/plain": [
              "array([[2, 3, 9, 9],\n",
              "       [4, 9, 6, 2]])"
            ]
          },
          "metadata": {
            "tags": []
          },
          "execution_count": 70
        }
      ]
    },
    {
      "cell_type": "code",
      "metadata": {
        "id": "i9IXjtHT7cd0",
        "colab_type": "code",
        "colab": {}
      },
      "source": [
        ""
      ],
      "execution_count": 70,
      "outputs": []
    }
  ]
}