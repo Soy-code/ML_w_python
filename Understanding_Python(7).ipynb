{
  "nbformat": 4,
  "nbformat_minor": 0,
  "metadata": {
    "colab": {
      "name": "Understanding_Python(7)",
      "provenance": [],
      "collapsed_sections": [],
      "authorship_tag": "ABX9TyO37cW9ptU0ewV0BIHUBzip"
    },
    "kernelspec": {
      "name": "python3",
      "display_name": "Python 3"
    }
  },
  "cells": [
    {
      "cell_type": "markdown",
      "metadata": {
        "id": "ZGSAFcQmA2i6",
        "colab_type": "text"
      },
      "source": [
        "### 7. 판다스(Pandas)"
      ]
    },
    {
      "cell_type": "code",
      "metadata": {
        "id": "AwkpHHGCB691",
        "colab_type": "code",
        "colab": {
          "base_uri": "https://localhost:8080/",
          "height": 108
        },
        "outputId": "add141d7-d746-4aab-f0e2-53772fc2d84b"
      },
      "source": [
        "import pandas as pd\n",
        "X1 = pd.Series([0.1, 0.2, 0.3, 0.4], index = ['a', 'b', 'c', 'd'])  # 1-d tensor\n",
        "                # pandas는 행렬에 index를 부여할 수 있음. numpy와 다른 점. \n",
        "print(X1)"
      ],
      "execution_count": 1,
      "outputs": [
        {
          "output_type": "stream",
          "text": [
            "a    0.1\n",
            "b    0.2\n",
            "c    0.3\n",
            "d    0.4\n",
            "dtype: float64\n"
          ],
          "name": "stdout"
        }
      ]
    },
    {
      "cell_type": "code",
      "metadata": {
        "id": "oyQhQZ4dC08a",
        "colab_type": "code",
        "colab": {
          "base_uri": "https://localhost:8080/",
          "height": 54
        },
        "outputId": "83bef5b4-8b31-47b7-bd7e-5268d540234f"
      },
      "source": [
        "print(X1.index)\n",
        "print(X1.values)"
      ],
      "execution_count": 2,
      "outputs": [
        {
          "output_type": "stream",
          "text": [
            "Index(['a', 'b', 'c', 'd'], dtype='object')\n",
            "[0.1 0.2 0.3 0.4]\n"
          ],
          "name": "stdout"
        }
      ]
    },
    {
      "cell_type": "code",
      "metadata": {
        "id": "47-PU6_iFBUU",
        "colab_type": "code",
        "colab": {
          "base_uri": "https://localhost:8080/",
          "height": 163
        },
        "outputId": "15fbea61-64b8-45b9-f79a-b2efbf7581c4"
      },
      "source": [
        "print(X1['a':'c'])  # index 얘는 'a'부터 'c'까지  (c를 포함하네)\n",
        "print(X1[0:3])  # 얘는 0, 1, 2"
      ],
      "execution_count": 3,
      "outputs": [
        {
          "output_type": "stream",
          "text": [
            "a    0.1\n",
            "b    0.2\n",
            "c    0.3\n",
            "dtype: float64\n",
            "a    0.1\n",
            "b    0.2\n",
            "c    0.3\n",
            "dtype: float64\n"
          ],
          "name": "stdout"
        }
      ]
    },
    {
      "cell_type": "code",
      "metadata": {
        "id": "Xj29IcTNFWqm",
        "colab_type": "code",
        "colab": {
          "base_uri": "https://localhost:8080/",
          "height": 145
        },
        "outputId": "138fc691-6974-4e5f-f21c-9e769ea98dca"
      },
      "source": [
        "# Series와 DataFrame\n",
        "population1 = {'서울' : 9700000, \n",
        "               '부산' : 4500000, \n",
        "               '인천' : 4000000, \n",
        "               '광주' : 2000000, \n",
        "               '대구' : 2500000}  # 딕셔너리 \n",
        "popu = pd.Series(population1)\n",
        "print(popu)   # dictonary -> series \n",
        "print(popu.ndim)"
      ],
      "execution_count": 4,
      "outputs": [
        {
          "output_type": "stream",
          "text": [
            "서울    9700000\n",
            "부산    4500000\n",
            "인천    4000000\n",
            "광주    2000000\n",
            "대구    2500000\n",
            "dtype: int64\n",
            "1\n"
          ],
          "name": "stdout"
        }
      ]
    },
    {
      "cell_type": "code",
      "metadata": {
        "id": "5GEbBcDHF4-X",
        "colab_type": "code",
        "colab": {
          "base_uri": "https://localhost:8080/",
          "height": 90
        },
        "outputId": "7e45759a-ddf4-453d-ecc7-56014f34f3a8"
      },
      "source": [
        "X2 = pd.DataFrame([[1, 2, 3], \n",
        "                   [4, 5, 6], \n",
        "                   [7, 8, 9]], columns = ['a', 'b', 'c'], index = [1, 2, 3])\n",
        "print(X2)  # index를 행으로 보고, columns는 열"
      ],
      "execution_count": 5,
      "outputs": [
        {
          "output_type": "stream",
          "text": [
            "   a  b  c\n",
            "1  1  2  3\n",
            "2  4  5  6\n",
            "3  7  8  9\n"
          ],
          "name": "stdout"
        }
      ]
    },
    {
      "cell_type": "code",
      "metadata": {
        "id": "uq_jj23oGdT0",
        "colab_type": "code",
        "colab": {
          "base_uri": "https://localhost:8080/",
          "height": 198
        },
        "outputId": "307ac8ea-e920-4107-f2ee-fd906122307a"
      },
      "source": [
        "pd.DataFrame(popu, columns = ['pop'])  "
      ],
      "execution_count": 6,
      "outputs": [
        {
          "output_type": "execute_result",
          "data": {
            "text/html": [
              "<div>\n",
              "<style scoped>\n",
              "    .dataframe tbody tr th:only-of-type {\n",
              "        vertical-align: middle;\n",
              "    }\n",
              "\n",
              "    .dataframe tbody tr th {\n",
              "        vertical-align: top;\n",
              "    }\n",
              "\n",
              "    .dataframe thead th {\n",
              "        text-align: right;\n",
              "    }\n",
              "</style>\n",
              "<table border=\"1\" class=\"dataframe\">\n",
              "  <thead>\n",
              "    <tr style=\"text-align: right;\">\n",
              "      <th></th>\n",
              "      <th>pop</th>\n",
              "    </tr>\n",
              "  </thead>\n",
              "  <tbody>\n",
              "    <tr>\n",
              "      <th>서울</th>\n",
              "      <td>9700000</td>\n",
              "    </tr>\n",
              "    <tr>\n",
              "      <th>부산</th>\n",
              "      <td>4500000</td>\n",
              "    </tr>\n",
              "    <tr>\n",
              "      <th>인천</th>\n",
              "      <td>4000000</td>\n",
              "    </tr>\n",
              "    <tr>\n",
              "      <th>광주</th>\n",
              "      <td>2000000</td>\n",
              "    </tr>\n",
              "    <tr>\n",
              "      <th>대구</th>\n",
              "      <td>2500000</td>\n",
              "    </tr>\n",
              "  </tbody>\n",
              "</table>\n",
              "</div>"
            ],
            "text/plain": [
              "        pop\n",
              "서울  9700000\n",
              "부산  4500000\n",
              "인천  4000000\n",
              "광주  2000000\n",
              "대구  2500000"
            ]
          },
          "metadata": {
            "tags": []
          },
          "execution_count": 6
        }
      ]
    },
    {
      "cell_type": "code",
      "metadata": {
        "id": "vBiQVx4_IBjW",
        "colab_type": "code",
        "colab": {
          "base_uri": "https://localhost:8080/",
          "height": 145
        },
        "outputId": "78939e7e-e829-483d-b733-8d27cfdb8e15"
      },
      "source": [
        "ind1 = {'서울' : 95, \n",
        "        '부산' : 80, \n",
        "        '인천' : 85, \n",
        "        '광주' : 75, \n",
        "        '대구' : 80}    # dictionary\n",
        "print(ind1)\n",
        "ind = pd.Series(ind1)   # dictionary를 series로 변환\n",
        "print(ind)"
      ],
      "execution_count": 7,
      "outputs": [
        {
          "output_type": "stream",
          "text": [
            "{'서울': 95, '부산': 80, '인천': 85, '광주': 75, '대구': 80}\n",
            "서울    95\n",
            "부산    80\n",
            "인천    85\n",
            "광주    75\n",
            "대구    80\n",
            "dtype: int64\n"
          ],
          "name": "stdout"
        }
      ]
    },
    {
      "cell_type": "code",
      "metadata": {
        "id": "vNw5CgJHIMem",
        "colab_type": "code",
        "colab": {
          "base_uri": "https://localhost:8080/",
          "height": 126
        },
        "outputId": "3d4a35f7-30c7-4264-83ff-436be7894ac6"
      },
      "source": [
        "y = pd.DataFrame({'pop' : popu, '자립도(%)' : ind})  # 자동으로 같은 이름으로 엮이나보다 \n",
        "print(y)"
      ],
      "execution_count": 8,
      "outputs": [
        {
          "output_type": "stream",
          "text": [
            "        pop  자립도(%)\n",
            "서울  9700000      95\n",
            "부산  4500000      80\n",
            "인천  4000000      85\n",
            "광주  2000000      75\n",
            "대구  2500000      80\n"
          ],
          "name": "stdout"
        }
      ]
    },
    {
      "cell_type": "code",
      "metadata": {
        "id": "tF8t7AAhJxO7",
        "colab_type": "code",
        "colab": {
          "base_uri": "https://localhost:8080/",
          "height": 217
        },
        "outputId": "c2dc06b3-66d8-468e-c0cf-ad31beaa58e2"
      },
      "source": [
        "print(y['자립도(%)'])  # y에서 자립도 부분만 뺌 \n",
        "print(\"---------------------\")\n",
        "print(y['부산':'광주'])"
      ],
      "execution_count": 9,
      "outputs": [
        {
          "output_type": "stream",
          "text": [
            "서울    95\n",
            "부산    80\n",
            "인천    85\n",
            "광주    75\n",
            "대구    80\n",
            "Name: 자립도(%), dtype: int64\n",
            "---------------------\n",
            "        pop  자립도(%)\n",
            "부산  4500000      80\n",
            "인천  4000000      85\n",
            "광주  2000000      75\n"
          ],
          "name": "stdout"
        }
      ]
    },
    {
      "cell_type": "code",
      "metadata": {
        "id": "pn3DjqJrMn0I",
        "colab_type": "code",
        "colab": {
          "base_uri": "https://localhost:8080/",
          "height": 181
        },
        "outputId": "71bba4b4-acd8-4c0e-bc44-78d6c58f9e81"
      },
      "source": [
        "import pandas as pd\n",
        "import numpy as np\n",
        "\n",
        "W = pd.DataFrame(np.arange(12).reshape(-1, 4), columns = ['a', 'b', 'c', 'd'])\n",
        "print(W)\n",
        "print(\"---------------------\")\n",
        "np.random.shuffle(W.values)  # 행 순서를 shuffling? \n",
        "print(W)"
      ],
      "execution_count": 10,
      "outputs": [
        {
          "output_type": "stream",
          "text": [
            "   a  b   c   d\n",
            "0  0  1   2   3\n",
            "1  4  5   6   7\n",
            "2  8  9  10  11\n",
            "---------------------\n",
            "   a  b   c   d\n",
            "0  4  5   6   7\n",
            "1  0  1   2   3\n",
            "2  8  9  10  11\n"
          ],
          "name": "stdout"
        }
      ]
    },
    {
      "cell_type": "code",
      "metadata": {
        "id": "wzzHCgOsNOxm",
        "colab_type": "code",
        "colab": {
          "base_uri": "https://localhost:8080/",
          "height": 108
        },
        "outputId": "1ab7548d-c231-4fee-e18e-b7538fa3dd23"
      },
      "source": [
        "w1 = W.loc[:, 'b']\n",
        "print(w1)\n",
        "print(len(w1))  # length of w1 = 3"
      ],
      "execution_count": 11,
      "outputs": [
        {
          "output_type": "stream",
          "text": [
            "0    5\n",
            "1    1\n",
            "2    9\n",
            "Name: b, dtype: int64\n",
            "3\n"
          ],
          "name": "stdout"
        }
      ]
    },
    {
      "cell_type": "code",
      "metadata": {
        "id": "2YXdb9mJWRmd",
        "colab_type": "code",
        "colab": {
          "base_uri": "https://localhost:8080/",
          "height": 345
        },
        "outputId": "1b6b8874-d567-492f-b2a0-5cc94947b10c"
      },
      "source": [
        "w22 = [0]\n",
        "for i in range(1, len(w1)) :  # length(w1) = 3은 포함 안 되므로 2까지 즉, 1과 2에 대해서만 \n",
        "  w11 = w1[i] - w1[i-1] \n",
        "  w22.append(w11) \n",
        "print(w22)\n",
        "print('-----------------------------')\n",
        "ww = pd.DataFrame(w22, columns = ['e'])\n",
        "print(ww)\n",
        "print('-----------------------------')\n",
        "www = pd.concat([W, ww], axis = 1)  # 행을 기준으로 열을 옆으로 붙임 (r에서 cbind랑 같음)\n",
        "print(www)\n",
        "aa = pd.concat([W, ww], axis = 0)  # 위에랑 차이점이 어떻게 되는 지 확인 \n",
        "print(aa)"
      ],
      "execution_count": 12,
      "outputs": [
        {
          "output_type": "stream",
          "text": [
            "[0, -4, 8]\n",
            "-----------------------------\n",
            "   e\n",
            "0  0\n",
            "1 -4\n",
            "2  8\n",
            "-----------------------------\n",
            "   a  b   c   d  e\n",
            "0  4  5   6   7  0\n",
            "1  0  1   2   3 -4\n",
            "2  8  9  10  11  8\n",
            "     a    b     c     d    e\n",
            "0  4.0  5.0   6.0   7.0  NaN\n",
            "1  0.0  1.0   2.0   3.0  NaN\n",
            "2  8.0  9.0  10.0  11.0  NaN\n",
            "0  NaN  NaN   NaN   NaN  0.0\n",
            "1  NaN  NaN   NaN   NaN -4.0\n",
            "2  NaN  NaN   NaN   NaN  8.0\n"
          ],
          "name": "stdout"
        }
      ]
    },
    {
      "cell_type": "code",
      "metadata": {
        "id": "QUhMVtkYaegJ",
        "colab_type": "code",
        "colab": {
          "base_uri": "https://localhost:8080/",
          "height": 163
        },
        "outputId": "e20cb425-7918-4a8a-e681-79483cc81416"
      },
      "source": [
        "# data slicing1 : loc \n",
        "print(W)\n",
        "print('-----------------------------')\n",
        "print(W.loc[0:1, :])  # 0~1행까지의 자료를 ,slicing. \n",
        "                      # [a:b]는 a에서 b자리수 까지를 의미\n",
        "                      # 가능한 loc를 쓰셈 "
      ],
      "execution_count": 13,
      "outputs": [
        {
          "output_type": "stream",
          "text": [
            "   a  b   c   d\n",
            "0  4  5   6   7\n",
            "1  0  1   2   3\n",
            "2  8  9  10  11\n",
            "-----------------------------\n",
            "   a  b  c  d\n",
            "0  4  5  6  7\n",
            "1  0  1  2  3\n"
          ],
          "name": "stdout"
        }
      ]
    },
    {
      "cell_type": "code",
      "metadata": {
        "id": "Uoc92VwtbSrX",
        "colab_type": "code",
        "colab": {
          "base_uri": "https://localhost:8080/",
          "height": 54
        },
        "outputId": "fbe668fc-6f43-4def-9726-378c44d160be"
      },
      "source": [
        "# data slicing1 : iloc   \n",
        "print(W.iloc[0:1, :])  # 0행까지의 자료를 slicing \n",
        "                       # [a:b]는 a에서 b-1까지를 의미"
      ],
      "execution_count": 14,
      "outputs": [
        {
          "output_type": "stream",
          "text": [
            "   a  b  c  d\n",
            "0  4  5  6  7\n"
          ],
          "name": "stdout"
        }
      ]
    },
    {
      "cell_type": "code",
      "metadata": {
        "id": "S42a2yqJb_XV",
        "colab_type": "code",
        "colab": {
          "base_uri": "https://localhost:8080/",
          "height": 72
        },
        "outputId": "59e1fdf4-eb3b-4051-c65c-0239a7f9d92c"
      },
      "source": [
        "D1 = pd.DataFrame([[1, 2], [3, 4]], columns = ['a', 'b'])\n",
        "print(D1)"
      ],
      "execution_count": 15,
      "outputs": [
        {
          "output_type": "stream",
          "text": [
            "   a  b\n",
            "0  1  2\n",
            "1  3  4\n"
          ],
          "name": "stdout"
        }
      ]
    },
    {
      "cell_type": "code",
      "metadata": {
        "id": "tx48OHV_cWlI",
        "colab_type": "code",
        "colab": {
          "base_uri": "https://localhost:8080/",
          "height": 90
        },
        "outputId": "546e15df-85f1-40b4-d37d-8942dd7cf33b"
      },
      "source": [
        "D2 = pd.DataFrame([[11, 22, 33], [44, 55, 66], [77, 88, 99]], \n",
        "                  columns = ['a', 'b', 'c'])\n",
        "print(D2)"
      ],
      "execution_count": 16,
      "outputs": [
        {
          "output_type": "stream",
          "text": [
            "    a   b   c\n",
            "0  11  22  33\n",
            "1  44  55  66\n",
            "2  77  88  99\n"
          ],
          "name": "stdout"
        }
      ]
    },
    {
      "cell_type": "code",
      "metadata": {
        "id": "YR5XLzBmhL_j",
        "colab_type": "code",
        "colab": {
          "base_uri": "https://localhost:8080/",
          "height": 90
        },
        "outputId": "70898526-37b5-466a-ccd5-0e3dd8083105"
      },
      "source": [
        "print(D1 + D2)\n",
        "# size가 달라도 연산이 가능함. \n",
        "# 근데 이게 같은 행/열에 있어서 가능한건지\n",
        "# 아니면 행/열 이름이 같아서 가능한건지 (O)"
      ],
      "execution_count": 17,
      "outputs": [
        {
          "output_type": "stream",
          "text": [
            "      a     b   c\n",
            "0  12.0  24.0 NaN\n",
            "1  47.0  59.0 NaN\n",
            "2   NaN   NaN NaN\n"
          ],
          "name": "stdout"
        }
      ]
    },
    {
      "cell_type": "code",
      "metadata": {
        "id": "-3H81kn2h37u",
        "colab_type": "code",
        "colab": {
          "base_uri": "https://localhost:8080/",
          "height": 254
        },
        "outputId": "811ef0de-c9d7-468d-c0b0-0d43f0c7c613"
      },
      "source": [
        "test1 = pd.DataFrame([[1, 2], [3, 4]], columns = ['a', 'b'])\n",
        "print(test1)\n",
        "print('-------------------')\n",
        "test2 = pd.DataFrame([[3, 4, 5], [5, 6, 7], [6, 7, 8]], columns = ['c', 'd', 'f'])\n",
        "print(test2)\n",
        "print('-------------------')\n",
        "sum_tests = test1 + test2\n",
        "print(sum_tests)\n",
        "\n",
        "# 열 이름이 다르니까 더해지지 않네"
      ],
      "execution_count": 18,
      "outputs": [
        {
          "output_type": "stream",
          "text": [
            "   a  b\n",
            "0  1  2\n",
            "1  3  4\n",
            "-------------------\n",
            "   c  d  f\n",
            "0  3  4  5\n",
            "1  5  6  7\n",
            "2  6  7  8\n",
            "-------------------\n",
            "    a   b   c   d   f\n",
            "0 NaN NaN NaN NaN NaN\n",
            "1 NaN NaN NaN NaN NaN\n",
            "2 NaN NaN NaN NaN NaN\n"
          ],
          "name": "stdout"
        }
      ]
    },
    {
      "cell_type": "code",
      "metadata": {
        "id": "ztzlblsjiq6m",
        "colab_type": "code",
        "colab": {
          "base_uri": "https://localhost:8080/",
          "height": 581
        },
        "outputId": "a8c52e61-43c6-4187-bc8a-6e71bec008f9"
      },
      "source": [
        "print(D1)\n",
        "print(D2)\n",
        "print(D1 - D2) \n",
        "print(D1 / D2)\n",
        "print(D1 * D2)\n",
        "print(D2 * D1)\n",
        "print(D2 % D1)  # 나머지 \n",
        "print(D2 // D1)  # 몫"
      ],
      "execution_count": 19,
      "outputs": [
        {
          "output_type": "stream",
          "text": [
            "   a  b\n",
            "0  1  2\n",
            "1  3  4\n",
            "    a   b   c\n",
            "0  11  22  33\n",
            "1  44  55  66\n",
            "2  77  88  99\n",
            "      a     b   c\n",
            "0 -10.0 -20.0 NaN\n",
            "1 -41.0 -51.0 NaN\n",
            "2   NaN   NaN NaN\n",
            "          a         b   c\n",
            "0  0.090909  0.090909 NaN\n",
            "1  0.068182  0.072727 NaN\n",
            "2       NaN       NaN NaN\n",
            "       a      b   c\n",
            "0   11.0   44.0 NaN\n",
            "1  132.0  220.0 NaN\n",
            "2    NaN    NaN NaN\n",
            "       a      b   c\n",
            "0   11.0   44.0 NaN\n",
            "1  132.0  220.0 NaN\n",
            "2    NaN    NaN NaN\n",
            "     a    b   c\n",
            "0  0.0  0.0 NaN\n",
            "1  2.0  3.0 NaN\n",
            "2  NaN  NaN NaN\n",
            "      a     b   c\n",
            "0  11.0  11.0 NaN\n",
            "1  14.0  13.0 NaN\n",
            "2   NaN   NaN NaN\n"
          ],
          "name": "stdout"
        }
      ]
    },
    {
      "cell_type": "markdown",
      "metadata": {
        "id": "ei77o0fBlNsk",
        "colab_type": "text"
      },
      "source": [
        "### 7.1  결측 자료의 처리"
      ]
    },
    {
      "cell_type": "code",
      "metadata": {
        "id": "3_tEOvqImMJU",
        "colab_type": "code",
        "colab": {
          "base_uri": "https://localhost:8080/",
          "height": 199
        },
        "outputId": "1cd3a2b1-fdd2-459e-ebdc-860585d6bf18"
      },
      "source": [
        "n = pd.Series([1, np.nan, 'missing', None])\n",
        "print(n)\n",
        "n.isnull()   # NaN과 None 값을 null값으로 인식"
      ],
      "execution_count": 20,
      "outputs": [
        {
          "output_type": "stream",
          "text": [
            "0          1\n",
            "1        NaN\n",
            "2    missing\n",
            "3       None\n",
            "dtype: object\n"
          ],
          "name": "stdout"
        },
        {
          "output_type": "execute_result",
          "data": {
            "text/plain": [
              "0    False\n",
              "1     True\n",
              "2    False\n",
              "3     True\n",
              "dtype: bool"
            ]
          },
          "metadata": {
            "tags": []
          },
          "execution_count": 20
        }
      ]
    },
    {
      "cell_type": "code",
      "metadata": {
        "id": "cWjfH2Iprng-",
        "colab_type": "code",
        "colab": {
          "base_uri": "https://localhost:8080/",
          "height": 72
        },
        "outputId": "fd363f31-668d-40ba-f9f1-4c2f576ec5b7"
      },
      "source": [
        "n[n.notnull()]  # 결측값이 없는 곳만 출력"
      ],
      "execution_count": 21,
      "outputs": [
        {
          "output_type": "execute_result",
          "data": {
            "text/plain": [
              "0          1\n",
              "2    missing\n",
              "dtype: object"
            ]
          },
          "metadata": {
            "tags": []
          },
          "execution_count": 21
        }
      ]
    },
    {
      "cell_type": "code",
      "metadata": {
        "id": "JfKhHoD2rwJA",
        "colab_type": "code",
        "colab": {
          "base_uri": "https://localhost:8080/",
          "height": 108
        },
        "outputId": "b04227ab-27f1-494a-ad43-36ad81752506"
      },
      "source": [
        "n.fillna(0) # 결측값을 0으로 대체"
      ],
      "execution_count": 22,
      "outputs": [
        {
          "output_type": "execute_result",
          "data": {
            "text/plain": [
              "0          1\n",
              "1          0\n",
              "2    missing\n",
              "3          0\n",
              "dtype: object"
            ]
          },
          "metadata": {
            "tags": []
          },
          "execution_count": 22
        }
      ]
    },
    {
      "cell_type": "code",
      "metadata": {
        "id": "umHxFPKblsYF",
        "colab_type": "code",
        "colab": {
          "base_uri": "https://localhost:8080/",
          "height": 126
        },
        "outputId": "d11b6dd1-a534-4d16-9d7f-f84bd9a762df"
      },
      "source": [
        "m = pd.DataFrame([[1, None, 2, None], \n",
        "                  [4, 5, 6, None], \n",
        "                  [None, 7, 8, None]], \n",
        "                 index = list('123'), columns = list('abcd'))\n",
        "print(list('123'))\n",
        "print(list('abcd'))\n",
        "print(m)"
      ],
      "execution_count": 23,
      "outputs": [
        {
          "output_type": "stream",
          "text": [
            "['1', '2', '3']\n",
            "['a', 'b', 'c', 'd']\n",
            "     a    b  c     d\n",
            "1  1.0  NaN  2  None\n",
            "2  4.0  5.0  6  None\n",
            "3  NaN  7.0  8  None\n"
          ],
          "name": "stdout"
        }
      ]
    },
    {
      "cell_type": "code",
      "metadata": {
        "id": "-GbupbSdmFZ6",
        "colab_type": "code",
        "colab": {
          "base_uri": "https://localhost:8080/",
          "height": 217
        },
        "outputId": "8f61b34a-dff0-476c-f751-66d30edb406a"
      },
      "source": [
        "print(m.dropna(axis = 'columns', how = 'all')) # 각 열을 기준으로 모두 결측값이면 drop함. \n",
        "print(m.dropna(axis = 1, how = 'all'))  # column <=> axis = 1\n",
        "print('------------------------------')\n",
        "print(m.dropna(axis = 0, thresh = 3))  # 3개 이상의 non-missing value를 가지고 있으면 남김 \n",
        "                                       # 2개 이하의 missing value를 가지고 있으면 버림 "
      ],
      "execution_count": 24,
      "outputs": [
        {
          "output_type": "stream",
          "text": [
            "     a    b  c\n",
            "1  1.0  NaN  2\n",
            "2  4.0  5.0  6\n",
            "3  NaN  7.0  8\n",
            "     a    b  c\n",
            "1  1.0  NaN  2\n",
            "2  4.0  5.0  6\n",
            "3  NaN  7.0  8\n",
            "------------------------------\n",
            "     a    b  c     d\n",
            "2  4.0  5.0  6  None\n"
          ],
          "name": "stdout"
        }
      ]
    },
    {
      "cell_type": "code",
      "metadata": {
        "id": "uMLr0ktjtpWK",
        "colab_type": "code",
        "colab": {
          "base_uri": "https://localhost:8080/",
          "height": 654
        },
        "outputId": "8c90f561-e141-477a-de3e-cc687fcf2b23"
      },
      "source": [
        "print(m)\n",
        "print(m.fillna(method = 'bfill', axis = 1))  # axis = 1: across column (행별로)\n",
        "                                             # bfill : nan을 그 바로 뒤(backward)의 값으로 채움\n",
        "print('---------------------------------')\n",
        "print(m)\n",
        "print(m.fillna(method = \"ffill\", axis = 1))  # ffill : nan을 그 바로 앞(forward)의 값으로 채움\n",
        "print('---------------------------------')\n",
        "print(m)\n",
        "print(m.fillna(method = \"bfill\", axis = 0))  # axis = 0 : across row (열별로)\n",
        "print('---------------------------------')\n",
        "print(m)\n",
        "print(m.fillna(method = \"ffill\", axis = 0)) "
      ],
      "execution_count": 25,
      "outputs": [
        {
          "output_type": "stream",
          "text": [
            "     a    b  c     d\n",
            "1  1.0  NaN  2  None\n",
            "2  4.0  5.0  6  None\n",
            "3  NaN  7.0  8  None\n",
            "     a    b    c   d\n",
            "1  1.0  2.0  2.0 NaN\n",
            "2  4.0  5.0  6.0 NaN\n",
            "3  7.0  7.0  8.0 NaN\n",
            "---------------------------------\n",
            "     a    b  c     d\n",
            "1  1.0  NaN  2  None\n",
            "2  4.0  5.0  6  None\n",
            "3  NaN  7.0  8  None\n",
            "     a    b    c    d\n",
            "1  1.0  1.0  2.0  2.0\n",
            "2  4.0  5.0  6.0  6.0\n",
            "3  NaN  7.0  8.0  8.0\n",
            "---------------------------------\n",
            "     a    b  c     d\n",
            "1  1.0  NaN  2  None\n",
            "2  4.0  5.0  6  None\n",
            "3  NaN  7.0  8  None\n",
            "     a    b  c     d\n",
            "1  1.0  5.0  2  None\n",
            "2  4.0  5.0  6  None\n",
            "3  NaN  7.0  8  None\n",
            "---------------------------------\n",
            "     a    b  c     d\n",
            "1  1.0  NaN  2  None\n",
            "2  4.0  5.0  6  None\n",
            "3  NaN  7.0  8  None\n",
            "     a    b  c     d\n",
            "1  1.0  NaN  2  None\n",
            "2  4.0  5.0  6  None\n",
            "3  4.0  7.0  8  None\n"
          ],
          "name": "stdout"
        }
      ]
    },
    {
      "cell_type": "markdown",
      "metadata": {
        "id": "iHDm7xaauc7Y",
        "colab_type": "text"
      },
      "source": [
        "### 7.2 논리적 인덱스"
      ]
    },
    {
      "cell_type": "code",
      "metadata": {
        "id": "aknpb7X2vhUS",
        "colab_type": "code",
        "colab": {
          "base_uri": "https://localhost:8080/",
          "height": 108
        },
        "outputId": "4090ba8b-f85c-4c2d-d5a9-3e01374331f7"
      },
      "source": [
        "x = pd.DataFrame([[1, None, 2, None], \n",
        "                  [3, 4, 5, None], \n",
        "                  [None, 6, 7, None]], index = list('123'), columns = list('abcd'))\n",
        "print(x, 'dimension = {0}'.format(x.ndim), sep = '\\n')"
      ],
      "execution_count": 26,
      "outputs": [
        {
          "output_type": "stream",
          "text": [
            "     a    b  c     d\n",
            "1  1.0  NaN  2  None\n",
            "2  3.0  4.0  5  None\n",
            "3  NaN  6.0  7  None\n",
            "dimension = 2\n"
          ],
          "name": "stdout"
        }
      ]
    },
    {
      "cell_type": "code",
      "metadata": {
        "id": "KYwfwu7vvqrZ",
        "colab_type": "code",
        "colab": {
          "base_uri": "https://localhost:8080/",
          "height": 90
        },
        "outputId": "d97d4a8a-de29-4d2f-8797-57b9e86609ed"
      },
      "source": [
        "x.loc['2', 'd'] = 99  # 원소값 변경\n",
        "print(x) "
      ],
      "execution_count": 27,
      "outputs": [
        {
          "output_type": "stream",
          "text": [
            "     a    b  c     d\n",
            "1  1.0  NaN  2  None\n",
            "2  3.0  4.0  5    99\n",
            "3  NaN  6.0  7  None\n"
          ],
          "name": "stdout"
        }
      ]
    },
    {
      "cell_type": "code",
      "metadata": {
        "id": "OL7fijgjwg0F",
        "colab_type": "code",
        "colab": {
          "base_uri": "https://localhost:8080/",
          "height": 54
        },
        "outputId": "0cb4e894-69bb-4e98-f524-5475a4be7b92"
      },
      "source": [
        "print(x[pd.isnull(x['b'])])   # pd.isnull(x['b']) = [T, F, F]\n",
        "                              # 그래서 1행만 출력함 "
      ],
      "execution_count": 28,
      "outputs": [
        {
          "output_type": "stream",
          "text": [
            "     a   b  c     d\n",
            "1  1.0 NaN  2  None\n"
          ],
          "name": "stdout"
        }
      ]
    },
    {
      "cell_type": "code",
      "metadata": {
        "id": "21SHyarqxtGQ",
        "colab_type": "code",
        "colab": {
          "base_uri": "https://localhost:8080/",
          "height": 345
        },
        "outputId": "a36c72e8-7434-420e-b23c-ee51de130f96"
      },
      "source": [
        "#x[pd.isnull().any(axis = 1)]['b']\n",
        "print(pd.isnull(x).any()) # 각 열에 대해서 (across row)\n",
        "print('------------------------------')\n",
        "print(pd.isnull(x).any(axis = 1)) # 각 행에 대해서 (across column)\n",
        "print('------------------------------')\n",
        "print(x[pd.isnull(x).any(axis = 1)])  # true인 행만 출력\n",
        "print('------------------------------')\n",
        "print(x[pd.isnull(x).any(axis = 1)]['b'])  # 위에서 출력한 것들 중 b열만 출력"
      ],
      "execution_count": 29,
      "outputs": [
        {
          "output_type": "stream",
          "text": [
            "a     True\n",
            "b     True\n",
            "c    False\n",
            "d     True\n",
            "dtype: bool\n",
            "------------------------------\n",
            "1     True\n",
            "2    False\n",
            "3     True\n",
            "dtype: bool\n",
            "------------------------------\n",
            "     a    b  c     d\n",
            "1  1.0  NaN  2  None\n",
            "3  NaN  6.0  7  None\n",
            "------------------------------\n",
            "1    NaN\n",
            "3    6.0\n",
            "Name: b, dtype: float64\n"
          ],
          "name": "stdout"
        }
      ]
    },
    {
      "cell_type": "code",
      "metadata": {
        "id": "b41M--MyLA2E",
        "colab_type": "code",
        "colab": {
          "base_uri": "https://localhost:8080/",
          "height": 72
        },
        "outputId": "2183b97d-d95d-4034-e693-744b3e6dd2d1"
      },
      "source": [
        "x.loc[pd.isnull(x).any(axis = 1), 'b']  # 위의 맨 마지막 결과와 똑같음"
      ],
      "execution_count": 30,
      "outputs": [
        {
          "output_type": "execute_result",
          "data": {
            "text/plain": [
              "1    NaN\n",
              "3    6.0\n",
              "Name: b, dtype: float64"
            ]
          },
          "metadata": {
            "tags": []
          },
          "execution_count": 30
        }
      ]
    },
    {
      "cell_type": "code",
      "metadata": {
        "id": "IrEaqAZkMU1w",
        "colab_type": "code",
        "colab": {
          "base_uri": "https://localhost:8080/",
          "height": 469
        },
        "outputId": "3cdc6397-c7e3-4f8d-adab-909e21923360"
      },
      "source": [
        "x[pd.isnull(x).any(axis = 1), 'b']  # 이건 error 발생함 \n",
        "                                    # numpy에서의 행렬이랑 잘 비교하기 ★★★★★"
      ],
      "execution_count": 31,
      "outputs": [
        {
          "output_type": "error",
          "ename": "TypeError",
          "evalue": "ignored",
          "traceback": [
            "\u001b[0;31m---------------------------------------------------------------------------\u001b[0m",
            "\u001b[0;31mTypeError\u001b[0m                                 Traceback (most recent call last)",
            "\u001b[0;32m<ipython-input-31-a75b288f9be0>\u001b[0m in \u001b[0;36m<module>\u001b[0;34m()\u001b[0m\n\u001b[0;32m----> 1\u001b[0;31m \u001b[0mx\u001b[0m\u001b[0;34m[\u001b[0m\u001b[0mpd\u001b[0m\u001b[0;34m.\u001b[0m\u001b[0misnull\u001b[0m\u001b[0;34m(\u001b[0m\u001b[0mx\u001b[0m\u001b[0;34m)\u001b[0m\u001b[0;34m.\u001b[0m\u001b[0many\u001b[0m\u001b[0;34m(\u001b[0m\u001b[0maxis\u001b[0m \u001b[0;34m=\u001b[0m \u001b[0;36m1\u001b[0m\u001b[0;34m)\u001b[0m\u001b[0;34m,\u001b[0m \u001b[0;34m'b'\u001b[0m\u001b[0;34m]\u001b[0m  \u001b[0;31m# 이건 error 발생함\u001b[0m\u001b[0;34m\u001b[0m\u001b[0;34m\u001b[0m\u001b[0m\n\u001b[0m\u001b[1;32m      2\u001b[0m                                     \u001b[0;31m# numpy에서의 행렬이랑 잘 비교하기 ★★★★★\u001b[0m\u001b[0;34m\u001b[0m\u001b[0;34m\u001b[0m\u001b[0;34m\u001b[0m\u001b[0m\n",
            "\u001b[0;32m/usr/local/lib/python3.6/dist-packages/pandas/core/frame.py\u001b[0m in \u001b[0;36m__getitem__\u001b[0;34m(self, key)\u001b[0m\n\u001b[1;32m   2798\u001b[0m             \u001b[0;32mif\u001b[0m \u001b[0mself\u001b[0m\u001b[0;34m.\u001b[0m\u001b[0mcolumns\u001b[0m\u001b[0;34m.\u001b[0m\u001b[0mnlevels\u001b[0m \u001b[0;34m>\u001b[0m \u001b[0;36m1\u001b[0m\u001b[0;34m:\u001b[0m\u001b[0;34m\u001b[0m\u001b[0;34m\u001b[0m\u001b[0m\n\u001b[1;32m   2799\u001b[0m                 \u001b[0;32mreturn\u001b[0m \u001b[0mself\u001b[0m\u001b[0;34m.\u001b[0m\u001b[0m_getitem_multilevel\u001b[0m\u001b[0;34m(\u001b[0m\u001b[0mkey\u001b[0m\u001b[0;34m)\u001b[0m\u001b[0;34m\u001b[0m\u001b[0;34m\u001b[0m\u001b[0m\n\u001b[0;32m-> 2800\u001b[0;31m             \u001b[0mindexer\u001b[0m \u001b[0;34m=\u001b[0m \u001b[0mself\u001b[0m\u001b[0;34m.\u001b[0m\u001b[0mcolumns\u001b[0m\u001b[0;34m.\u001b[0m\u001b[0mget_loc\u001b[0m\u001b[0;34m(\u001b[0m\u001b[0mkey\u001b[0m\u001b[0;34m)\u001b[0m\u001b[0;34m\u001b[0m\u001b[0;34m\u001b[0m\u001b[0m\n\u001b[0m\u001b[1;32m   2801\u001b[0m             \u001b[0;32mif\u001b[0m \u001b[0mis_integer\u001b[0m\u001b[0;34m(\u001b[0m\u001b[0mindexer\u001b[0m\u001b[0;34m)\u001b[0m\u001b[0;34m:\u001b[0m\u001b[0;34m\u001b[0m\u001b[0;34m\u001b[0m\u001b[0m\n\u001b[1;32m   2802\u001b[0m                 \u001b[0mindexer\u001b[0m \u001b[0;34m=\u001b[0m \u001b[0;34m[\u001b[0m\u001b[0mindexer\u001b[0m\u001b[0;34m]\u001b[0m\u001b[0;34m\u001b[0m\u001b[0;34m\u001b[0m\u001b[0m\n",
            "\u001b[0;32m/usr/local/lib/python3.6/dist-packages/pandas/core/indexes/base.py\u001b[0m in \u001b[0;36mget_loc\u001b[0;34m(self, key, method, tolerance)\u001b[0m\n\u001b[1;32m   2644\u001b[0m                 )\n\u001b[1;32m   2645\u001b[0m             \u001b[0;32mtry\u001b[0m\u001b[0;34m:\u001b[0m\u001b[0;34m\u001b[0m\u001b[0;34m\u001b[0m\u001b[0m\n\u001b[0;32m-> 2646\u001b[0;31m                 \u001b[0;32mreturn\u001b[0m \u001b[0mself\u001b[0m\u001b[0;34m.\u001b[0m\u001b[0m_engine\u001b[0m\u001b[0;34m.\u001b[0m\u001b[0mget_loc\u001b[0m\u001b[0;34m(\u001b[0m\u001b[0mkey\u001b[0m\u001b[0;34m)\u001b[0m\u001b[0;34m\u001b[0m\u001b[0;34m\u001b[0m\u001b[0m\n\u001b[0m\u001b[1;32m   2647\u001b[0m             \u001b[0;32mexcept\u001b[0m \u001b[0mKeyError\u001b[0m\u001b[0;34m:\u001b[0m\u001b[0;34m\u001b[0m\u001b[0;34m\u001b[0m\u001b[0m\n\u001b[1;32m   2648\u001b[0m                 \u001b[0;32mreturn\u001b[0m \u001b[0mself\u001b[0m\u001b[0;34m.\u001b[0m\u001b[0m_engine\u001b[0m\u001b[0;34m.\u001b[0m\u001b[0mget_loc\u001b[0m\u001b[0;34m(\u001b[0m\u001b[0mself\u001b[0m\u001b[0;34m.\u001b[0m\u001b[0m_maybe_cast_indexer\u001b[0m\u001b[0;34m(\u001b[0m\u001b[0mkey\u001b[0m\u001b[0;34m)\u001b[0m\u001b[0;34m)\u001b[0m\u001b[0;34m\u001b[0m\u001b[0;34m\u001b[0m\u001b[0m\n",
            "\u001b[0;32mpandas/_libs/index.pyx\u001b[0m in \u001b[0;36mpandas._libs.index.IndexEngine.get_loc\u001b[0;34m()\u001b[0m\n",
            "\u001b[0;32mpandas/_libs/index.pyx\u001b[0m in \u001b[0;36mpandas._libs.index.IndexEngine.get_loc\u001b[0;34m()\u001b[0m\n",
            "\u001b[0;31mTypeError\u001b[0m: '(1     True\n2    False\n3     True\ndtype: bool, 'b')' is an invalid key"
          ]
        }
      ]
    },
    {
      "cell_type": "code",
      "metadata": {
        "id": "Jfoko9rfMdjH",
        "colab_type": "code",
        "colab": {
          "base_uri": "https://localhost:8080/",
          "height": 90
        },
        "outputId": "8d4f2534-1691-4ba0-a543-62113183ab0e"
      },
      "source": [
        "k = pd.DataFrame(np.arange(12).reshape(-1, 4), columns = list('abcd'))\n",
        "print(k)"
      ],
      "execution_count": 32,
      "outputs": [
        {
          "output_type": "stream",
          "text": [
            "   a  b   c   d\n",
            "0  0  1   2   3\n",
            "1  4  5   6   7\n",
            "2  8  9  10  11\n"
          ],
          "name": "stdout"
        }
      ]
    },
    {
      "cell_type": "code",
      "metadata": {
        "id": "mGDw2coDNUe2",
        "colab_type": "code",
        "colab": {
          "base_uri": "https://localhost:8080/",
          "height": 326
        },
        "outputId": "9468694d-1da1-440c-d742-9008011a41d2"
      },
      "source": [
        "print(k['b'])\n",
        "print('-------------------------')\n",
        "print(k['b'] > 4)\n",
        "print('-------------------------')\n",
        "print(k.loc[k['b'] > 4])  # 1, 2 행만 출력 \n",
        "print('-------------------------')\n",
        "print(k.loc[k['b'] > 4]['c'])   # 1, 2행 중 c열"
      ],
      "execution_count": 33,
      "outputs": [
        {
          "output_type": "stream",
          "text": [
            "0    1\n",
            "1    5\n",
            "2    9\n",
            "Name: b, dtype: int64\n",
            "-------------------------\n",
            "0    False\n",
            "1     True\n",
            "2     True\n",
            "Name: b, dtype: bool\n",
            "-------------------------\n",
            "   a  b   c   d\n",
            "1  4  5   6   7\n",
            "2  8  9  10  11\n",
            "-------------------------\n",
            "1     6\n",
            "2    10\n",
            "Name: c, dtype: int64\n"
          ],
          "name": "stdout"
        }
      ]
    },
    {
      "cell_type": "code",
      "metadata": {
        "id": "GxGQrRSVNt_G",
        "colab_type": "code",
        "colab": {
          "base_uri": "https://localhost:8080/",
          "height": 72
        },
        "outputId": "0caa0aa6-c3c1-4c69-fef2-f10795c53b57"
      },
      "source": [
        "print(k.loc[k['b'] > 4 , 'c'])   # 위의 맨 마지막 결과와 같음."
      ],
      "execution_count": 34,
      "outputs": [
        {
          "output_type": "stream",
          "text": [
            "1     6\n",
            "2    10\n",
            "Name: c, dtype: int64\n"
          ],
          "name": "stdout"
        }
      ]
    },
    {
      "cell_type": "code",
      "metadata": {
        "id": "PHwkwrR0ONPx",
        "colab_type": "code",
        "colab": {
          "base_uri": "https://localhost:8080/",
          "height": 72
        },
        "outputId": "889a2c7c-6d10-4184-d61d-738c4be871e4"
      },
      "source": [
        "print(k.loc[k['b'] > 4, ['b', 'c']])   # 뽑고 싶은 행이 두 개면 loc로 안에 넣어서 써야함. \n",
        "                                       # 위에처럼 x[][] 이런 꼴로 하면 에러 뜸"
      ],
      "execution_count": 35,
      "outputs": [
        {
          "output_type": "stream",
          "text": [
            "   b   c\n",
            "1  5   6\n",
            "2  9  10\n"
          ],
          "name": "stdout"
        }
      ]
    },
    {
      "cell_type": "code",
      "metadata": {
        "id": "R0zytz6PoOwO",
        "colab_type": "code",
        "colab": {
          "base_uri": "https://localhost:8080/",
          "height": 742
        },
        "outputId": "85f90a0f-6244-4890-c972-7fd3e27d966b"
      },
      "source": [
        "print(k.loc[k['b']> 4]['b', 'c'])  # 에러 뜨는 거 확인 "
      ],
      "execution_count": 36,
      "outputs": [
        {
          "output_type": "error",
          "ename": "KeyError",
          "evalue": "ignored",
          "traceback": [
            "\u001b[0;31m---------------------------------------------------------------------------\u001b[0m",
            "\u001b[0;31mKeyError\u001b[0m                                  Traceback (most recent call last)",
            "\u001b[0;32m/usr/local/lib/python3.6/dist-packages/pandas/core/indexes/base.py\u001b[0m in \u001b[0;36mget_loc\u001b[0;34m(self, key, method, tolerance)\u001b[0m\n\u001b[1;32m   2645\u001b[0m             \u001b[0;32mtry\u001b[0m\u001b[0;34m:\u001b[0m\u001b[0;34m\u001b[0m\u001b[0;34m\u001b[0m\u001b[0m\n\u001b[0;32m-> 2646\u001b[0;31m                 \u001b[0;32mreturn\u001b[0m \u001b[0mself\u001b[0m\u001b[0;34m.\u001b[0m\u001b[0m_engine\u001b[0m\u001b[0;34m.\u001b[0m\u001b[0mget_loc\u001b[0m\u001b[0;34m(\u001b[0m\u001b[0mkey\u001b[0m\u001b[0;34m)\u001b[0m\u001b[0;34m\u001b[0m\u001b[0;34m\u001b[0m\u001b[0m\n\u001b[0m\u001b[1;32m   2647\u001b[0m             \u001b[0;32mexcept\u001b[0m \u001b[0mKeyError\u001b[0m\u001b[0;34m:\u001b[0m\u001b[0;34m\u001b[0m\u001b[0;34m\u001b[0m\u001b[0m\n",
            "\u001b[0;32mpandas/_libs/index.pyx\u001b[0m in \u001b[0;36mpandas._libs.index.IndexEngine.get_loc\u001b[0;34m()\u001b[0m\n",
            "\u001b[0;32mpandas/_libs/index.pyx\u001b[0m in \u001b[0;36mpandas._libs.index.IndexEngine.get_loc\u001b[0;34m()\u001b[0m\n",
            "\u001b[0;32mpandas/_libs/hashtable_class_helper.pxi\u001b[0m in \u001b[0;36mpandas._libs.hashtable.PyObjectHashTable.get_item\u001b[0;34m()\u001b[0m\n",
            "\u001b[0;32mpandas/_libs/hashtable_class_helper.pxi\u001b[0m in \u001b[0;36mpandas._libs.hashtable.PyObjectHashTable.get_item\u001b[0;34m()\u001b[0m\n",
            "\u001b[0;31mKeyError\u001b[0m: ('b', 'c')",
            "\nDuring handling of the above exception, another exception occurred:\n",
            "\u001b[0;31mKeyError\u001b[0m                                  Traceback (most recent call last)",
            "\u001b[0;32m<ipython-input-36-ece73cdf0efb>\u001b[0m in \u001b[0;36m<module>\u001b[0;34m()\u001b[0m\n\u001b[0;32m----> 1\u001b[0;31m \u001b[0mprint\u001b[0m\u001b[0;34m(\u001b[0m\u001b[0mk\u001b[0m\u001b[0;34m.\u001b[0m\u001b[0mloc\u001b[0m\u001b[0;34m[\u001b[0m\u001b[0mk\u001b[0m\u001b[0;34m[\u001b[0m\u001b[0;34m'b'\u001b[0m\u001b[0;34m]\u001b[0m\u001b[0;34m>\u001b[0m \u001b[0;36m4\u001b[0m\u001b[0;34m]\u001b[0m\u001b[0;34m[\u001b[0m\u001b[0;34m'b'\u001b[0m\u001b[0;34m,\u001b[0m \u001b[0;34m'c'\u001b[0m\u001b[0;34m]\u001b[0m\u001b[0;34m)\u001b[0m  \u001b[0;31m# 에러 뜨는 거 확인\u001b[0m\u001b[0;34m\u001b[0m\u001b[0;34m\u001b[0m\u001b[0m\n\u001b[0m",
            "\u001b[0;32m/usr/local/lib/python3.6/dist-packages/pandas/core/frame.py\u001b[0m in \u001b[0;36m__getitem__\u001b[0;34m(self, key)\u001b[0m\n\u001b[1;32m   2798\u001b[0m             \u001b[0;32mif\u001b[0m \u001b[0mself\u001b[0m\u001b[0;34m.\u001b[0m\u001b[0mcolumns\u001b[0m\u001b[0;34m.\u001b[0m\u001b[0mnlevels\u001b[0m \u001b[0;34m>\u001b[0m \u001b[0;36m1\u001b[0m\u001b[0;34m:\u001b[0m\u001b[0;34m\u001b[0m\u001b[0;34m\u001b[0m\u001b[0m\n\u001b[1;32m   2799\u001b[0m                 \u001b[0;32mreturn\u001b[0m \u001b[0mself\u001b[0m\u001b[0;34m.\u001b[0m\u001b[0m_getitem_multilevel\u001b[0m\u001b[0;34m(\u001b[0m\u001b[0mkey\u001b[0m\u001b[0;34m)\u001b[0m\u001b[0;34m\u001b[0m\u001b[0;34m\u001b[0m\u001b[0m\n\u001b[0;32m-> 2800\u001b[0;31m             \u001b[0mindexer\u001b[0m \u001b[0;34m=\u001b[0m \u001b[0mself\u001b[0m\u001b[0;34m.\u001b[0m\u001b[0mcolumns\u001b[0m\u001b[0;34m.\u001b[0m\u001b[0mget_loc\u001b[0m\u001b[0;34m(\u001b[0m\u001b[0mkey\u001b[0m\u001b[0;34m)\u001b[0m\u001b[0;34m\u001b[0m\u001b[0;34m\u001b[0m\u001b[0m\n\u001b[0m\u001b[1;32m   2801\u001b[0m             \u001b[0;32mif\u001b[0m \u001b[0mis_integer\u001b[0m\u001b[0;34m(\u001b[0m\u001b[0mindexer\u001b[0m\u001b[0;34m)\u001b[0m\u001b[0;34m:\u001b[0m\u001b[0;34m\u001b[0m\u001b[0;34m\u001b[0m\u001b[0m\n\u001b[1;32m   2802\u001b[0m                 \u001b[0mindexer\u001b[0m \u001b[0;34m=\u001b[0m \u001b[0;34m[\u001b[0m\u001b[0mindexer\u001b[0m\u001b[0;34m]\u001b[0m\u001b[0;34m\u001b[0m\u001b[0;34m\u001b[0m\u001b[0m\n",
            "\u001b[0;32m/usr/local/lib/python3.6/dist-packages/pandas/core/indexes/base.py\u001b[0m in \u001b[0;36mget_loc\u001b[0;34m(self, key, method, tolerance)\u001b[0m\n\u001b[1;32m   2646\u001b[0m                 \u001b[0;32mreturn\u001b[0m \u001b[0mself\u001b[0m\u001b[0;34m.\u001b[0m\u001b[0m_engine\u001b[0m\u001b[0;34m.\u001b[0m\u001b[0mget_loc\u001b[0m\u001b[0;34m(\u001b[0m\u001b[0mkey\u001b[0m\u001b[0;34m)\u001b[0m\u001b[0;34m\u001b[0m\u001b[0;34m\u001b[0m\u001b[0m\n\u001b[1;32m   2647\u001b[0m             \u001b[0;32mexcept\u001b[0m \u001b[0mKeyError\u001b[0m\u001b[0;34m:\u001b[0m\u001b[0;34m\u001b[0m\u001b[0;34m\u001b[0m\u001b[0m\n\u001b[0;32m-> 2648\u001b[0;31m                 \u001b[0;32mreturn\u001b[0m \u001b[0mself\u001b[0m\u001b[0;34m.\u001b[0m\u001b[0m_engine\u001b[0m\u001b[0;34m.\u001b[0m\u001b[0mget_loc\u001b[0m\u001b[0;34m(\u001b[0m\u001b[0mself\u001b[0m\u001b[0;34m.\u001b[0m\u001b[0m_maybe_cast_indexer\u001b[0m\u001b[0;34m(\u001b[0m\u001b[0mkey\u001b[0m\u001b[0;34m)\u001b[0m\u001b[0;34m)\u001b[0m\u001b[0;34m\u001b[0m\u001b[0;34m\u001b[0m\u001b[0m\n\u001b[0m\u001b[1;32m   2649\u001b[0m         \u001b[0mindexer\u001b[0m \u001b[0;34m=\u001b[0m \u001b[0mself\u001b[0m\u001b[0;34m.\u001b[0m\u001b[0mget_indexer\u001b[0m\u001b[0;34m(\u001b[0m\u001b[0;34m[\u001b[0m\u001b[0mkey\u001b[0m\u001b[0;34m]\u001b[0m\u001b[0;34m,\u001b[0m \u001b[0mmethod\u001b[0m\u001b[0;34m=\u001b[0m\u001b[0mmethod\u001b[0m\u001b[0;34m,\u001b[0m \u001b[0mtolerance\u001b[0m\u001b[0;34m=\u001b[0m\u001b[0mtolerance\u001b[0m\u001b[0;34m)\u001b[0m\u001b[0;34m\u001b[0m\u001b[0;34m\u001b[0m\u001b[0m\n\u001b[1;32m   2650\u001b[0m         \u001b[0;32mif\u001b[0m \u001b[0mindexer\u001b[0m\u001b[0;34m.\u001b[0m\u001b[0mndim\u001b[0m \u001b[0;34m>\u001b[0m \u001b[0;36m1\u001b[0m \u001b[0;32mor\u001b[0m \u001b[0mindexer\u001b[0m\u001b[0;34m.\u001b[0m\u001b[0msize\u001b[0m \u001b[0;34m>\u001b[0m \u001b[0;36m1\u001b[0m\u001b[0;34m:\u001b[0m\u001b[0;34m\u001b[0m\u001b[0;34m\u001b[0m\u001b[0m\n",
            "\u001b[0;32mpandas/_libs/index.pyx\u001b[0m in \u001b[0;36mpandas._libs.index.IndexEngine.get_loc\u001b[0;34m()\u001b[0m\n",
            "\u001b[0;32mpandas/_libs/index.pyx\u001b[0m in \u001b[0;36mpandas._libs.index.IndexEngine.get_loc\u001b[0;34m()\u001b[0m\n",
            "\u001b[0;32mpandas/_libs/hashtable_class_helper.pxi\u001b[0m in \u001b[0;36mpandas._libs.hashtable.PyObjectHashTable.get_item\u001b[0;34m()\u001b[0m\n",
            "\u001b[0;32mpandas/_libs/hashtable_class_helper.pxi\u001b[0m in \u001b[0;36mpandas._libs.hashtable.PyObjectHashTable.get_item\u001b[0;34m()\u001b[0m\n",
            "\u001b[0;31mKeyError\u001b[0m: ('b', 'c')"
          ]
        }
      ]
    },
    {
      "cell_type": "code",
      "metadata": {
        "id": "EBGPQU5nOe3w",
        "colab_type": "code",
        "colab": {
          "base_uri": "https://localhost:8080/",
          "height": 72
        },
        "outputId": "6c9aac25-36b5-4e59-f4af-269987bd326a"
      },
      "source": [
        "p = pd.DataFrame(np.arange(6).reshape(2, 3), \n",
        "                 index = list('ab'), columns = list('123'))\n",
        "print(p)"
      ],
      "execution_count": 37,
      "outputs": [
        {
          "output_type": "stream",
          "text": [
            "   1  2  3\n",
            "a  0  1  2\n",
            "b  3  4  5\n"
          ],
          "name": "stdout"
        }
      ]
    },
    {
      "cell_type": "code",
      "metadata": {
        "id": "A6u6VObBOrOe",
        "colab_type": "code",
        "colab": {
          "base_uri": "https://localhost:8080/",
          "height": 145
        },
        "outputId": "407a7bfb-0857-44a2-bfd7-2de5f01ccebd"
      },
      "source": [
        "print(p.stack())   # 행 - 열1, 2, 3 순으로 자료 재정리"
      ],
      "execution_count": 38,
      "outputs": [
        {
          "output_type": "stream",
          "text": [
            "a  1    0\n",
            "   2    1\n",
            "   3    2\n",
            "b  1    3\n",
            "   2    4\n",
            "   3    5\n",
            "dtype: int64\n"
          ],
          "name": "stdout"
        }
      ]
    },
    {
      "cell_type": "code",
      "metadata": {
        "id": "3UoNU7AlOtds",
        "colab_type": "code",
        "colab": {
          "base_uri": "https://localhost:8080/",
          "height": 72
        },
        "outputId": "9fbabbfb-7a4a-462f-bb73-9ed8aa5d5b5d"
      },
      "source": [
        "print(p.stack().unstack())  # 다시 원래대로"
      ],
      "execution_count": 39,
      "outputs": [
        {
          "output_type": "stream",
          "text": [
            "   1  2  3\n",
            "a  0  1  2\n",
            "b  3  4  5\n"
          ],
          "name": "stdout"
        }
      ]
    },
    {
      "cell_type": "markdown",
      "metadata": {
        "id": "F3riQ1DnO6VE",
        "colab_type": "text"
      },
      "source": [
        "### 7.3 Data 붙이기"
      ]
    },
    {
      "cell_type": "markdown",
      "metadata": {
        "id": "hoPa9I_7o0IY",
        "colab_type": "text"
      },
      "source": [
        "SQL에 해당되는 것. (?) \\\\\n",
        "manipulation. \\\\\n",
        "연구목적 => 어떠한 기법 => 데이터 찾기 => 데이터 전처리 => sql, etc. "
      ]
    },
    {
      "cell_type": "code",
      "metadata": {
        "id": "q5fXj_hvmVnw",
        "colab_type": "code",
        "colab": {
          "base_uri": "https://localhost:8080/",
          "height": 126
        },
        "outputId": "128f1241-6f2e-4474-9d2f-5c8d72e07176"
      },
      "source": [
        "q1 = pd.DataFrame( [[1, 2, 3], [4, 5, 6]], columns = list('abc'))\n",
        "q2 = pd.DataFrame([[11, 22, 33], [44, 55, 66]],columns = list('bcd'))\n",
        "print(q1)\n",
        "print(q2)"
      ],
      "execution_count": 40,
      "outputs": [
        {
          "output_type": "stream",
          "text": [
            "   a  b  c\n",
            "0  1  2  3\n",
            "1  4  5  6\n",
            "    b   c   d\n",
            "0  11  22  33\n",
            "1  44  55  66\n"
          ],
          "name": "stdout"
        }
      ]
    },
    {
      "cell_type": "code",
      "metadata": {
        "id": "9_bobP-4naap",
        "colab_type": "code",
        "colab": {
          "base_uri": "https://localhost:8080/",
          "height": 326
        },
        "outputId": "a4571833-a94e-480c-efbb-5b3af75287dc"
      },
      "source": [
        "# 밑으로 붙이기 \n",
        "print(pd.concat([q1, q2]))  # 원래의 인덱스를 가지고 출력됨\n",
        "# np에서는 concatenate, pd에서는 concat\n",
        "print('-----------------------------')\n",
        "print(pd.concat([q1, q2], ignore_index = True ))  # 인덱스가 데이터에 대해서 다시 맞춰서 출력됨 \n",
        "print('-----------------------------')\n",
        "print(pd.concat([q1, q2], join = 'inner'))   # 공통으로 가지고 있는 열만 출려됨"
      ],
      "execution_count": 41,
      "outputs": [
        {
          "output_type": "stream",
          "text": [
            "     a   b   c     d\n",
            "0  1.0   2   3   NaN\n",
            "1  4.0   5   6   NaN\n",
            "0  NaN  11  22  33.0\n",
            "1  NaN  44  55  66.0\n",
            "-----------------------------\n",
            "     a   b   c     d\n",
            "0  1.0   2   3   NaN\n",
            "1  4.0   5   6   NaN\n",
            "2  NaN  11  22  33.0\n",
            "3  NaN  44  55  66.0\n",
            "-----------------------------\n",
            "    b   c\n",
            "0   2   3\n",
            "1   5   6\n",
            "0  11  22\n",
            "1  44  55\n"
          ],
          "name": "stdout"
        }
      ]
    },
    {
      "cell_type": "code",
      "metadata": {
        "id": "Xv3dZ7Fxn5oU",
        "colab_type": "code",
        "colab": {
          "base_uri": "https://localhost:8080/",
          "height": 181
        },
        "outputId": "9d236508-a131-4f7f-9ca7-392a509ff309"
      },
      "source": [
        "# 옆으로 붙이기 \n",
        "import pandas as pd\n",
        "r1 = pd.DataFrame([[1, 2, 3], [4, 5, 6]], columns = list('abc'))\n",
        "r2 = pd.DataFrame([[11, 22], [33, 44]], columns = list('de'))\n",
        "print(r1, r2, sep = \"\\n\")\n",
        "r3 = pd.concat([r1, r2], axis = 1)  # column으로 부착. \n",
        "print(r3)"
      ],
      "execution_count": 42,
      "outputs": [
        {
          "output_type": "stream",
          "text": [
            "   a  b  c\n",
            "0  1  2  3\n",
            "1  4  5  6\n",
            "    d   e\n",
            "0  11  22\n",
            "1  33  44\n",
            "   a  b  c   d   e\n",
            "0  1  2  3  11  22\n",
            "1  4  5  6  33  44\n"
          ],
          "name": "stdout"
        }
      ]
    },
    {
      "cell_type": "code",
      "metadata": {
        "id": "ZfYQpfQDp2q_",
        "colab_type": "code",
        "colab": {
          "base_uri": "https://localhost:8080/",
          "height": 326
        },
        "outputId": "86da00d4-5fb8-4c19-bfe1-acbd16634311"
      },
      "source": [
        "# 공통된 열이 있을 때의 옆으로 붙이기\n",
        "s1 = pd.DataFrame([[1, 'aa', 3], [4, 'bb', 5]], columns = list('abc'))\n",
        "s2 = pd.DataFrame([[11, 'bb'], [22, 'aa']], columns = list('db'))\n",
        "print(s1)\n",
        "print(s2)\n",
        "s3 = pd.merge(s1, s2, on = 'b')  # b열을 기준으로 옆으로 붙임. \n",
        "                                 # 그에 따라 d열의 원소의 위치도 바뀜\n",
        "                                 # 그럼 값이 다르다면? \n",
        "print('---------------------------------')\n",
        "print(s3)\n",
        "print('---------------------------------')\n",
        "s4 = pd.DataFrame([['aa', 44], ['cc', 55]], columns = list('bd'))\n",
        "print(s4)\n",
        "print('---------------------------------')\n",
        "s5 = pd.merge(s1, s4, on = \"b\")\n",
        "print(s5)    # 값이 다른 경우에는 없앰 "
      ],
      "execution_count": 43,
      "outputs": [
        {
          "output_type": "stream",
          "text": [
            "   a   b  c\n",
            "0  1  aa  3\n",
            "1  4  bb  5\n",
            "    d   b\n",
            "0  11  bb\n",
            "1  22  aa\n",
            "---------------------------------\n",
            "   a   b  c   d\n",
            "0  1  aa  3  22\n",
            "1  4  bb  5  11\n",
            "---------------------------------\n",
            "    b   d\n",
            "0  aa  44\n",
            "1  cc  55\n",
            "---------------------------------\n",
            "   a   b  c   d\n",
            "0  1  aa  3  44\n"
          ],
          "name": "stdout"
        }
      ]
    },
    {
      "cell_type": "code",
      "metadata": {
        "id": "j7uhG0eSqqxV",
        "colab_type": "code",
        "colab": {
          "base_uri": "https://localhost:8080/",
          "height": 272
        },
        "outputId": "8428bda3-6526-4103-af6b-9ca291221258"
      },
      "source": [
        "# 공통된 열이 있을 때의 옆으로 붙이기 : 공통 열에 반복이 있는 경우. \n",
        "s11 = pd.DataFrame([[1, 'aa', 3], [4, 'bb', 5], [6, 'aa', 7]], columns = list('abc'))\n",
        "s21 = pd.DataFrame([[11, 'bb'], [22, 'aa'], [33, 'bb']], columns = list('db'))\n",
        "print(s11)\n",
        "print(s21)\n",
        "print('-----------------------------')\n",
        "s31 = pd.merge(s11, s21, on = 'b')\n",
        "print(s31)    # 헷갈림 ★★★★★"
      ],
      "execution_count": 44,
      "outputs": [
        {
          "output_type": "stream",
          "text": [
            "   a   b  c\n",
            "0  1  aa  3\n",
            "1  4  bb  5\n",
            "2  6  aa  7\n",
            "    d   b\n",
            "0  11  bb\n",
            "1  22  aa\n",
            "2  33  bb\n",
            "-----------------------------\n",
            "   a   b  c   d\n",
            "0  1  aa  3  22\n",
            "1  6  aa  7  22\n",
            "2  4  bb  5  11\n",
            "3  4  bb  5  33\n"
          ],
          "name": "stdout"
        }
      ]
    },
    {
      "cell_type": "code",
      "metadata": {
        "id": "Y674VELfsEcA",
        "colab_type": "code",
        "colab": {
          "base_uri": "https://localhost:8080/",
          "height": 235
        },
        "outputId": "b50eec84-2d14-44e1-9516-d89bb73efa6e"
      },
      "source": [
        "# 공통된 열이 있을 때의 옆으로 붙이기 : 공통 열 이외의 열에 반복이 있는 경우\n",
        "s12 = pd.DataFrame([['aa', 3], ['bb', 5], ['aa', 7]], columns = list('ab'))\n",
        "s22 = pd.DataFrame([[11, 'bb'], [22, 'aa']], columns = list('ba'))\n",
        "print(s12)\n",
        "print(s22)\n",
        "print('-----------------------------')\n",
        "s32 = pd.merge(s12, s22, on = 'a')\n",
        "print(s32)"
      ],
      "execution_count": 45,
      "outputs": [
        {
          "output_type": "stream",
          "text": [
            "    a  b\n",
            "0  aa  3\n",
            "1  bb  5\n",
            "2  aa  7\n",
            "    b   a\n",
            "0  11  bb\n",
            "1  22  aa\n",
            "-----------------------------\n",
            "    a  b_x  b_y\n",
            "0  aa    3   22\n",
            "1  aa    7   22\n",
            "2  bb    5   11\n"
          ],
          "name": "stdout"
        }
      ]
    },
    {
      "cell_type": "code",
      "metadata": {
        "id": "1vTqnYLxu1bf",
        "colab_type": "code",
        "colab": {
          "base_uri": "https://localhost:8080/",
          "height": 272
        },
        "outputId": "e214141d-4a1e-4daf-c278-18d6cce85828"
      },
      "source": [
        "# 공통된 열이 있을 때의 옆으로 붙이기 : 공통 열의 이름이 다른 경우\n",
        "u1 = pd.DataFrame([[1, 'aa', 3], [4, 'bb', 5]], columns = list('abc'))\n",
        "u2 = pd.DataFrame([[11, 'bb'], [22, 'aa']], columns = list('de'))\n",
        "print(u1)\n",
        "print(u2)\n",
        "print('-----------------------')\n",
        "u3 = pd.merge(u1, u2, left_on = 'b', right_on = 'e')  # 같은 원소끼리 맞추긴 하는데 열 다 붙여서 출력함 \n",
        "print(u3)\n",
        "print('-----------------------')\n",
        "u4 = pd.merge(u1, u2, left_on = 'b', right_on = 'e').drop('e', axis = 1)  # e열 제거 \n",
        "print(u4)"
      ],
      "execution_count": 46,
      "outputs": [
        {
          "output_type": "stream",
          "text": [
            "   a   b  c\n",
            "0  1  aa  3\n",
            "1  4  bb  5\n",
            "    d   e\n",
            "0  11  bb\n",
            "1  22  aa\n",
            "-----------------------\n",
            "   a   b  c   d   e\n",
            "0  1  aa  3  22  aa\n",
            "1  4  bb  5  11  bb\n",
            "-----------------------\n",
            "   a   b  c   d\n",
            "0  1  aa  3  22\n",
            "1  4  bb  5  11\n"
          ],
          "name": "stdout"
        }
      ]
    },
    {
      "cell_type": "code",
      "metadata": {
        "id": "g83I2voRvkXJ",
        "colab_type": "code",
        "colab": {
          "base_uri": "https://localhost:8080/",
          "height": 145
        },
        "outputId": "b4f3ed62-5bde-43a1-fcdf-ffcab4356c9f"
      },
      "source": [
        "v1 = pd.DataFrame([[1, 'aa', 3], [4, 'bb', 5]], columns = list('abc'))\n",
        "v2 = pd.DataFrame([[11, 'cc'], [22, 'aa']], columns = list('db'))\n",
        "print(v1)\n",
        "print('------------------------')\n",
        "print(v2)"
      ],
      "execution_count": 47,
      "outputs": [
        {
          "output_type": "stream",
          "text": [
            "   a   b  c\n",
            "0  1  aa  3\n",
            "1  4  bb  5\n",
            "------------------------\n",
            "    d   b\n",
            "0  11  cc\n",
            "1  22  aa\n"
          ],
          "name": "stdout"
        }
      ]
    },
    {
      "cell_type": "code",
      "metadata": {
        "id": "b7TXBu6lysCh",
        "colab_type": "code",
        "colab": {
          "base_uri": "https://localhost:8080/",
          "height": 272
        },
        "outputId": "2ff0ba15-ee9c-49ff-ab1a-1c091ee9bf44"
      },
      "source": [
        "v3 = pd.merge(v1, v2, how = 'inner')\n",
        "print(v3)\n",
        "print('---------------------------------')\n",
        "v3_1 = pd.merge(v1, v2, on = \"b\")\n",
        "print(v3_1)   # 위에랑 똑같이 나온다\n",
        "print('----------------------------------')\n",
        "v4 = pd.merge(v1, v2, how = 'outer')\n",
        "print(v4)\n",
        "print('----------------------------------')\n",
        "v5 = pd.merge(v1, v2, how = 'left')   # v1을 기준으로, 공통 열이 있는 v2의 행만 옆으로 붙임. \n",
        "print(v5)"
      ],
      "execution_count": 48,
      "outputs": [
        {
          "output_type": "stream",
          "text": [
            "   a   b  c   d\n",
            "0  1  aa  3  22\n",
            "---------------------------------\n",
            "   a   b  c   d\n",
            "0  1  aa  3  22\n",
            "----------------------------------\n",
            "     a   b    c     d\n",
            "0  1.0  aa  3.0  22.0\n",
            "1  4.0  bb  5.0   NaN\n",
            "2  NaN  cc  NaN  11.0\n",
            "----------------------------------\n",
            "   a   b  c     d\n",
            "0  1  aa  3  22.0\n",
            "1  4  bb  5   NaN\n"
          ],
          "name": "stdout"
        }
      ]
    },
    {
      "cell_type": "code",
      "metadata": {
        "id": "6H8kct41y8C2",
        "colab_type": "code",
        "colab": {
          "base_uri": "https://localhost:8080/",
          "height": 163
        },
        "outputId": "54072b00-d16d-4841-8841-2e4b158e245d"
      },
      "source": [
        "import numpy as np\n",
        "rng = np.random.RandomState(1)   # 이건 뭐지 seed number랑 비슷한 건가\n",
        "dset = pd.DataFrame( {'ID' : ['A', 'B', 'C', 'A', 'B', 'C'], \n",
        "                      'x1' : range(6), \n",
        "                      'x2' : rng.randint(0, 10, 6)} )   \n",
        "# dataframe에서 dictionary의 key에 list데이터가 연결 \n",
        "print(dset)\n",
        "type(dset)"
      ],
      "execution_count": 49,
      "outputs": [
        {
          "output_type": "stream",
          "text": [
            "  ID  x1  x2\n",
            "0  A   0   5\n",
            "1  B   1   8\n",
            "2  C   2   9\n",
            "3  A   3   5\n",
            "4  B   4   0\n",
            "5  C   5   0\n"
          ],
          "name": "stdout"
        },
        {
          "output_type": "execute_result",
          "data": {
            "text/plain": [
              "pandas.core.frame.DataFrame"
            ]
          },
          "metadata": {
            "tags": []
          },
          "execution_count": 49
        }
      ]
    },
    {
      "cell_type": "code",
      "metadata": {
        "id": "1i7BruDjzo8D",
        "colab_type": "code",
        "colab": {
          "base_uri": "https://localhost:8080/",
          "height": 108
        },
        "outputId": "ab7fd69f-2013-4bb2-d625-7e95484b60ec"
      },
      "source": [
        "print(dset.groupby('ID').mean())  # id 그룹마다의 평균 출력"
      ],
      "execution_count": 50,
      "outputs": [
        {
          "output_type": "stream",
          "text": [
            "     x1   x2\n",
            "ID          \n",
            "A   1.5  5.0\n",
            "B   2.5  4.0\n",
            "C   3.5  4.5\n"
          ],
          "name": "stdout"
        }
      ]
    },
    {
      "cell_type": "code",
      "metadata": {
        "id": "0K5WKkzM0ytq",
        "colab_type": "code",
        "colab": {
          "base_uri": "https://localhost:8080/",
          "height": 108
        },
        "outputId": "b7aea14e-e14a-4f6a-df69-af0e1dbf1f19"
      },
      "source": [
        "print(dset.groupby('ID').std())"
      ],
      "execution_count": 51,
      "outputs": [
        {
          "output_type": "stream",
          "text": [
            "         x1        x2\n",
            "ID                   \n",
            "A   2.12132  0.000000\n",
            "B   2.12132  5.656854\n",
            "C   2.12132  6.363961\n"
          ],
          "name": "stdout"
        }
      ]
    },
    {
      "cell_type": "code",
      "metadata": {
        "id": "dwaSFgWC07Nq",
        "colab_type": "code",
        "colab": {
          "base_uri": "https://localhost:8080/",
          "height": 126
        },
        "outputId": "7ba0c067-d078-41e4-d470-e9a106366478"
      },
      "source": [
        "# 여러가지 통계량 한번에 구하기 \n",
        "print(dset.groupby('ID').aggregate([min, max, np.mean, np.median, np.std]))"
      ],
      "execution_count": 52,
      "outputs": [
        {
          "output_type": "stream",
          "text": [
            "    x1                           x2                          \n",
            "   min max mean median      std min max mean median       std\n",
            "ID                                                           \n",
            "A    0   3  1.5    1.5  2.12132   5   5  5.0    5.0  0.000000\n",
            "B    1   4  2.5    2.5  2.12132   0   8  4.0    4.0  5.656854\n",
            "C    2   5  3.5    3.5  2.12132   0   9  4.5    4.5  6.363961\n"
          ],
          "name": "stdout"
        }
      ]
    },
    {
      "cell_type": "code",
      "metadata": {
        "id": "9_l7gZxh1Hvy",
        "colab_type": "code",
        "colab": {
          "base_uri": "https://localhost:8080/",
          "height": 108
        },
        "outputId": "3669ce84-29c9-49f3-f4ec-d5c46019625a"
      },
      "source": [
        "# 기초통계량 구하기 \n",
        "print(dset.groupby('ID')['x1'].describe())    # pandas의 describe함수 이용 "
      ],
      "execution_count": 53,
      "outputs": [
        {
          "output_type": "stream",
          "text": [
            "    count  mean      std  min   25%  50%   75%  max\n",
            "ID                                                 \n",
            "A     2.0   1.5  2.12132  0.0  0.75  1.5  2.25  3.0\n",
            "B     2.0   2.5  2.12132  1.0  1.75  2.5  3.25  4.0\n",
            "C     2.0   3.5  2.12132  2.0  2.75  3.5  4.25  5.0\n"
          ],
          "name": "stdout"
        }
      ]
    },
    {
      "cell_type": "code",
      "metadata": {
        "id": "kfQONg8r1y1l",
        "colab_type": "code",
        "colab": {
          "base_uri": "https://localhost:8080/",
          "height": 108
        },
        "outputId": "57bbf905-1445-46ff-f05a-32d0d3c92018"
      },
      "source": [
        "import pandas as np\n",
        "df = pd.DataFrame([[1, 3, 5], [2, 4, 6]], index = ['a1', 'a2'], columns = ['b1', 'b2', 'b3'])\n",
        "df"
      ],
      "execution_count": 54,
      "outputs": [
        {
          "output_type": "execute_result",
          "data": {
            "text/html": [
              "<div>\n",
              "<style scoped>\n",
              "    .dataframe tbody tr th:only-of-type {\n",
              "        vertical-align: middle;\n",
              "    }\n",
              "\n",
              "    .dataframe tbody tr th {\n",
              "        vertical-align: top;\n",
              "    }\n",
              "\n",
              "    .dataframe thead th {\n",
              "        text-align: right;\n",
              "    }\n",
              "</style>\n",
              "<table border=\"1\" class=\"dataframe\">\n",
              "  <thead>\n",
              "    <tr style=\"text-align: right;\">\n",
              "      <th></th>\n",
              "      <th>b1</th>\n",
              "      <th>b2</th>\n",
              "      <th>b3</th>\n",
              "    </tr>\n",
              "  </thead>\n",
              "  <tbody>\n",
              "    <tr>\n",
              "      <th>a1</th>\n",
              "      <td>1</td>\n",
              "      <td>3</td>\n",
              "      <td>5</td>\n",
              "    </tr>\n",
              "    <tr>\n",
              "      <th>a2</th>\n",
              "      <td>2</td>\n",
              "      <td>4</td>\n",
              "      <td>6</td>\n",
              "    </tr>\n",
              "  </tbody>\n",
              "</table>\n",
              "</div>"
            ],
            "text/plain": [
              "    b1  b2  b3\n",
              "a1   1   3   5\n",
              "a2   2   4   6"
            ]
          },
          "metadata": {
            "tags": []
          },
          "execution_count": 54
        }
      ]
    },
    {
      "cell_type": "code",
      "metadata": {
        "id": "FtBk6RO52WZX",
        "colab_type": "code",
        "colab": {}
      },
      "source": [
        "df.to_excel('df1.xlsx', sheet_name = 'data')"
      ],
      "execution_count": 55,
      "outputs": []
    },
    {
      "cell_type": "code",
      "metadata": {
        "id": "ObBgIx9h2oix",
        "colab_type": "code",
        "colab": {
          "base_uri": "https://localhost:8080/",
          "height": 163
        },
        "outputId": "e2c65782-8887-47bc-e8d7-39728e28eaee"
      },
      "source": [
        "df1 = pd.read_excel('df1.xlsx', sheet_name = 'data', \n",
        "                    index_col = 0, header = 0)\n",
        "df2 = pd.read_excel('df1.xlsx', sheet_name = 'data', \n",
        "                    index_col = None, header = None)\n",
        "print(df1)\n",
        "print('-----------------------------')\n",
        "print(df2)"
      ],
      "execution_count": 56,
      "outputs": [
        {
          "output_type": "stream",
          "text": [
            "    b1  b2  b3\n",
            "a1   1   3   5\n",
            "a2   2   4   6\n",
            "-----------------------------\n",
            "     0   1   2   3\n",
            "0  NaN  b1  b2  b3\n",
            "1   a1   1   3   5\n",
            "2   a2   2   4   6\n"
          ],
          "name": "stdout"
        }
      ]
    },
    {
      "cell_type": "code",
      "metadata": {
        "id": "hz5tpzAf4E-Z",
        "colab_type": "code",
        "colab": {
          "base_uri": "https://localhost:8080/",
          "height": 163
        },
        "outputId": "328eeacd-e403-4168-e088-01a5df5163aa"
      },
      "source": [
        "df.to_csv('out.csv')   # 이건 어떤 함수?????????????? \n",
        "df3 = pd.read_csv('out.csv', index_col = 0, header = 0)\n",
        "print(df3)\n",
        "print('----------------------------')\n",
        "df4 = pd.read_csv('out.csv', index_col = None, header = None)\n",
        "print(df4)"
      ],
      "execution_count": 57,
      "outputs": [
        {
          "output_type": "stream",
          "text": [
            "    b1  b2  b3\n",
            "a1   1   3   5\n",
            "a2   2   4   6\n",
            "----------------------------\n",
            "     0   1   2   3\n",
            "0  NaN  b1  b2  b3\n",
            "1   a1   1   3   5\n",
            "2   a2   2   4   6\n"
          ],
          "name": "stdout"
        }
      ]
    },
    {
      "cell_type": "code",
      "metadata": {
        "id": "ujHy_rpJ7DDQ",
        "colab_type": "code",
        "colab": {
          "base_uri": "https://localhost:8080/",
          "height": 290
        },
        "outputId": "b2ee5cb1-c24c-4cc4-d146-9d5e2e180196"
      },
      "source": [
        "df5 = df3.reset_index(drop = True)\n",
        "print(df5)\n",
        "print('----------------------------')\n",
        "df6 = df5.T.reset_index(drop = True).T   # T는 뭐지? ★★★★★\n",
        "                                         # index가 행 이름만 삭제시키나봄 \n",
        "                                         # 이거 아마 df5에서 index (행 이름) 삭제된 거 가지고\n",
        "                                         # transpose해서 행 지우고, 다시 transpose한거인듯. \n",
        "print(df6)\n",
        "print('------------------------------')\n",
        "df_t = df.T\n",
        "print(df_t)\n",
        "print('------------------------------')\n",
        "df7 = df3.values\n",
        "print(df7)"
      ],
      "execution_count": 58,
      "outputs": [
        {
          "output_type": "stream",
          "text": [
            "   b1  b2  b3\n",
            "0   1   3   5\n",
            "1   2   4   6\n",
            "----------------------------\n",
            "   0  1  2\n",
            "0  1  3  5\n",
            "1  2  4  6\n",
            "------------------------------\n",
            "    a1  a2\n",
            "b1   1   2\n",
            "b2   3   4\n",
            "b3   5   6\n",
            "------------------------------\n",
            "[[1 3 5]\n",
            " [2 4 6]]\n"
          ],
          "name": "stdout"
        }
      ]
    },
    {
      "cell_type": "code",
      "metadata": {
        "id": "WDgfiYGy8O4j",
        "colab_type": "code",
        "colab": {}
      },
      "source": [
        "text = open('aa.txt', 'w')\n",
        "text.close()"
      ],
      "execution_count": 59,
      "outputs": []
    },
    {
      "cell_type": "code",
      "metadata": {
        "id": "eiFBMGEX8vkM",
        "colab_type": "code",
        "colab": {}
      },
      "source": [
        "text = open('aa.txt', 'w')\n",
        "for i in range(10) :\n",
        "  data = (\"Player%d.\\n\" %i)\n",
        "  text.write(data)\n",
        "text.close()"
      ],
      "execution_count": 60,
      "outputs": []
    },
    {
      "cell_type": "code",
      "metadata": {
        "id": "rodjnXvG9X2K",
        "colab_type": "code",
        "colab": {
          "base_uri": "https://localhost:8080/",
          "height": 54
        },
        "outputId": "7a914246-bcd3-49d3-fda0-3186164bfd42"
      },
      "source": [
        "# file 한 줄씩 읽기 \n",
        "text = open('aa.txt', 'r')   # open 했으면 \n",
        "line = text.readline()\n",
        "print(line)\n",
        "text.close()   # 무조건 close해야함"
      ],
      "execution_count": 61,
      "outputs": [
        {
          "output_type": "stream",
          "text": [
            "Player0.\n",
            "\n"
          ],
          "name": "stdout"
        }
      ]
    },
    {
      "cell_type": "code",
      "metadata": {
        "id": "s61traOZ9oDy",
        "colab_type": "code",
        "colab": {
          "base_uri": "https://localhost:8080/",
          "height": 217
        },
        "outputId": "64f11a0c-1c6a-4eea-def7-2cdf978fcefb"
      },
      "source": [
        "# file 전체 읽기\n",
        "text = open('aa.txt', 'r')\n",
        "data = text.read()\n",
        "print(data)\n",
        "text.close()"
      ],
      "execution_count": 62,
      "outputs": [
        {
          "output_type": "stream",
          "text": [
            "Player0.\n",
            "Player1.\n",
            "Player2.\n",
            "Player3.\n",
            "Player4.\n",
            "Player5.\n",
            "Player6.\n",
            "Player7.\n",
            "Player8.\n",
            "Player9.\n",
            "\n"
          ],
          "name": "stdout"
        }
      ]
    },
    {
      "cell_type": "code",
      "metadata": {
        "id": "QsOPhVBX9vM0",
        "colab_type": "code",
        "colab": {}
      },
      "source": [
        "# 기존 file에 데이터 추가\n",
        "text = open('aa.txt', 'a')  # a: add\n",
        "for i in range(10, 12) :\n",
        "  data = ('Player%d.\\n' %i)\n",
        "  text.write(data)\n",
        "text.close()"
      ],
      "execution_count": 63,
      "outputs": []
    },
    {
      "cell_type": "code",
      "metadata": {
        "id": "e1OkS8z19_pH",
        "colab_type": "code",
        "colab": {}
      },
      "source": [
        "# close 자동으로 하기\n",
        "with open('aa.txt', 'a') as text :  # with으로 하면 됨 \n",
        "  for i in range(12, 16) :\n",
        "    data = (\"write%d.\\n\" % i)\n",
        "    text.write(data)"
      ],
      "execution_count": 64,
      "outputs": []
    },
    {
      "cell_type": "code",
      "metadata": {
        "id": "sI39Qzrx-S-9",
        "colab_type": "code",
        "colab": {
          "base_uri": "https://localhost:8080/",
          "height": 326
        },
        "outputId": "a9118612-4c33-407f-fe0a-6fd947aef1d9"
      },
      "source": [
        "# file 확인\n",
        "text = open('aa.txt', 'r')\n",
        "data = text.read()\n",
        "print(data)\n",
        "text.close()"
      ],
      "execution_count": 65,
      "outputs": [
        {
          "output_type": "stream",
          "text": [
            "Player0.\n",
            "Player1.\n",
            "Player2.\n",
            "Player3.\n",
            "Player4.\n",
            "Player5.\n",
            "Player6.\n",
            "Player7.\n",
            "Player8.\n",
            "Player9.\n",
            "Player10.\n",
            "Player11.\n",
            "write12.\n",
            "write13.\n",
            "write14.\n",
            "write15.\n",
            "\n"
          ],
          "name": "stdout"
        }
      ]
    },
    {
      "cell_type": "code",
      "metadata": {
        "id": "nOpxqbdN-gHM",
        "colab_type": "code",
        "colab": {}
      },
      "source": [
        ""
      ],
      "execution_count": 65,
      "outputs": []
    }
  ]
}