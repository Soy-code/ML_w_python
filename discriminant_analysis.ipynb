{
  "nbformat": 4,
  "nbformat_minor": 0,
  "metadata": {
    "colab": {
      "name": "discriminant_analysis.ipynb",
      "provenance": [],
      "collapsed_sections": [],
      "authorship_tag": "ABX9TyO7F41azYmIJyQUnIQ1AbRm"
    },
    "kernelspec": {
      "name": "python3",
      "display_name": "Python 3"
    }
  },
  "cells": [
    {
      "cell_type": "code",
      "metadata": {
        "id": "Jlq8zjcLcu3e",
        "outputId": "d43fba55-0be7-45e8-c5a8-d1e2a8b5f1c7",
        "colab": {
          "base_uri": "https://localhost:8080/",
          "height": 198
        }
      },
      "source": [
        "import seaborn as sns\n",
        "iris = sns.load_dataset('iris')\n",
        "iris.head()"
      ],
      "execution_count": 40,
      "outputs": [
        {
          "output_type": "execute_result",
          "data": {
            "text/html": [
              "<div>\n",
              "<style scoped>\n",
              "    .dataframe tbody tr th:only-of-type {\n",
              "        vertical-align: middle;\n",
              "    }\n",
              "\n",
              "    .dataframe tbody tr th {\n",
              "        vertical-align: top;\n",
              "    }\n",
              "\n",
              "    .dataframe thead th {\n",
              "        text-align: right;\n",
              "    }\n",
              "</style>\n",
              "<table border=\"1\" class=\"dataframe\">\n",
              "  <thead>\n",
              "    <tr style=\"text-align: right;\">\n",
              "      <th></th>\n",
              "      <th>sepal_length</th>\n",
              "      <th>sepal_width</th>\n",
              "      <th>petal_length</th>\n",
              "      <th>petal_width</th>\n",
              "      <th>species</th>\n",
              "    </tr>\n",
              "  </thead>\n",
              "  <tbody>\n",
              "    <tr>\n",
              "      <th>0</th>\n",
              "      <td>5.1</td>\n",
              "      <td>3.5</td>\n",
              "      <td>1.4</td>\n",
              "      <td>0.2</td>\n",
              "      <td>setosa</td>\n",
              "    </tr>\n",
              "    <tr>\n",
              "      <th>1</th>\n",
              "      <td>4.9</td>\n",
              "      <td>3.0</td>\n",
              "      <td>1.4</td>\n",
              "      <td>0.2</td>\n",
              "      <td>setosa</td>\n",
              "    </tr>\n",
              "    <tr>\n",
              "      <th>2</th>\n",
              "      <td>4.7</td>\n",
              "      <td>3.2</td>\n",
              "      <td>1.3</td>\n",
              "      <td>0.2</td>\n",
              "      <td>setosa</td>\n",
              "    </tr>\n",
              "    <tr>\n",
              "      <th>3</th>\n",
              "      <td>4.6</td>\n",
              "      <td>3.1</td>\n",
              "      <td>1.5</td>\n",
              "      <td>0.2</td>\n",
              "      <td>setosa</td>\n",
              "    </tr>\n",
              "    <tr>\n",
              "      <th>4</th>\n",
              "      <td>5.0</td>\n",
              "      <td>3.6</td>\n",
              "      <td>1.4</td>\n",
              "      <td>0.2</td>\n",
              "      <td>setosa</td>\n",
              "    </tr>\n",
              "  </tbody>\n",
              "</table>\n",
              "</div>"
            ],
            "text/plain": [
              "   sepal_length  sepal_width  petal_length  petal_width species\n",
              "0           5.1          3.5           1.4          0.2  setosa\n",
              "1           4.9          3.0           1.4          0.2  setosa\n",
              "2           4.7          3.2           1.3          0.2  setosa\n",
              "3           4.6          3.1           1.5          0.2  setosa\n",
              "4           5.0          3.6           1.4          0.2  setosa"
            ]
          },
          "metadata": {
            "tags": []
          },
          "execution_count": 40
        }
      ]
    },
    {
      "cell_type": "code",
      "metadata": {
        "id": "jNBdI3R-dIud"
      },
      "source": [
        "X = iris.drop('species', axis = 1)  # predictor\n",
        "y = iris['species'] # response"
      ],
      "execution_count": 41,
      "outputs": []
    },
    {
      "cell_type": "code",
      "metadata": {
        "id": "vfXH9ORLfBei"
      },
      "source": [
        "from sklearn.preprocessing import LabelEncoder\n",
        "classle = LabelEncoder()\n",
        "y = classle.fit_transform(iris['species'].values) # factorization\n",
        "\n",
        "# divide into train and test datasets\n",
        "from sklearn.model_selection import train_test_split\n",
        "X_train, X_test, y_train, y_test = train_test_split(X, y, test_size = 0.3, \n",
        "                                                    random_state = 123, stratify = y)\n",
        "\n",
        "# standardization\n",
        "from sklearn.preprocessing import StandardScaler\n",
        "sc = StandardScaler()\n",
        "sc.fit(X_train)  # 이건 뭐지\n",
        "X_train_std = sc.transform(X_train)\n",
        "X_test_std = sc.transform(X_test)"
      ],
      "execution_count": 42,
      "outputs": []
    },
    {
      "cell_type": "code",
      "metadata": {
        "id": "J9Nr604mgjT8",
        "outputId": "8ac06e77-f1b4-49b6-d730-22e235f906e4",
        "colab": {
          "base_uri": "https://localhost:8080/",
          "height": 72
        }
      },
      "source": [
        "# LDA(linear discriminate) fitting\n",
        "from sklearn.discriminant_analysis import LinearDiscriminantAnalysis\n",
        "cld = LinearDiscriminantAnalysis(store_covariance = True)  # variance 저장한다는 건가 저장한다는 건가 \n",
        "cld.fit(X_train, y_train) # lda 적합\n",
        "y_train_pred = cld.predict(X_train) \n",
        "y_test_pred = cld.predict(X_test)  \n",
        "\n",
        "# get accuracies\n",
        "from sklearn.metrics import accuracy_score\n",
        "print(accuracy_score(y_train, y_train_pred))\n",
        "print('-----------------------------')\n",
        "print(accuracy_score(y_test, y_test_pred))"
      ],
      "execution_count": 43,
      "outputs": [
        {
          "output_type": "stream",
          "text": [
            "0.9714285714285714\n",
            "-----------------------------\n",
            "0.9777777777777777\n"
          ],
          "name": "stdout"
        }
      ]
    },
    {
      "cell_type": "code",
      "metadata": {
        "id": "PH1h3AQerOsB",
        "outputId": "f95f09ee-9028-4bd5-da52-4c65191a2fb3",
        "colab": {
          "base_uri": "https://localhost:8080/",
          "height": 72
        }
      },
      "source": [
        "# confusion matrix\n",
        "from sklearn.metrics import confusion_matrix\n",
        "print(confusion_matrix(y_test, y_test_pred))  "
      ],
      "execution_count": 44,
      "outputs": [
        {
          "output_type": "stream",
          "text": [
            "[[15  0  0]\n",
            " [ 0 14  1]\n",
            " [ 0  0 15]]\n"
          ],
          "name": "stdout"
        }
      ]
    },
    {
      "cell_type": "code",
      "metadata": {
        "id": "VfyI_aRHsIIY",
        "outputId": "d1eba02b-584a-477b-a4b0-90553fb09530",
        "colab": {
          "base_uri": "https://localhost:8080/",
          "height": 108
        }
      },
      "source": [
        "# 분류될 확률\n",
        "print(cld.predict_proba(X_test[:5]))  # test data의 처음 다섯 개의 obs가 각 범주로 분류될 확률"
      ],
      "execution_count": 45,
      "outputs": [
        {
          "output_type": "stream",
          "text": [
            "[[1.37493315e-32 5.86839618e-01 4.13160382e-01]\n",
            " [4.87880054e-42 4.08368248e-04 9.99591632e-01]\n",
            " [1.49908347e-19 9.99998532e-01 1.46841688e-06]\n",
            " [2.45317549e-24 9.97417042e-01 2.58295753e-03]\n",
            " [1.76506456e-50 1.80298359e-07 9.99999820e-01]]\n"
          ],
          "name": "stdout"
        }
      ]
    },
    {
      "cell_type": "code",
      "metadata": {
        "id": "D9ZNBT1b1qti",
        "outputId": "38d022ca-62a5-4a55-c0de-1f4892060993",
        "colab": {
          "base_uri": "https://localhost:8080/",
          "height": 308
        }
      },
      "source": [
        "print(cld.means_)  # sepal_length, sepal_width, petal_length, petal_width의 각 class별 평균 추정치 \n",
        "print('-----------------------------------')\n",
        "print(cld.xbar_)\n",
        "print('-----------------------------------')\n",
        "print(cld.covariance_) \n",
        "print('-----------------------------------')\n",
        "print(cld.intercept_) \n",
        "print('-----------------------------------')\n",
        "print(cld.coef_)"
      ],
      "execution_count": 46,
      "outputs": [
        {
          "output_type": "stream",
          "text": [
            "[[5.04285714 3.43428571 1.48857143 0.26571429]\n",
            " [5.89714286 2.76       4.22857143 1.3       ]\n",
            " [6.51714286 2.92857143 5.49142857 2.00285714]]\n",
            "-----------------------------------\n",
            "[5.81904762 3.04095238 3.73619048 1.18952381]\n",
            "-----------------------------------\n",
            "[[0.24214422 0.09216599 0.13204898 0.03123537]\n",
            " [0.09216599 0.11137415 0.05049796 0.03388844]\n",
            " [0.13204898 0.05049796 0.15023129 0.03387755]\n",
            " [0.03123537 0.03388844 0.03387755 0.04198639]]\n",
            "-----------------------------------\n",
            "[ -7.59067635  -5.09049202 -43.13606185]\n",
            "-----------------------------------\n",
            "[[  3.76019999  15.13062424 -17.99406267 -21.86481204]\n",
            " [ -0.91185753  -4.90401617   4.9041086    3.23562397]\n",
            " [ -2.84834246 -10.22660807  13.08995407  18.62918807]]\n"
          ],
          "name": "stdout"
        }
      ]
    },
    {
      "cell_type": "code",
      "metadata": {
        "id": "wIKEVlsn0J8g",
        "outputId": "d8bd9bf0-32aa-42fc-9069-27059bdedbbc",
        "colab": {
          "base_uri": "https://localhost:8080/",
          "height": 72
        }
      },
      "source": [
        "# QDA fitting\n",
        "from sklearn.discriminant_analysis import QuadraticDiscriminantAnalysis\n",
        "cqd = QuadraticDiscriminantAnalysis(store_covariance = True) \n",
        "\n",
        "cqd.fit(X_train, y_train)\n",
        "y_train_pred = cqd.predict(X_train)\n",
        "y_test_pred = cqd.predict(X_test)\n",
        "\n",
        "from sklearn.metrics import accuracy_score\n",
        "print(accuracy_score(y_train, y_train_pred))\n",
        "print('------------------------')\n",
        "print(accuracy_score(y_test, y_test_pred))\n",
        "# train의 예측력은 높아졌는데 test의 accuracy는 똑같음"
      ],
      "execution_count": 47,
      "outputs": [
        {
          "output_type": "stream",
          "text": [
            "0.9809523809523809\n",
            "------------------------\n",
            "0.9777777777777777\n"
          ],
          "name": "stdout"
        }
      ]
    },
    {
      "cell_type": "code",
      "metadata": {
        "id": "V_K6J_bW0_i5",
        "outputId": "cf26b29b-deab-47cb-9fe4-3cccb8eef4e8",
        "colab": {
          "base_uri": "https://localhost:8080/",
          "height": 310
        }
      },
      "source": [
        "print(cqd.means_)\n",
        "print('------------------------------')\n",
        "print(cqd.covariance_)\n",
        "print('------------------------------')  \n",
        "# cqd에는 intercept_랑 coef_ 존재 ᄂᄂ"
      ],
      "execution_count": 48,
      "outputs": [
        {
          "output_type": "stream",
          "text": [
            "[[5.04285714 3.43428571 1.48857143 0.26571429]\n",
            " [5.89714286 2.76       4.22857143 1.3       ]\n",
            " [6.51714286 2.92857143 5.49142857 2.00285714]]\n",
            "------------------------------\n",
            "[array([[0.13605042, 0.11084034, 0.0105042 , 0.01239496],\n",
            "       [0.11084034, 0.14467227, 0.01716807, 0.01444538],\n",
            "       [0.0105042 , 0.01716807, 0.03280672, 0.0072437 ],\n",
            "       [0.01239496, 0.01444538, 0.0072437 , 0.01290756]]), array([[0.22793277, 0.07635294, 0.13596639, 0.03647059],\n",
            "       [0.07635294, 0.09364706, 0.07852941, 0.04058824],\n",
            "       [0.13596639, 0.07852941, 0.18268908, 0.06      ],\n",
            "       [0.03647059, 0.04058824, 0.06      , 0.03647059]]), array([[0.38381513, 0.09743697, 0.26132773, 0.04759664],\n",
            "       [0.09743697, 0.10563025, 0.0602521 , 0.04962185],\n",
            "       [0.26132773, 0.0602521 , 0.24845378, 0.03737815],\n",
            "       [0.04759664, 0.04962185, 0.03737815, 0.08028571]])]\n",
            "------------------------------\n"
          ],
          "name": "stdout"
        }
      ]
    },
    {
      "cell_type": "code",
      "metadata": {
        "id": "UliZ3ghb1aaH",
        "outputId": "5a519c31-b595-47aa-8081-56f68c26e2e3",
        "colab": {
          "base_uri": "https://localhost:8080/",
          "height": 72
        }
      },
      "source": [
        "# confusion matrix\n",
        "from sklearn.metrics import confusion_matrix\n",
        "print(confusion_matrix(y_test, y_test_pred))"
      ],
      "execution_count": 49,
      "outputs": [
        {
          "output_type": "stream",
          "text": [
            "[[15  0  0]\n",
            " [ 0 14  1]\n",
            " [ 0  0 15]]\n"
          ],
          "name": "stdout"
        }
      ]
    },
    {
      "cell_type": "code",
      "metadata": {
        "id": "nKItd7SZ3C1J",
        "outputId": "d3fbbb5f-9163-45ce-8fe8-8ed190ea6e0f",
        "colab": {
          "base_uri": "https://localhost:8080/",
          "height": 108
        }
      },
      "source": [
        "print(cqd.predict_proba(X_test[:5]))"
      ],
      "execution_count": 50,
      "outputs": [
        {
          "output_type": "stream",
          "text": [
            "[[1.30728298e-117 4.25364516e-001 5.74635484e-001]\n",
            " [4.80474602e-185 1.17558005e-003 9.98824420e-001]\n",
            " [1.12275433e-056 9.99994095e-001 5.90465247e-006]\n",
            " [1.46316743e-102 9.99459623e-001 5.40377069e-004]\n",
            " [9.87276194e-236 3.84799384e-005 9.99961520e-001]]\n"
          ],
          "name": "stdout"
        }
      ]
    },
    {
      "cell_type": "code",
      "metadata": {
        "id": "0U-H8A3N3MeV",
        "outputId": "6fc49139-79c9-4534-826c-6826e60e4f52",
        "colab": {
          "base_uri": "https://localhost:8080/",
          "height": 126
        }
      },
      "source": [
        "# multinomial naive bayes model \n",
        "\n",
        "import numpy as np\n",
        "X = np.random.randint(5, size = (6, 20))  # entry가 1~5로 이루어진 6 X 20 행렬\n",
        "                                          # sample size = 6, number of variables = 20\n",
        "y = np.array([1, 2, 3, 4, 5, 6])  # class 가 6,,,, \n",
        "print(X)"
      ],
      "execution_count": 51,
      "outputs": [
        {
          "output_type": "stream",
          "text": [
            "[[4 3 2 1 4 1 2 2 3 3 0 1 2 2 0 2 4 3 0 2]\n",
            " [3 3 0 3 1 3 1 2 1 2 1 3 2 4 4 0 0 4 4 0]\n",
            " [2 3 3 1 3 2 3 2 0 4 4 2 2 4 1 2 3 0 4 3]\n",
            " [1 1 4 4 3 1 2 2 2 1 4 2 0 4 3 4 3 2 1 3]\n",
            " [0 4 4 1 0 3 4 4 4 2 4 3 4 0 1 4 3 1 0 3]\n",
            " [0 0 4 0 0 2 1 1 4 3 4 2 3 1 0 1 2 4 1 3]]\n"
          ],
          "name": "stdout"
        }
      ]
    },
    {
      "cell_type": "code",
      "metadata": {
        "id": "UUqes7On32yD",
        "outputId": "f35ee812-09d1-48ce-ecee-76dcffd2a974",
        "colab": {
          "base_uri": "https://localhost:8080/",
          "height": 35
        }
      },
      "source": [
        "from sklearn.naive_bayes import MultinomialNB \n",
        "mnb = MultinomialNB()\n",
        "mnb.fit(X, y)   \n",
        "print(mnb.predict(X))"
      ],
      "execution_count": 52,
      "outputs": [
        {
          "output_type": "stream",
          "text": [
            "[1 2 3 4 5 6]\n"
          ],
          "name": "stdout"
        }
      ]
    },
    {
      "cell_type": "code",
      "metadata": {
        "id": "VDWM12494JI3",
        "outputId": "b1866411-3181-43a4-9cd3-66a4eb6bfbaa",
        "colab": {
          "base_uri": "https://localhost:8080/",
          "height": 35
        }
      },
      "source": [
        "from sklearn.datasets import load_digits \n",
        "digits = load_digits()\n",
        "print(digits.images.shape) # 1797명, 8 X 8 픽셀"
      ],
      "execution_count": 53,
      "outputs": [
        {
          "output_type": "stream",
          "text": [
            "(1797, 8, 8)\n"
          ],
          "name": "stdout"
        }
      ]
    },
    {
      "cell_type": "code",
      "metadata": {
        "id": "3eFZP-MxFMfC",
        "outputId": "de83b096-bb5f-4f80-db35-d5556221d029",
        "colab": {
          "base_uri": "https://localhost:8080/",
          "height": 360
        }
      },
      "source": [
        "import matplotlib.pyplot as plt\n",
        "fit, axes = plt.subplots(10, 10, figsize = (18, 8), subplot_kw = {'xticks':[], 'yticks':[]}, \n",
        "                         gridspec_kw = dict(hspace = 0.1, wspace = 0.1))\n",
        "for i, ax in enumerate(axes.flat) :\n",
        "  ax.imshow(digits.images[i], cmap = \"binary\", interpolation = 'nearest')\n",
        "  ax.text(0.05, 0.05, str(digits.target[i]), transform = ax.transAxes, color = 'green') "
      ],
      "execution_count": 54,
      "outputs": [
        {
          "output_type": "display_data",
          "data": {
            "image/png": "[encoded data removed]",
            "text/plain": [
              "<Figure size 1296x576 with 100 Axes>"
            ]
          },
          "metadata": {
            "tags": []
          }
        }
      ]
    },
    {
      "cell_type": "code",
      "metadata": {
        "id": "5ubpfcitJZaE",
        "outputId": "f5a57781-d10d-424d-b4e4-db663031e006",
        "colab": {
          "base_uri": "https://localhost:8080/",
          "height": 54
        }
      },
      "source": [
        "X = digits.data  # 8 X 8..\n",
        "y = digits.target\n",
        "print(X.shape)\n",
        "print(y.shape)"
      ],
      "execution_count": 55,
      "outputs": [
        {
          "output_type": "stream",
          "text": [
            "(1797, 64)\n",
            "(1797,)\n"
          ],
          "name": "stdout"
        }
      ]
    },
    {
      "cell_type": "code",
      "metadata": {
        "id": "zdMfx769JzXN",
        "outputId": "4113276f-b108-4f00-8d47-5e8685345a6d",
        "colab": {
          "base_uri": "https://localhost:8080/",
          "height": 35
        }
      },
      "source": [
        "from sklearn.model_selection import train_test_split\n",
        "X_train, X_test, y_train, y_test = train_test_split(X, y, test_size = 0.3, random_state = 0)\n",
        "\n",
        "# simple normal bayes model \n",
        "from sklearn.naive_bayes import GaussianNB\n",
        "gnb = GaussianNB()\n",
        "gnb.fit(X_train, y_train)\n",
        "y_test_pred = gnb.predict(X_test)\n",
        "\n",
        "# accuracy \n",
        "from sklearn.metrics import accuracy_score \n",
        "print(accuracy_score(y_test, y_test_pred))"
      ],
      "execution_count": 56,
      "outputs": [
        {
          "output_type": "stream",
          "text": [
            "0.8240740740740741\n"
          ],
          "name": "stdout"
        }
      ]
    },
    {
      "cell_type": "code",
      "metadata": {
        "id": "wVrtC17ZKZJD",
        "outputId": "3f3baf6a-a034-4036-ba8c-04fbd831d320",
        "colab": {
          "base_uri": "https://localhost:8080/",
          "height": 199
        }
      },
      "source": [
        "# confusion matrix\n",
        "from sklearn.metrics import confusion_matrix\n",
        "mat = confusion_matrix(y_test, y_test_pred)\n",
        "print(mat)"
      ],
      "execution_count": 57,
      "outputs": [
        {
          "output_type": "stream",
          "text": [
            "[[45  0  0  0  0  0  0  0  0  0]\n",
            " [ 0 46  0  0  0  0  0  0  6  0]\n",
            " [ 0  6 26  5  0  0  0  0 16  0]\n",
            " [ 0  0  0 46  0  0  0  1  6  1]\n",
            " [ 0  3  0  0 36  0  2  7  0  0]\n",
            " [ 0  1  0  2  0 51  1  2  0  0]\n",
            " [ 0  0  1  0  0  0 59  0  0  0]\n",
            " [ 0  0  0  0  1  0  0 52  0  0]\n",
            " [ 0  5  0  3  0  1  0  1 51  0]\n",
            " [ 0  1  0 14  1  0  0  3  5 33]]\n"
          ],
          "name": "stdout"
        }
      ]
    },
    {
      "cell_type": "code",
      "metadata": {
        "id": "KXlwhbr-Kk1z",
        "outputId": "11931e4a-b84b-45f3-d805-942b8586bfc2",
        "colab": {
          "base_uri": "https://localhost:8080/",
          "height": 297
        }
      },
      "source": [
        "import seaborn as sns\n",
        "sns.heatmap(mat, square = True, annot = True, cbar = False)\n",
        "plt.xlabel('predicted')\n",
        "plt.ylabel('True values')"
      ],
      "execution_count": 58,
      "outputs": [
        {
          "output_type": "execute_result",
          "data": {
            "text/plain": [
              "Text(91.68, 0.5, 'True values')"
            ]
          },
          "metadata": {
            "tags": []
          },
          "execution_count": 58
        },
        {
          "output_type": "display_data",
          "data": {
            "image/png": "[encoded data removed]",
            "text/plain": [
              "<Figure size 432x288 with 1 Axes>"
            ]
          },
          "metadata": {
            "tags": [],
            "needs_background": "light"
          }
        }
      ]
    },
    {
      "cell_type": "code",
      "metadata": {
        "id": "logVGmsPKytT"
      },
      "source": [
        ""
      ],
      "execution_count": null,
      "outputs": []
    }
  ]
}